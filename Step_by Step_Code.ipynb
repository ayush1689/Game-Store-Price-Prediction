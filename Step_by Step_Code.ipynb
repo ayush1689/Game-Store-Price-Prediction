{
 "cells": [
  {
   "cell_type": "code",
   "execution_count": 2,
   "metadata": {},
   "outputs": [
    {
     "name": "stderr",
     "output_type": "stream",
     "text": [
      "UsageError: Line magic function `%matplotlib.inline` not found.\n"
     ]
    }
   ],
   "source": [
    "## Importing Basic Libraries \n",
    "import numpy as np\n",
    "import pandas as pd\n",
    "import matplotlib.pyplot as plt\n",
    "%matplotlib.inline\n",
    "import seaborn as sns\n",
    "import warnings\n",
    "warnings.filterwarnings(\"ignore\")"
   ]
  },
  {
   "cell_type": "code",
   "execution_count": 1,
   "metadata": {},
   "outputs": [],
   "source": [
    "from rake_nltk import Rake"
   ]
  },
  {
   "cell_type": "code",
   "execution_count": 3,
   "metadata": {},
   "outputs": [],
   "source": [
    "# Reading all the dataframes\n",
    "\n",
    "# Train Data\n",
    "info_train = pd.read_csv('info_train.csv')\n",
    "metadata_train = pd.read_csv('metadata_train.csv')\n",
    "ratings_train = pd.read_csv('ratings_train.csv')\n",
    "\n",
    "# Test Data\n",
    "info_test = pd.read_csv('info_test.csv')\n",
    "metadata_test = pd.read_csv('metadata_test.csv')\n",
    "ratings_test = pd.read_csv('ratings_test.csv')\n",
    "\n",
    "# Sample Submission\n",
    "sample_submission = pd.read_csv('sample_submission.csv')"
   ]
  },
  {
   "cell_type": "code",
   "execution_count": 4,
   "metadata": {},
   "outputs": [
    {
     "name": "stdout",
     "output_type": "stream",
     "text": [
      "(12755, 10)\n",
      "(12755, 6)\n",
      "(12755, 4)\n",
      "(4252, 9)\n",
      "(4252, 6)\n",
      "(4252, 4)\n"
     ]
    }
   ],
   "source": [
    "# Getting the shape of all traning data frames\n",
    "print(info_train.shape)\n",
    "print(metadata_train.shape)\n",
    "print(ratings_train.shape)\n",
    "\n",
    "# Getting the shape of all testing data frames\n",
    "print(info_test.shape)\n",
    "print(metadata_test.shape)\n",
    "print(ratings_test.shape)"
   ]
  },
  {
   "cell_type": "code",
   "execution_count": 5,
   "metadata": {
    "scrolled": false
   },
   "outputs": [
    {
     "data": {
      "text/html": [
       "<div>\n",
       "<style scoped>\n",
       "    .dataframe tbody tr th:only-of-type {\n",
       "        vertical-align: middle;\n",
       "    }\n",
       "\n",
       "    .dataframe tbody tr th {\n",
       "        vertical-align: top;\n",
       "    }\n",
       "\n",
       "    .dataframe thead th {\n",
       "        text-align: right;\n",
       "    }\n",
       "</style>\n",
       "<table border=\"1\" class=\"dataframe\">\n",
       "  <thead>\n",
       "    <tr style=\"text-align: right;\">\n",
       "      <th></th>\n",
       "      <th>URL</th>\n",
       "      <th>Name</th>\n",
       "      <th>game_id</th>\n",
       "      <th>Subtitle</th>\n",
       "      <th>Icon URL</th>\n",
       "      <th>Description</th>\n",
       "      <th>Developer</th>\n",
       "      <th>Genres</th>\n",
       "      <th>Primary Genre</th>\n",
       "      <th>gamestore_price</th>\n",
       "    </tr>\n",
       "  </thead>\n",
       "  <tbody>\n",
       "    <tr>\n",
       "      <th>0</th>\n",
       "      <td>https://apps.apple.com/us/app/lottery-life-mon...</td>\n",
       "      <td>Lottery Life - Monopoly Wars</td>\n",
       "      <td>4173eb39-046d-431e-a504-b5418301a382</td>\n",
       "      <td>Monopoly for the New Millenium</td>\n",
       "      <td>https://is5-ssl.mzstatic.com/image/thumb/Purpl...</td>\n",
       "      <td>\"The spirit of Grand Theft Auto with the strat...</td>\n",
       "      <td>Opposite Lock Entertainment</td>\n",
       "      <td>Games, Simulation, Finance, Strategy</td>\n",
       "      <td>Games</td>\n",
       "      <td>0.0</td>\n",
       "    </tr>\n",
       "    <tr>\n",
       "      <th>1</th>\n",
       "      <td>https://apps.apple.com/us/app/cute-little-unic...</td>\n",
       "      <td>Cute Little Unicorn Match3</td>\n",
       "      <td>c8cb6281-34fc-4e54-b6f9-1a30657fb370</td>\n",
       "      <td>Little Unicorn Match Crash</td>\n",
       "      <td>https://is4-ssl.mzstatic.com/image/thumb/Purpl...</td>\n",
       "      <td>Cute Unicorn Match3 Blast Bomb is a matching p...</td>\n",
       "      <td>Angrisa Leungtanapolkul</td>\n",
       "      <td>Games, Entertainment, Strategy, Puzzle</td>\n",
       "      <td>Games</td>\n",
       "      <td>0.0</td>\n",
       "    </tr>\n",
       "    <tr>\n",
       "      <th>2</th>\n",
       "      <td>https://apps.apple.com/us/app/its-tanks/id5688...</td>\n",
       "      <td>\"It's Tanks!\"</td>\n",
       "      <td>6a30fa24-b1c7-44b0-96e8-34b9c6c7232b</td>\n",
       "      <td>NaN</td>\n",
       "      <td>https://is1-ssl.mzstatic.com/image/thumb/Purpl...</td>\n",
       "      <td>Bored of playing yet another multiplayer word ...</td>\n",
       "      <td>Bit By Bit Games Ltd</td>\n",
       "      <td>Games, Casual, Strategy</td>\n",
       "      <td>Games</td>\n",
       "      <td>0.0</td>\n",
       "    </tr>\n",
       "    <tr>\n",
       "      <th>3</th>\n",
       "      <td>https://apps.apple.com/us/app/dunes/id1453578024</td>\n",
       "      <td>Dunes</td>\n",
       "      <td>4df50e72-3f5c-470a-8834-b56b5610e17a</td>\n",
       "      <td>Warning: *May cause addiction*</td>\n",
       "      <td>https://is5-ssl.mzstatic.com/image/thumb/Purpl...</td>\n",
       "      <td>Race across our dunes in a effort to  achieve ...</td>\n",
       "      <td>Sympo Games PTY LTD</td>\n",
       "      <td>Games, Strategy, Productivity, Family</td>\n",
       "      <td>Games</td>\n",
       "      <td>0.0</td>\n",
       "    </tr>\n",
       "    <tr>\n",
       "      <th>4</th>\n",
       "      <td>https://apps.apple.com/us/app/cribbage-square-...</td>\n",
       "      <td>Cribbage Square Collection</td>\n",
       "      <td>d5832610-8ec2-44f5-989d-0f5fd9e67ef5</td>\n",
       "      <td>Solitaire crib games.</td>\n",
       "      <td>https://is3-ssl.mzstatic.com/image/thumb/Purpl...</td>\n",
       "      <td>CRIBBAGE SQUARE COLLECTION is an 12-in-1 colle...</td>\n",
       "      <td>MmpApps Corp.</td>\n",
       "      <td>Games, Card, Entertainment, Strategy</td>\n",
       "      <td>Games</td>\n",
       "      <td>0.0</td>\n",
       "    </tr>\n",
       "  </tbody>\n",
       "</table>\n",
       "</div>"
      ],
      "text/plain": [
       "                                                 URL  \\\n",
       "0  https://apps.apple.com/us/app/lottery-life-mon...   \n",
       "1  https://apps.apple.com/us/app/cute-little-unic...   \n",
       "2  https://apps.apple.com/us/app/its-tanks/id5688...   \n",
       "3   https://apps.apple.com/us/app/dunes/id1453578024   \n",
       "4  https://apps.apple.com/us/app/cribbage-square-...   \n",
       "\n",
       "                           Name                               game_id  \\\n",
       "0  Lottery Life - Monopoly Wars  4173eb39-046d-431e-a504-b5418301a382   \n",
       "1    Cute Little Unicorn Match3  c8cb6281-34fc-4e54-b6f9-1a30657fb370   \n",
       "2                 \"It's Tanks!\"  6a30fa24-b1c7-44b0-96e8-34b9c6c7232b   \n",
       "3                         Dunes  4df50e72-3f5c-470a-8834-b56b5610e17a   \n",
       "4    Cribbage Square Collection  d5832610-8ec2-44f5-989d-0f5fd9e67ef5   \n",
       "\n",
       "                         Subtitle  \\\n",
       "0  Monopoly for the New Millenium   \n",
       "1      Little Unicorn Match Crash   \n",
       "2                             NaN   \n",
       "3  Warning: *May cause addiction*   \n",
       "4           Solitaire crib games.   \n",
       "\n",
       "                                            Icon URL  \\\n",
       "0  https://is5-ssl.mzstatic.com/image/thumb/Purpl...   \n",
       "1  https://is4-ssl.mzstatic.com/image/thumb/Purpl...   \n",
       "2  https://is1-ssl.mzstatic.com/image/thumb/Purpl...   \n",
       "3  https://is5-ssl.mzstatic.com/image/thumb/Purpl...   \n",
       "4  https://is3-ssl.mzstatic.com/image/thumb/Purpl...   \n",
       "\n",
       "                                         Description  \\\n",
       "0  \"The spirit of Grand Theft Auto with the strat...   \n",
       "1  Cute Unicorn Match3 Blast Bomb is a matching p...   \n",
       "2  Bored of playing yet another multiplayer word ...   \n",
       "3  Race across our dunes in a effort to  achieve ...   \n",
       "4  CRIBBAGE SQUARE COLLECTION is an 12-in-1 colle...   \n",
       "\n",
       "                     Developer                                  Genres  \\\n",
       "0  Opposite Lock Entertainment    Games, Simulation, Finance, Strategy   \n",
       "1      Angrisa Leungtanapolkul  Games, Entertainment, Strategy, Puzzle   \n",
       "2         Bit By Bit Games Ltd                 Games, Casual, Strategy   \n",
       "3          Sympo Games PTY LTD   Games, Strategy, Productivity, Family   \n",
       "4                MmpApps Corp.    Games, Card, Entertainment, Strategy   \n",
       "\n",
       "  Primary Genre  gamestore_price  \n",
       "0         Games              0.0  \n",
       "1         Games              0.0  \n",
       "2         Games              0.0  \n",
       "3         Games              0.0  \n",
       "4         Games              0.0  "
      ]
     },
     "execution_count": 5,
     "metadata": {},
     "output_type": "execute_result"
    }
   ],
   "source": [
    "# Getting head of all the Dataframes\n",
    "\n",
    "info_train.head()"
   ]
  },
  {
   "cell_type": "code",
   "execution_count": 6,
   "metadata": {
    "scrolled": false
   },
   "outputs": [
    {
     "data": {
      "text/html": [
       "<div>\n",
       "<style scoped>\n",
       "    .dataframe tbody tr th:only-of-type {\n",
       "        vertical-align: middle;\n",
       "    }\n",
       "\n",
       "    .dataframe tbody tr th {\n",
       "        vertical-align: top;\n",
       "    }\n",
       "\n",
       "    .dataframe thead th {\n",
       "        text-align: right;\n",
       "    }\n",
       "</style>\n",
       "<table border=\"1\" class=\"dataframe\">\n",
       "  <thead>\n",
       "    <tr style=\"text-align: right;\">\n",
       "      <th></th>\n",
       "      <th>In-app Purchases</th>\n",
       "      <th>Languages</th>\n",
       "      <th>Size</th>\n",
       "      <th>Original Release Date</th>\n",
       "      <th>Current Version Release Date</th>\n",
       "      <th>game_id</th>\n",
       "    </tr>\n",
       "  </thead>\n",
       "  <tbody>\n",
       "    <tr>\n",
       "      <th>0</th>\n",
       "      <td>0.99, 0.99, 1.99, 0.99, 7.99, 3.99, 14.99</td>\n",
       "      <td>EN</td>\n",
       "      <td>388948992.0</td>\n",
       "      <td>14/05/2018</td>\n",
       "      <td>28/12/2018</td>\n",
       "      <td>4173eb39-046d-431e-a504-b5418301a382</td>\n",
       "    </tr>\n",
       "    <tr>\n",
       "      <th>1</th>\n",
       "      <td>NaN</td>\n",
       "      <td>EN</td>\n",
       "      <td>18596864.0</td>\n",
       "      <td>9/11/2017</td>\n",
       "      <td>9/11/2017</td>\n",
       "      <td>c8cb6281-34fc-4e54-b6f9-1a30657fb370</td>\n",
       "    </tr>\n",
       "    <tr>\n",
       "      <th>2</th>\n",
       "      <td>1.99, 0.99, 0.99, 0.99</td>\n",
       "      <td>EN</td>\n",
       "      <td>55459840.0</td>\n",
       "      <td>26/04/2013</td>\n",
       "      <td>30/05/2013</td>\n",
       "      <td>6a30fa24-b1c7-44b0-96e8-34b9c6c7232b</td>\n",
       "    </tr>\n",
       "    <tr>\n",
       "      <th>3</th>\n",
       "      <td>3.99</td>\n",
       "      <td>EN</td>\n",
       "      <td>187921408.0</td>\n",
       "      <td>23/02/2019</td>\n",
       "      <td>23/02/2019</td>\n",
       "      <td>4df50e72-3f5c-470a-8834-b56b5610e17a</td>\n",
       "    </tr>\n",
       "    <tr>\n",
       "      <th>4</th>\n",
       "      <td>NaN</td>\n",
       "      <td>EN</td>\n",
       "      <td>32905216.0</td>\n",
       "      <td>12/11/2013</td>\n",
       "      <td>16/01/2019</td>\n",
       "      <td>d5832610-8ec2-44f5-989d-0f5fd9e67ef5</td>\n",
       "    </tr>\n",
       "  </tbody>\n",
       "</table>\n",
       "</div>"
      ],
      "text/plain": [
       "                            In-app Purchases Languages         Size  \\\n",
       "0  0.99, 0.99, 1.99, 0.99, 7.99, 3.99, 14.99        EN  388948992.0   \n",
       "1                                        NaN        EN   18596864.0   \n",
       "2                     1.99, 0.99, 0.99, 0.99        EN   55459840.0   \n",
       "3                                       3.99        EN  187921408.0   \n",
       "4                                        NaN        EN   32905216.0   \n",
       "\n",
       "  Original Release Date Current Version Release Date  \\\n",
       "0            14/05/2018                   28/12/2018   \n",
       "1             9/11/2017                    9/11/2017   \n",
       "2            26/04/2013                   30/05/2013   \n",
       "3            23/02/2019                   23/02/2019   \n",
       "4            12/11/2013                   16/01/2019   \n",
       "\n",
       "                                game_id  \n",
       "0  4173eb39-046d-431e-a504-b5418301a382  \n",
       "1  c8cb6281-34fc-4e54-b6f9-1a30657fb370  \n",
       "2  6a30fa24-b1c7-44b0-96e8-34b9c6c7232b  \n",
       "3  4df50e72-3f5c-470a-8834-b56b5610e17a  \n",
       "4  d5832610-8ec2-44f5-989d-0f5fd9e67ef5  "
      ]
     },
     "execution_count": 6,
     "metadata": {},
     "output_type": "execute_result"
    }
   ],
   "source": [
    "metadata_train.head()"
   ]
  },
  {
   "cell_type": "code",
   "execution_count": 7,
   "metadata": {
    "scrolled": true
   },
   "outputs": [
    {
     "data": {
      "text/html": [
       "<div>\n",
       "<style scoped>\n",
       "    .dataframe tbody tr th:only-of-type {\n",
       "        vertical-align: middle;\n",
       "    }\n",
       "\n",
       "    .dataframe tbody tr th {\n",
       "        vertical-align: top;\n",
       "    }\n",
       "\n",
       "    .dataframe thead th {\n",
       "        text-align: right;\n",
       "    }\n",
       "</style>\n",
       "<table border=\"1\" class=\"dataframe\">\n",
       "  <thead>\n",
       "    <tr style=\"text-align: right;\">\n",
       "      <th></th>\n",
       "      <th>Average User Rating</th>\n",
       "      <th>User Rating Count</th>\n",
       "      <th>Age Rating</th>\n",
       "      <th>game_id</th>\n",
       "    </tr>\n",
       "  </thead>\n",
       "  <tbody>\n",
       "    <tr>\n",
       "      <th>0</th>\n",
       "      <td>4.0</td>\n",
       "      <td>25.0</td>\n",
       "      <td>12+</td>\n",
       "      <td>4173eb39-046d-431e-a504-b5418301a382</td>\n",
       "    </tr>\n",
       "    <tr>\n",
       "      <th>1</th>\n",
       "      <td>NaN</td>\n",
       "      <td>NaN</td>\n",
       "      <td>4+</td>\n",
       "      <td>c8cb6281-34fc-4e54-b6f9-1a30657fb370</td>\n",
       "    </tr>\n",
       "    <tr>\n",
       "      <th>2</th>\n",
       "      <td>3.5</td>\n",
       "      <td>27.0</td>\n",
       "      <td>9+</td>\n",
       "      <td>6a30fa24-b1c7-44b0-96e8-34b9c6c7232b</td>\n",
       "    </tr>\n",
       "    <tr>\n",
       "      <th>3</th>\n",
       "      <td>NaN</td>\n",
       "      <td>NaN</td>\n",
       "      <td>4+</td>\n",
       "      <td>4df50e72-3f5c-470a-8834-b56b5610e17a</td>\n",
       "    </tr>\n",
       "    <tr>\n",
       "      <th>4</th>\n",
       "      <td>NaN</td>\n",
       "      <td>NaN</td>\n",
       "      <td>4+</td>\n",
       "      <td>d5832610-8ec2-44f5-989d-0f5fd9e67ef5</td>\n",
       "    </tr>\n",
       "  </tbody>\n",
       "</table>\n",
       "</div>"
      ],
      "text/plain": [
       "   Average User Rating  User Rating Count Age Rating  \\\n",
       "0                  4.0               25.0        12+   \n",
       "1                  NaN                NaN         4+   \n",
       "2                  3.5               27.0         9+   \n",
       "3                  NaN                NaN         4+   \n",
       "4                  NaN                NaN         4+   \n",
       "\n",
       "                                game_id  \n",
       "0  4173eb39-046d-431e-a504-b5418301a382  \n",
       "1  c8cb6281-34fc-4e54-b6f9-1a30657fb370  \n",
       "2  6a30fa24-b1c7-44b0-96e8-34b9c6c7232b  \n",
       "3  4df50e72-3f5c-470a-8834-b56b5610e17a  \n",
       "4  d5832610-8ec2-44f5-989d-0f5fd9e67ef5  "
      ]
     },
     "execution_count": 7,
     "metadata": {},
     "output_type": "execute_result"
    }
   ],
   "source": [
    "ratings_train.head()"
   ]
  },
  {
   "cell_type": "code",
   "execution_count": 8,
   "metadata": {},
   "outputs": [
    {
     "name": "stdout",
     "output_type": "stream",
     "text": [
      "(12755, 18)\n"
     ]
    }
   ],
   "source": [
    "# Merging all the data into one single dataframe for test and train seprately\n",
    "\n",
    "# Train\n",
    "df_train_1 = pd.merge(info_train, metadata_train,on='game_id')\n",
    "df_train_2 = pd.merge(df_train_1, ratings_train,on='game_id')\n",
    "df_train = df_train_2.copy()\n",
    "print(df_train.shape)"
   ]
  },
  {
   "cell_type": "code",
   "execution_count": 9,
   "metadata": {
    "scrolled": false
   },
   "outputs": [
    {
     "data": {
      "text/html": [
       "<div>\n",
       "<style scoped>\n",
       "    .dataframe tbody tr th:only-of-type {\n",
       "        vertical-align: middle;\n",
       "    }\n",
       "\n",
       "    .dataframe tbody tr th {\n",
       "        vertical-align: top;\n",
       "    }\n",
       "\n",
       "    .dataframe thead th {\n",
       "        text-align: right;\n",
       "    }\n",
       "</style>\n",
       "<table border=\"1\" class=\"dataframe\">\n",
       "  <thead>\n",
       "    <tr style=\"text-align: right;\">\n",
       "      <th></th>\n",
       "      <th>URL</th>\n",
       "      <th>Name</th>\n",
       "      <th>game_id</th>\n",
       "      <th>Subtitle</th>\n",
       "      <th>Icon URL</th>\n",
       "      <th>Description</th>\n",
       "      <th>Developer</th>\n",
       "      <th>Genres</th>\n",
       "      <th>Primary Genre</th>\n",
       "      <th>gamestore_price</th>\n",
       "      <th>In-app Purchases</th>\n",
       "      <th>Languages</th>\n",
       "      <th>Size</th>\n",
       "      <th>Original Release Date</th>\n",
       "      <th>Current Version Release Date</th>\n",
       "      <th>Average User Rating</th>\n",
       "      <th>User Rating Count</th>\n",
       "      <th>Age Rating</th>\n",
       "    </tr>\n",
       "  </thead>\n",
       "  <tbody>\n",
       "    <tr>\n",
       "      <th>0</th>\n",
       "      <td>https://apps.apple.com/us/app/lottery-life-mon...</td>\n",
       "      <td>Lottery Life - Monopoly Wars</td>\n",
       "      <td>4173eb39-046d-431e-a504-b5418301a382</td>\n",
       "      <td>Monopoly for the New Millenium</td>\n",
       "      <td>https://is5-ssl.mzstatic.com/image/thumb/Purpl...</td>\n",
       "      <td>\"The spirit of Grand Theft Auto with the strat...</td>\n",
       "      <td>Opposite Lock Entertainment</td>\n",
       "      <td>Games, Simulation, Finance, Strategy</td>\n",
       "      <td>Games</td>\n",
       "      <td>0.0</td>\n",
       "      <td>0.99, 0.99, 1.99, 0.99, 7.99, 3.99, 14.99</td>\n",
       "      <td>EN</td>\n",
       "      <td>388948992.0</td>\n",
       "      <td>14/05/2018</td>\n",
       "      <td>28/12/2018</td>\n",
       "      <td>4.0</td>\n",
       "      <td>25.0</td>\n",
       "      <td>12+</td>\n",
       "    </tr>\n",
       "    <tr>\n",
       "      <th>1</th>\n",
       "      <td>https://apps.apple.com/us/app/cute-little-unic...</td>\n",
       "      <td>Cute Little Unicorn Match3</td>\n",
       "      <td>c8cb6281-34fc-4e54-b6f9-1a30657fb370</td>\n",
       "      <td>Little Unicorn Match Crash</td>\n",
       "      <td>https://is4-ssl.mzstatic.com/image/thumb/Purpl...</td>\n",
       "      <td>Cute Unicorn Match3 Blast Bomb is a matching p...</td>\n",
       "      <td>Angrisa Leungtanapolkul</td>\n",
       "      <td>Games, Entertainment, Strategy, Puzzle</td>\n",
       "      <td>Games</td>\n",
       "      <td>0.0</td>\n",
       "      <td>NaN</td>\n",
       "      <td>EN</td>\n",
       "      <td>18596864.0</td>\n",
       "      <td>9/11/2017</td>\n",
       "      <td>9/11/2017</td>\n",
       "      <td>NaN</td>\n",
       "      <td>NaN</td>\n",
       "      <td>4+</td>\n",
       "    </tr>\n",
       "    <tr>\n",
       "      <th>2</th>\n",
       "      <td>https://apps.apple.com/us/app/its-tanks/id5688...</td>\n",
       "      <td>\"It's Tanks!\"</td>\n",
       "      <td>6a30fa24-b1c7-44b0-96e8-34b9c6c7232b</td>\n",
       "      <td>NaN</td>\n",
       "      <td>https://is1-ssl.mzstatic.com/image/thumb/Purpl...</td>\n",
       "      <td>Bored of playing yet another multiplayer word ...</td>\n",
       "      <td>Bit By Bit Games Ltd</td>\n",
       "      <td>Games, Casual, Strategy</td>\n",
       "      <td>Games</td>\n",
       "      <td>0.0</td>\n",
       "      <td>1.99, 0.99, 0.99, 0.99</td>\n",
       "      <td>EN</td>\n",
       "      <td>55459840.0</td>\n",
       "      <td>26/04/2013</td>\n",
       "      <td>30/05/2013</td>\n",
       "      <td>3.5</td>\n",
       "      <td>27.0</td>\n",
       "      <td>9+</td>\n",
       "    </tr>\n",
       "    <tr>\n",
       "      <th>3</th>\n",
       "      <td>https://apps.apple.com/us/app/dunes/id1453578024</td>\n",
       "      <td>Dunes</td>\n",
       "      <td>4df50e72-3f5c-470a-8834-b56b5610e17a</td>\n",
       "      <td>Warning: *May cause addiction*</td>\n",
       "      <td>https://is5-ssl.mzstatic.com/image/thumb/Purpl...</td>\n",
       "      <td>Race across our dunes in a effort to  achieve ...</td>\n",
       "      <td>Sympo Games PTY LTD</td>\n",
       "      <td>Games, Strategy, Productivity, Family</td>\n",
       "      <td>Games</td>\n",
       "      <td>0.0</td>\n",
       "      <td>3.99</td>\n",
       "      <td>EN</td>\n",
       "      <td>187921408.0</td>\n",
       "      <td>23/02/2019</td>\n",
       "      <td>23/02/2019</td>\n",
       "      <td>NaN</td>\n",
       "      <td>NaN</td>\n",
       "      <td>4+</td>\n",
       "    </tr>\n",
       "    <tr>\n",
       "      <th>4</th>\n",
       "      <td>https://apps.apple.com/us/app/cribbage-square-...</td>\n",
       "      <td>Cribbage Square Collection</td>\n",
       "      <td>d5832610-8ec2-44f5-989d-0f5fd9e67ef5</td>\n",
       "      <td>Solitaire crib games.</td>\n",
       "      <td>https://is3-ssl.mzstatic.com/image/thumb/Purpl...</td>\n",
       "      <td>CRIBBAGE SQUARE COLLECTION is an 12-in-1 colle...</td>\n",
       "      <td>MmpApps Corp.</td>\n",
       "      <td>Games, Card, Entertainment, Strategy</td>\n",
       "      <td>Games</td>\n",
       "      <td>0.0</td>\n",
       "      <td>NaN</td>\n",
       "      <td>EN</td>\n",
       "      <td>32905216.0</td>\n",
       "      <td>12/11/2013</td>\n",
       "      <td>16/01/2019</td>\n",
       "      <td>NaN</td>\n",
       "      <td>NaN</td>\n",
       "      <td>4+</td>\n",
       "    </tr>\n",
       "  </tbody>\n",
       "</table>\n",
       "</div>"
      ],
      "text/plain": [
       "                                                 URL  \\\n",
       "0  https://apps.apple.com/us/app/lottery-life-mon...   \n",
       "1  https://apps.apple.com/us/app/cute-little-unic...   \n",
       "2  https://apps.apple.com/us/app/its-tanks/id5688...   \n",
       "3   https://apps.apple.com/us/app/dunes/id1453578024   \n",
       "4  https://apps.apple.com/us/app/cribbage-square-...   \n",
       "\n",
       "                           Name                               game_id  \\\n",
       "0  Lottery Life - Monopoly Wars  4173eb39-046d-431e-a504-b5418301a382   \n",
       "1    Cute Little Unicorn Match3  c8cb6281-34fc-4e54-b6f9-1a30657fb370   \n",
       "2                 \"It's Tanks!\"  6a30fa24-b1c7-44b0-96e8-34b9c6c7232b   \n",
       "3                         Dunes  4df50e72-3f5c-470a-8834-b56b5610e17a   \n",
       "4    Cribbage Square Collection  d5832610-8ec2-44f5-989d-0f5fd9e67ef5   \n",
       "\n",
       "                         Subtitle  \\\n",
       "0  Monopoly for the New Millenium   \n",
       "1      Little Unicorn Match Crash   \n",
       "2                             NaN   \n",
       "3  Warning: *May cause addiction*   \n",
       "4           Solitaire crib games.   \n",
       "\n",
       "                                            Icon URL  \\\n",
       "0  https://is5-ssl.mzstatic.com/image/thumb/Purpl...   \n",
       "1  https://is4-ssl.mzstatic.com/image/thumb/Purpl...   \n",
       "2  https://is1-ssl.mzstatic.com/image/thumb/Purpl...   \n",
       "3  https://is5-ssl.mzstatic.com/image/thumb/Purpl...   \n",
       "4  https://is3-ssl.mzstatic.com/image/thumb/Purpl...   \n",
       "\n",
       "                                         Description  \\\n",
       "0  \"The spirit of Grand Theft Auto with the strat...   \n",
       "1  Cute Unicorn Match3 Blast Bomb is a matching p...   \n",
       "2  Bored of playing yet another multiplayer word ...   \n",
       "3  Race across our dunes in a effort to  achieve ...   \n",
       "4  CRIBBAGE SQUARE COLLECTION is an 12-in-1 colle...   \n",
       "\n",
       "                     Developer                                  Genres  \\\n",
       "0  Opposite Lock Entertainment    Games, Simulation, Finance, Strategy   \n",
       "1      Angrisa Leungtanapolkul  Games, Entertainment, Strategy, Puzzle   \n",
       "2         Bit By Bit Games Ltd                 Games, Casual, Strategy   \n",
       "3          Sympo Games PTY LTD   Games, Strategy, Productivity, Family   \n",
       "4                MmpApps Corp.    Games, Card, Entertainment, Strategy   \n",
       "\n",
       "  Primary Genre  gamestore_price                           In-app Purchases  \\\n",
       "0         Games              0.0  0.99, 0.99, 1.99, 0.99, 7.99, 3.99, 14.99   \n",
       "1         Games              0.0                                        NaN   \n",
       "2         Games              0.0                     1.99, 0.99, 0.99, 0.99   \n",
       "3         Games              0.0                                       3.99   \n",
       "4         Games              0.0                                        NaN   \n",
       "\n",
       "  Languages         Size Original Release Date Current Version Release Date  \\\n",
       "0        EN  388948992.0            14/05/2018                   28/12/2018   \n",
       "1        EN   18596864.0             9/11/2017                    9/11/2017   \n",
       "2        EN   55459840.0            26/04/2013                   30/05/2013   \n",
       "3        EN  187921408.0            23/02/2019                   23/02/2019   \n",
       "4        EN   32905216.0            12/11/2013                   16/01/2019   \n",
       "\n",
       "   Average User Rating  User Rating Count Age Rating  \n",
       "0                  4.0               25.0        12+  \n",
       "1                  NaN                NaN         4+  \n",
       "2                  3.5               27.0         9+  \n",
       "3                  NaN                NaN         4+  \n",
       "4                  NaN                NaN         4+  "
      ]
     },
     "execution_count": 9,
     "metadata": {},
     "output_type": "execute_result"
    }
   ],
   "source": [
    "df_train.head()"
   ]
  },
  {
   "cell_type": "code",
   "execution_count": 10,
   "metadata": {},
   "outputs": [
    {
     "data": {
      "text/plain": [
       "Index(['URL', 'Name', 'game_id', 'Subtitle', 'Icon URL', 'Description',\n",
       "       'Developer', 'Genres', 'Primary Genre', 'gamestore_price',\n",
       "       'In-app Purchases', 'Languages', 'Size', 'Original Release Date',\n",
       "       'Current Version Release Date', 'Average User Rating',\n",
       "       'User Rating Count', 'Age Rating'],\n",
       "      dtype='object')"
      ]
     },
     "execution_count": 10,
     "metadata": {},
     "output_type": "execute_result"
    }
   ],
   "source": [
    "# Getting all the columns of the training dataframe\n",
    "\n",
    "df_train.columns"
   ]
  },
  {
   "cell_type": "code",
   "execution_count": 11,
   "metadata": {
    "scrolled": false
   },
   "outputs": [
    {
     "data": {
      "text/html": [
       "<div>\n",
       "<style scoped>\n",
       "    .dataframe tbody tr th:only-of-type {\n",
       "        vertical-align: middle;\n",
       "    }\n",
       "\n",
       "    .dataframe tbody tr th {\n",
       "        vertical-align: top;\n",
       "    }\n",
       "\n",
       "    .dataframe thead th {\n",
       "        text-align: right;\n",
       "    }\n",
       "</style>\n",
       "<table border=\"1\" class=\"dataframe\">\n",
       "  <thead>\n",
       "    <tr style=\"text-align: right;\">\n",
       "      <th></th>\n",
       "      <th>URL</th>\n",
       "      <th>Name</th>\n",
       "      <th>game_id</th>\n",
       "      <th>Subtitle</th>\n",
       "      <th>Icon URL</th>\n",
       "      <th>Description</th>\n",
       "      <th>Developer</th>\n",
       "      <th>Genres</th>\n",
       "      <th>Primary Genre</th>\n",
       "    </tr>\n",
       "  </thead>\n",
       "  <tbody>\n",
       "    <tr>\n",
       "      <th>0</th>\n",
       "      <td>https://apps.apple.com/us/app/block-in-the-hol...</td>\n",
       "      <td>Block in the Hole Slider Puzzle Pro</td>\n",
       "      <td>a77cadb6-07f5-4f48-b012-df7b758cc3e4</td>\n",
       "      <td>NaN</td>\n",
       "      <td>https://is1-ssl.mzstatic.com/image/thumb/Purpl...</td>\n",
       "      <td>\"Check out this addictive and unique puzzle ga...</td>\n",
       "      <td>Amy Prizer</td>\n",
       "      <td>Games, Strategy, Puzzle</td>\n",
       "      <td>Games</td>\n",
       "    </tr>\n",
       "    <tr>\n",
       "      <th>1</th>\n",
       "      <td>https://apps.apple.com/us/app/craft-warriors/i...</td>\n",
       "      <td>Craft Warriors</td>\n",
       "      <td>70a0edf7-3bad-4a4b-bad4-f7fdd6aca14e</td>\n",
       "      <td>A New Generation RTS</td>\n",
       "      <td>https://is1-ssl.mzstatic.com/image/thumb/Purpl...</td>\n",
       "      <td>\"A new generation 3D real-time strategy game!\\...</td>\n",
       "      <td>Translimit, Inc.</td>\n",
       "      <td>Games, Strategy, Simulation</td>\n",
       "      <td>Games</td>\n",
       "    </tr>\n",
       "    <tr>\n",
       "      <th>2</th>\n",
       "      <td>https://apps.apple.com/us/app/zero-tbs/id13998...</td>\n",
       "      <td>Zero TBS</td>\n",
       "      <td>ceb10cdb-ecf0-4028-b31b-54248fc102fe</td>\n",
       "      <td>Turn-based Strategy War Chess</td>\n",
       "      <td>https://is1-ssl.mzstatic.com/image/thumb/Purpl...</td>\n",
       "      <td>A classic turn-based strategy that go straight...</td>\n",
       "      <td>FBM</td>\n",
       "      <td>Games, Strategy, Board</td>\n",
       "      <td>Games</td>\n",
       "    </tr>\n",
       "    <tr>\n",
       "      <th>3</th>\n",
       "      <td>https://apps.apple.com/us/app/search-and-find-...</td>\n",
       "      <td>Search and Find Hidden Objects</td>\n",
       "      <td>67e3cf3d-c7fc-4046-97b0-c7066c084a13</td>\n",
       "      <td>Horror Library Hidden Objects</td>\n",
       "      <td>https://is5-ssl.mzstatic.com/image/thumb/Purpl...</td>\n",
       "      <td>Infinitely joyful fairytale valley used to be ...</td>\n",
       "      <td>Ajaysinh Jadeja</td>\n",
       "      <td>Games, Puzzle, Strategy, Entertainment</td>\n",
       "      <td>Games</td>\n",
       "    </tr>\n",
       "    <tr>\n",
       "      <th>4</th>\n",
       "      <td>https://apps.apple.com/us/app/dodge-ball-game/...</td>\n",
       "      <td>Dodge Ball - Game</td>\n",
       "      <td>b521f9e1-74e5-410f-8971-4649a35f8e94</td>\n",
       "      <td>NaN</td>\n",
       "      <td>https://is3-ssl.mzstatic.com/image/thumb/Purpl...</td>\n",
       "      <td>Think you are up for this challenge?\\n\\nThe be...</td>\n",
       "      <td>Asfia sultana</td>\n",
       "      <td>Games, Strategy, Entertainment, Puzzle</td>\n",
       "      <td>Games</td>\n",
       "    </tr>\n",
       "  </tbody>\n",
       "</table>\n",
       "</div>"
      ],
      "text/plain": [
       "                                                 URL  \\\n",
       "0  https://apps.apple.com/us/app/block-in-the-hol...   \n",
       "1  https://apps.apple.com/us/app/craft-warriors/i...   \n",
       "2  https://apps.apple.com/us/app/zero-tbs/id13998...   \n",
       "3  https://apps.apple.com/us/app/search-and-find-...   \n",
       "4  https://apps.apple.com/us/app/dodge-ball-game/...   \n",
       "\n",
       "                                  Name                               game_id  \\\n",
       "0  Block in the Hole Slider Puzzle Pro  a77cadb6-07f5-4f48-b012-df7b758cc3e4   \n",
       "1                       Craft Warriors  70a0edf7-3bad-4a4b-bad4-f7fdd6aca14e   \n",
       "2                             Zero TBS  ceb10cdb-ecf0-4028-b31b-54248fc102fe   \n",
       "3       Search and Find Hidden Objects  67e3cf3d-c7fc-4046-97b0-c7066c084a13   \n",
       "4                    Dodge Ball - Game  b521f9e1-74e5-410f-8971-4649a35f8e94   \n",
       "\n",
       "                        Subtitle  \\\n",
       "0                            NaN   \n",
       "1           A New Generation RTS   \n",
       "2  Turn-based Strategy War Chess   \n",
       "3  Horror Library Hidden Objects   \n",
       "4                            NaN   \n",
       "\n",
       "                                            Icon URL  \\\n",
       "0  https://is1-ssl.mzstatic.com/image/thumb/Purpl...   \n",
       "1  https://is1-ssl.mzstatic.com/image/thumb/Purpl...   \n",
       "2  https://is1-ssl.mzstatic.com/image/thumb/Purpl...   \n",
       "3  https://is5-ssl.mzstatic.com/image/thumb/Purpl...   \n",
       "4  https://is3-ssl.mzstatic.com/image/thumb/Purpl...   \n",
       "\n",
       "                                         Description         Developer  \\\n",
       "0  \"Check out this addictive and unique puzzle ga...        Amy Prizer   \n",
       "1  \"A new generation 3D real-time strategy game!\\...  Translimit, Inc.   \n",
       "2  A classic turn-based strategy that go straight...               FBM   \n",
       "3  Infinitely joyful fairytale valley used to be ...   Ajaysinh Jadeja   \n",
       "4  Think you are up for this challenge?\\n\\nThe be...     Asfia sultana   \n",
       "\n",
       "                                   Genres Primary Genre  \n",
       "0                 Games, Strategy, Puzzle         Games  \n",
       "1             Games, Strategy, Simulation         Games  \n",
       "2                  Games, Strategy, Board         Games  \n",
       "3  Games, Puzzle, Strategy, Entertainment         Games  \n",
       "4  Games, Strategy, Entertainment, Puzzle         Games  "
      ]
     },
     "execution_count": 11,
     "metadata": {},
     "output_type": "execute_result"
    }
   ],
   "source": [
    "# Getting head of all the test Dataframes\n",
    "\n",
    "info_test.head()"
   ]
  },
  {
   "cell_type": "code",
   "execution_count": 12,
   "metadata": {
    "scrolled": true
   },
   "outputs": [
    {
     "data": {
      "text/html": [
       "<div>\n",
       "<style scoped>\n",
       "    .dataframe tbody tr th:only-of-type {\n",
       "        vertical-align: middle;\n",
       "    }\n",
       "\n",
       "    .dataframe tbody tr th {\n",
       "        vertical-align: top;\n",
       "    }\n",
       "\n",
       "    .dataframe thead th {\n",
       "        text-align: right;\n",
       "    }\n",
       "</style>\n",
       "<table border=\"1\" class=\"dataframe\">\n",
       "  <thead>\n",
       "    <tr style=\"text-align: right;\">\n",
       "      <th></th>\n",
       "      <th>In-app Purchases</th>\n",
       "      <th>Languages</th>\n",
       "      <th>Size</th>\n",
       "      <th>Original Release Date</th>\n",
       "      <th>Current Version Release Date</th>\n",
       "      <th>game_id</th>\n",
       "    </tr>\n",
       "  </thead>\n",
       "  <tbody>\n",
       "    <tr>\n",
       "      <th>0</th>\n",
       "      <td>NaN</td>\n",
       "      <td>EN</td>\n",
       "      <td>15772672.0</td>\n",
       "      <td>25/02/2017</td>\n",
       "      <td>25/02/2017</td>\n",
       "      <td>a77cadb6-07f5-4f48-b012-df7b758cc3e4</td>\n",
       "    </tr>\n",
       "    <tr>\n",
       "      <th>1</th>\n",
       "      <td>7.99, 1.99, 0.99, 4.99, 9.99, 19.99, 7.99, 3.9...</td>\n",
       "      <td>EN</td>\n",
       "      <td>97515520.0</td>\n",
       "      <td>22/04/2018</td>\n",
       "      <td>29/07/2019</td>\n",
       "      <td>70a0edf7-3bad-4a4b-bad4-f7fdd6aca14e</td>\n",
       "    </tr>\n",
       "    <tr>\n",
       "      <th>2</th>\n",
       "      <td>NaN</td>\n",
       "      <td>EN</td>\n",
       "      <td>36504576.0</td>\n",
       "      <td>26/07/2018</td>\n",
       "      <td>10/04/2019</td>\n",
       "      <td>ceb10cdb-ecf0-4028-b31b-54248fc102fe</td>\n",
       "    </tr>\n",
       "    <tr>\n",
       "      <th>3</th>\n",
       "      <td>1.99, 1.99</td>\n",
       "      <td>EN</td>\n",
       "      <td>32385024.0</td>\n",
       "      <td>3/06/2017</td>\n",
       "      <td>29/08/2018</td>\n",
       "      <td>67e3cf3d-c7fc-4046-97b0-c7066c084a13</td>\n",
       "    </tr>\n",
       "    <tr>\n",
       "      <th>4</th>\n",
       "      <td>NaN</td>\n",
       "      <td>EN</td>\n",
       "      <td>46436352.0</td>\n",
       "      <td>1/03/2016</td>\n",
       "      <td>1/03/2016</td>\n",
       "      <td>b521f9e1-74e5-410f-8971-4649a35f8e94</td>\n",
       "    </tr>\n",
       "  </tbody>\n",
       "</table>\n",
       "</div>"
      ],
      "text/plain": [
       "                                    In-app Purchases Languages        Size  \\\n",
       "0                                                NaN        EN  15772672.0   \n",
       "1  7.99, 1.99, 0.99, 4.99, 9.99, 19.99, 7.99, 3.9...        EN  97515520.0   \n",
       "2                                                NaN        EN  36504576.0   \n",
       "3                                         1.99, 1.99        EN  32385024.0   \n",
       "4                                                NaN        EN  46436352.0   \n",
       "\n",
       "  Original Release Date Current Version Release Date  \\\n",
       "0            25/02/2017                   25/02/2017   \n",
       "1            22/04/2018                   29/07/2019   \n",
       "2            26/07/2018                   10/04/2019   \n",
       "3             3/06/2017                   29/08/2018   \n",
       "4             1/03/2016                    1/03/2016   \n",
       "\n",
       "                                game_id  \n",
       "0  a77cadb6-07f5-4f48-b012-df7b758cc3e4  \n",
       "1  70a0edf7-3bad-4a4b-bad4-f7fdd6aca14e  \n",
       "2  ceb10cdb-ecf0-4028-b31b-54248fc102fe  \n",
       "3  67e3cf3d-c7fc-4046-97b0-c7066c084a13  \n",
       "4  b521f9e1-74e5-410f-8971-4649a35f8e94  "
      ]
     },
     "execution_count": 12,
     "metadata": {},
     "output_type": "execute_result"
    }
   ],
   "source": [
    "metadata_test.head()"
   ]
  },
  {
   "cell_type": "code",
   "execution_count": 13,
   "metadata": {
    "scrolled": true
   },
   "outputs": [
    {
     "data": {
      "text/html": [
       "<div>\n",
       "<style scoped>\n",
       "    .dataframe tbody tr th:only-of-type {\n",
       "        vertical-align: middle;\n",
       "    }\n",
       "\n",
       "    .dataframe tbody tr th {\n",
       "        vertical-align: top;\n",
       "    }\n",
       "\n",
       "    .dataframe thead th {\n",
       "        text-align: right;\n",
       "    }\n",
       "</style>\n",
       "<table border=\"1\" class=\"dataframe\">\n",
       "  <thead>\n",
       "    <tr style=\"text-align: right;\">\n",
       "      <th></th>\n",
       "      <th>Average User Rating</th>\n",
       "      <th>User Rating Count</th>\n",
       "      <th>Age Rating</th>\n",
       "      <th>game_id</th>\n",
       "    </tr>\n",
       "  </thead>\n",
       "  <tbody>\n",
       "    <tr>\n",
       "      <th>0</th>\n",
       "      <td>NaN</td>\n",
       "      <td>NaN</td>\n",
       "      <td>4+</td>\n",
       "      <td>a77cadb6-07f5-4f48-b012-df7b758cc3e4</td>\n",
       "    </tr>\n",
       "    <tr>\n",
       "      <th>1</th>\n",
       "      <td>4.5</td>\n",
       "      <td>14689.0</td>\n",
       "      <td>9+</td>\n",
       "      <td>70a0edf7-3bad-4a4b-bad4-f7fdd6aca14e</td>\n",
       "    </tr>\n",
       "    <tr>\n",
       "      <th>2</th>\n",
       "      <td>NaN</td>\n",
       "      <td>NaN</td>\n",
       "      <td>9+</td>\n",
       "      <td>ceb10cdb-ecf0-4028-b31b-54248fc102fe</td>\n",
       "    </tr>\n",
       "    <tr>\n",
       "      <th>3</th>\n",
       "      <td>2.5</td>\n",
       "      <td>10.0</td>\n",
       "      <td>4+</td>\n",
       "      <td>67e3cf3d-c7fc-4046-97b0-c7066c084a13</td>\n",
       "    </tr>\n",
       "    <tr>\n",
       "      <th>4</th>\n",
       "      <td>NaN</td>\n",
       "      <td>NaN</td>\n",
       "      <td>4+</td>\n",
       "      <td>b521f9e1-74e5-410f-8971-4649a35f8e94</td>\n",
       "    </tr>\n",
       "  </tbody>\n",
       "</table>\n",
       "</div>"
      ],
      "text/plain": [
       "   Average User Rating  User Rating Count Age Rating  \\\n",
       "0                  NaN                NaN         4+   \n",
       "1                  4.5            14689.0         9+   \n",
       "2                  NaN                NaN         9+   \n",
       "3                  2.5               10.0         4+   \n",
       "4                  NaN                NaN         4+   \n",
       "\n",
       "                                game_id  \n",
       "0  a77cadb6-07f5-4f48-b012-df7b758cc3e4  \n",
       "1  70a0edf7-3bad-4a4b-bad4-f7fdd6aca14e  \n",
       "2  ceb10cdb-ecf0-4028-b31b-54248fc102fe  \n",
       "3  67e3cf3d-c7fc-4046-97b0-c7066c084a13  \n",
       "4  b521f9e1-74e5-410f-8971-4649a35f8e94  "
      ]
     },
     "execution_count": 13,
     "metadata": {},
     "output_type": "execute_result"
    }
   ],
   "source": [
    "ratings_test.head()"
   ]
  },
  {
   "cell_type": "code",
   "execution_count": 14,
   "metadata": {},
   "outputs": [
    {
     "name": "stdout",
     "output_type": "stream",
     "text": [
      "(4252, 17)\n"
     ]
    }
   ],
   "source": [
    "# Merging all the data into one single dataframe for test and train seprately\n",
    "\n",
    "# Test\n",
    "df_test_1 = pd.merge(info_test, metadata_test,on='game_id')\n",
    "df_test_2 = pd.merge(df_test_1, ratings_test,on='game_id')\n",
    "df_test = df_test_2.copy()\n",
    "print(df_test.shape)"
   ]
  },
  {
   "cell_type": "code",
   "execution_count": 15,
   "metadata": {
    "scrolled": false
   },
   "outputs": [
    {
     "data": {
      "text/html": [
       "<div>\n",
       "<style scoped>\n",
       "    .dataframe tbody tr th:only-of-type {\n",
       "        vertical-align: middle;\n",
       "    }\n",
       "\n",
       "    .dataframe tbody tr th {\n",
       "        vertical-align: top;\n",
       "    }\n",
       "\n",
       "    .dataframe thead th {\n",
       "        text-align: right;\n",
       "    }\n",
       "</style>\n",
       "<table border=\"1\" class=\"dataframe\">\n",
       "  <thead>\n",
       "    <tr style=\"text-align: right;\">\n",
       "      <th></th>\n",
       "      <th>URL</th>\n",
       "      <th>Name</th>\n",
       "      <th>game_id</th>\n",
       "      <th>Subtitle</th>\n",
       "      <th>Icon URL</th>\n",
       "      <th>Description</th>\n",
       "      <th>Developer</th>\n",
       "      <th>Genres</th>\n",
       "      <th>Primary Genre</th>\n",
       "      <th>In-app Purchases</th>\n",
       "      <th>Languages</th>\n",
       "      <th>Size</th>\n",
       "      <th>Original Release Date</th>\n",
       "      <th>Current Version Release Date</th>\n",
       "      <th>Average User Rating</th>\n",
       "      <th>User Rating Count</th>\n",
       "      <th>Age Rating</th>\n",
       "    </tr>\n",
       "  </thead>\n",
       "  <tbody>\n",
       "    <tr>\n",
       "      <th>0</th>\n",
       "      <td>https://apps.apple.com/us/app/block-in-the-hol...</td>\n",
       "      <td>Block in the Hole Slider Puzzle Pro</td>\n",
       "      <td>a77cadb6-07f5-4f48-b012-df7b758cc3e4</td>\n",
       "      <td>NaN</td>\n",
       "      <td>https://is1-ssl.mzstatic.com/image/thumb/Purpl...</td>\n",
       "      <td>\"Check out this addictive and unique puzzle ga...</td>\n",
       "      <td>Amy Prizer</td>\n",
       "      <td>Games, Strategy, Puzzle</td>\n",
       "      <td>Games</td>\n",
       "      <td>NaN</td>\n",
       "      <td>EN</td>\n",
       "      <td>15772672.0</td>\n",
       "      <td>25/02/2017</td>\n",
       "      <td>25/02/2017</td>\n",
       "      <td>NaN</td>\n",
       "      <td>NaN</td>\n",
       "      <td>4+</td>\n",
       "    </tr>\n",
       "    <tr>\n",
       "      <th>1</th>\n",
       "      <td>https://apps.apple.com/us/app/craft-warriors/i...</td>\n",
       "      <td>Craft Warriors</td>\n",
       "      <td>70a0edf7-3bad-4a4b-bad4-f7fdd6aca14e</td>\n",
       "      <td>A New Generation RTS</td>\n",
       "      <td>https://is1-ssl.mzstatic.com/image/thumb/Purpl...</td>\n",
       "      <td>\"A new generation 3D real-time strategy game!\\...</td>\n",
       "      <td>Translimit, Inc.</td>\n",
       "      <td>Games, Strategy, Simulation</td>\n",
       "      <td>Games</td>\n",
       "      <td>7.99, 1.99, 0.99, 4.99, 9.99, 19.99, 7.99, 3.9...</td>\n",
       "      <td>EN</td>\n",
       "      <td>97515520.0</td>\n",
       "      <td>22/04/2018</td>\n",
       "      <td>29/07/2019</td>\n",
       "      <td>4.5</td>\n",
       "      <td>14689.0</td>\n",
       "      <td>9+</td>\n",
       "    </tr>\n",
       "    <tr>\n",
       "      <th>2</th>\n",
       "      <td>https://apps.apple.com/us/app/zero-tbs/id13998...</td>\n",
       "      <td>Zero TBS</td>\n",
       "      <td>ceb10cdb-ecf0-4028-b31b-54248fc102fe</td>\n",
       "      <td>Turn-based Strategy War Chess</td>\n",
       "      <td>https://is1-ssl.mzstatic.com/image/thumb/Purpl...</td>\n",
       "      <td>A classic turn-based strategy that go straight...</td>\n",
       "      <td>FBM</td>\n",
       "      <td>Games, Strategy, Board</td>\n",
       "      <td>Games</td>\n",
       "      <td>NaN</td>\n",
       "      <td>EN</td>\n",
       "      <td>36504576.0</td>\n",
       "      <td>26/07/2018</td>\n",
       "      <td>10/04/2019</td>\n",
       "      <td>NaN</td>\n",
       "      <td>NaN</td>\n",
       "      <td>9+</td>\n",
       "    </tr>\n",
       "    <tr>\n",
       "      <th>3</th>\n",
       "      <td>https://apps.apple.com/us/app/search-and-find-...</td>\n",
       "      <td>Search and Find Hidden Objects</td>\n",
       "      <td>67e3cf3d-c7fc-4046-97b0-c7066c084a13</td>\n",
       "      <td>Horror Library Hidden Objects</td>\n",
       "      <td>https://is5-ssl.mzstatic.com/image/thumb/Purpl...</td>\n",
       "      <td>Infinitely joyful fairytale valley used to be ...</td>\n",
       "      <td>Ajaysinh Jadeja</td>\n",
       "      <td>Games, Puzzle, Strategy, Entertainment</td>\n",
       "      <td>Games</td>\n",
       "      <td>1.99, 1.99</td>\n",
       "      <td>EN</td>\n",
       "      <td>32385024.0</td>\n",
       "      <td>3/06/2017</td>\n",
       "      <td>29/08/2018</td>\n",
       "      <td>2.5</td>\n",
       "      <td>10.0</td>\n",
       "      <td>4+</td>\n",
       "    </tr>\n",
       "    <tr>\n",
       "      <th>4</th>\n",
       "      <td>https://apps.apple.com/us/app/dodge-ball-game/...</td>\n",
       "      <td>Dodge Ball - Game</td>\n",
       "      <td>b521f9e1-74e5-410f-8971-4649a35f8e94</td>\n",
       "      <td>NaN</td>\n",
       "      <td>https://is3-ssl.mzstatic.com/image/thumb/Purpl...</td>\n",
       "      <td>Think you are up for this challenge?\\n\\nThe be...</td>\n",
       "      <td>Asfia sultana</td>\n",
       "      <td>Games, Strategy, Entertainment, Puzzle</td>\n",
       "      <td>Games</td>\n",
       "      <td>NaN</td>\n",
       "      <td>EN</td>\n",
       "      <td>46436352.0</td>\n",
       "      <td>1/03/2016</td>\n",
       "      <td>1/03/2016</td>\n",
       "      <td>NaN</td>\n",
       "      <td>NaN</td>\n",
       "      <td>4+</td>\n",
       "    </tr>\n",
       "  </tbody>\n",
       "</table>\n",
       "</div>"
      ],
      "text/plain": [
       "                                                 URL  \\\n",
       "0  https://apps.apple.com/us/app/block-in-the-hol...   \n",
       "1  https://apps.apple.com/us/app/craft-warriors/i...   \n",
       "2  https://apps.apple.com/us/app/zero-tbs/id13998...   \n",
       "3  https://apps.apple.com/us/app/search-and-find-...   \n",
       "4  https://apps.apple.com/us/app/dodge-ball-game/...   \n",
       "\n",
       "                                  Name                               game_id  \\\n",
       "0  Block in the Hole Slider Puzzle Pro  a77cadb6-07f5-4f48-b012-df7b758cc3e4   \n",
       "1                       Craft Warriors  70a0edf7-3bad-4a4b-bad4-f7fdd6aca14e   \n",
       "2                             Zero TBS  ceb10cdb-ecf0-4028-b31b-54248fc102fe   \n",
       "3       Search and Find Hidden Objects  67e3cf3d-c7fc-4046-97b0-c7066c084a13   \n",
       "4                    Dodge Ball - Game  b521f9e1-74e5-410f-8971-4649a35f8e94   \n",
       "\n",
       "                        Subtitle  \\\n",
       "0                            NaN   \n",
       "1           A New Generation RTS   \n",
       "2  Turn-based Strategy War Chess   \n",
       "3  Horror Library Hidden Objects   \n",
       "4                            NaN   \n",
       "\n",
       "                                            Icon URL  \\\n",
       "0  https://is1-ssl.mzstatic.com/image/thumb/Purpl...   \n",
       "1  https://is1-ssl.mzstatic.com/image/thumb/Purpl...   \n",
       "2  https://is1-ssl.mzstatic.com/image/thumb/Purpl...   \n",
       "3  https://is5-ssl.mzstatic.com/image/thumb/Purpl...   \n",
       "4  https://is3-ssl.mzstatic.com/image/thumb/Purpl...   \n",
       "\n",
       "                                         Description         Developer  \\\n",
       "0  \"Check out this addictive and unique puzzle ga...        Amy Prizer   \n",
       "1  \"A new generation 3D real-time strategy game!\\...  Translimit, Inc.   \n",
       "2  A classic turn-based strategy that go straight...               FBM   \n",
       "3  Infinitely joyful fairytale valley used to be ...   Ajaysinh Jadeja   \n",
       "4  Think you are up for this challenge?\\n\\nThe be...     Asfia sultana   \n",
       "\n",
       "                                   Genres Primary Genre  \\\n",
       "0                 Games, Strategy, Puzzle         Games   \n",
       "1             Games, Strategy, Simulation         Games   \n",
       "2                  Games, Strategy, Board         Games   \n",
       "3  Games, Puzzle, Strategy, Entertainment         Games   \n",
       "4  Games, Strategy, Entertainment, Puzzle         Games   \n",
       "\n",
       "                                    In-app Purchases Languages        Size  \\\n",
       "0                                                NaN        EN  15772672.0   \n",
       "1  7.99, 1.99, 0.99, 4.99, 9.99, 19.99, 7.99, 3.9...        EN  97515520.0   \n",
       "2                                                NaN        EN  36504576.0   \n",
       "3                                         1.99, 1.99        EN  32385024.0   \n",
       "4                                                NaN        EN  46436352.0   \n",
       "\n",
       "  Original Release Date Current Version Release Date  Average User Rating  \\\n",
       "0            25/02/2017                   25/02/2017                  NaN   \n",
       "1            22/04/2018                   29/07/2019                  4.5   \n",
       "2            26/07/2018                   10/04/2019                  NaN   \n",
       "3             3/06/2017                   29/08/2018                  2.5   \n",
       "4             1/03/2016                    1/03/2016                  NaN   \n",
       "\n",
       "   User Rating Count Age Rating  \n",
       "0                NaN         4+  \n",
       "1            14689.0         9+  \n",
       "2                NaN         9+  \n",
       "3               10.0         4+  \n",
       "4                NaN         4+  "
      ]
     },
     "execution_count": 15,
     "metadata": {},
     "output_type": "execute_result"
    }
   ],
   "source": [
    "df_test.head()"
   ]
  },
  {
   "cell_type": "code",
   "execution_count": 16,
   "metadata": {},
   "outputs": [
    {
     "data": {
      "text/plain": [
       "Index(['URL', 'Name', 'game_id', 'Subtitle', 'Icon URL', 'Description',\n",
       "       'Developer', 'Genres', 'Primary Genre', 'In-app Purchases', 'Languages',\n",
       "       'Size', 'Original Release Date', 'Current Version Release Date',\n",
       "       'Average User Rating', 'User Rating Count', 'Age Rating'],\n",
       "      dtype='object')"
      ]
     },
     "execution_count": 16,
     "metadata": {},
     "output_type": "execute_result"
    }
   ],
   "source": [
    "# Getting all the columns of the testing dataframe\n",
    "\n",
    "df_test.columns"
   ]
  },
  {
   "cell_type": "code",
   "execution_count": 17,
   "metadata": {},
   "outputs": [
    {
     "name": "stdout",
     "output_type": "stream",
     "text": [
      "<class 'pandas.core.frame.DataFrame'>\n",
      "Int64Index: 12755 entries, 0 to 12754\n",
      "Data columns (total 18 columns):\n",
      " #   Column                        Non-Null Count  Dtype  \n",
      "---  ------                        --------------  -----  \n",
      " 0   URL                           12755 non-null  object \n",
      " 1   Name                          12755 non-null  object \n",
      " 2   game_id                       12755 non-null  object \n",
      " 3   Subtitle                      3938 non-null   object \n",
      " 4   Icon URL                      12755 non-null  object \n",
      " 5   Description                   12755 non-null  object \n",
      " 6   Developer                     12755 non-null  object \n",
      " 7   Genres                        12755 non-null  object \n",
      " 8   Primary Genre                 12755 non-null  object \n",
      " 9   gamestore_price               12738 non-null  float64\n",
      " 10  In-app Purchases              5770 non-null   object \n",
      " 11  Languages                     12711 non-null  object \n",
      " 12  Size                          12755 non-null  float64\n",
      " 13  Original Release Date         12755 non-null  object \n",
      " 14  Current Version Release Date  12755 non-null  object \n",
      " 15  Average User Rating           5687 non-null   float64\n",
      " 16  User Rating Count             5687 non-null   float64\n",
      " 17  Age Rating                    12755 non-null  object \n",
      "dtypes: float64(4), object(14)\n",
      "memory usage: 1.8+ MB\n"
     ]
    }
   ],
   "source": [
    "# Performing the basic EDA to understand the dataframe \n",
    "\n",
    "df_train.info()"
   ]
  },
  {
   "cell_type": "code",
   "execution_count": 18,
   "metadata": {},
   "outputs": [
    {
     "data": {
      "text/html": [
       "<div>\n",
       "<style scoped>\n",
       "    .dataframe tbody tr th:only-of-type {\n",
       "        vertical-align: middle;\n",
       "    }\n",
       "\n",
       "    .dataframe tbody tr th {\n",
       "        vertical-align: top;\n",
       "    }\n",
       "\n",
       "    .dataframe thead th {\n",
       "        text-align: right;\n",
       "    }\n",
       "</style>\n",
       "<table border=\"1\" class=\"dataframe\">\n",
       "  <thead>\n",
       "    <tr style=\"text-align: right;\">\n",
       "      <th></th>\n",
       "      <th>count</th>\n",
       "      <th>mean</th>\n",
       "      <th>std</th>\n",
       "      <th>min</th>\n",
       "      <th>25%</th>\n",
       "      <th>50%</th>\n",
       "      <th>75%</th>\n",
       "      <th>max</th>\n",
       "    </tr>\n",
       "  </thead>\n",
       "  <tbody>\n",
       "    <tr>\n",
       "      <th>gamestore_price</th>\n",
       "      <td>12738.0</td>\n",
       "      <td>8.413000e-01</td>\n",
       "      <td>8.249099e+00</td>\n",
       "      <td>0.0</td>\n",
       "      <td>0.0</td>\n",
       "      <td>0.0</td>\n",
       "      <td>0.0</td>\n",
       "      <td>1.799900e+02</td>\n",
       "    </tr>\n",
       "    <tr>\n",
       "      <th>Size</th>\n",
       "      <td>12755.0</td>\n",
       "      <td>1.154937e+08</td>\n",
       "      <td>2.022066e+08</td>\n",
       "      <td>51328.0</td>\n",
       "      <td>22913536.0</td>\n",
       "      <td>56675328.0</td>\n",
       "      <td>132626944.0</td>\n",
       "      <td>3.916692e+09</td>\n",
       "    </tr>\n",
       "    <tr>\n",
       "      <th>Average User Rating</th>\n",
       "      <td>5687.0</td>\n",
       "      <td>4.055389e+00</td>\n",
       "      <td>7.543463e-01</td>\n",
       "      <td>1.0</td>\n",
       "      <td>3.5</td>\n",
       "      <td>4.5</td>\n",
       "      <td>4.5</td>\n",
       "      <td>5.000000e+00</td>\n",
       "    </tr>\n",
       "    <tr>\n",
       "      <th>User Rating Count</th>\n",
       "      <td>5687.0</td>\n",
       "      <td>2.772608e+03</td>\n",
       "      <td>2.509335e+04</td>\n",
       "      <td>5.0</td>\n",
       "      <td>12.0</td>\n",
       "      <td>45.0</td>\n",
       "      <td>311.0</td>\n",
       "      <td>1.277095e+06</td>\n",
       "    </tr>\n",
       "  </tbody>\n",
       "</table>\n",
       "</div>"
      ],
      "text/plain": [
       "                       count          mean           std      min         25%  \\\n",
       "gamestore_price      12738.0  8.413000e-01  8.249099e+00      0.0         0.0   \n",
       "Size                 12755.0  1.154937e+08  2.022066e+08  51328.0  22913536.0   \n",
       "Average User Rating   5687.0  4.055389e+00  7.543463e-01      1.0         3.5   \n",
       "User Rating Count     5687.0  2.772608e+03  2.509335e+04      5.0        12.0   \n",
       "\n",
       "                            50%          75%           max  \n",
       "gamestore_price             0.0          0.0  1.799900e+02  \n",
       "Size                 56675328.0  132626944.0  3.916692e+09  \n",
       "Average User Rating         4.5          4.5  5.000000e+00  \n",
       "User Rating Count          45.0        311.0  1.277095e+06  "
      ]
     },
     "execution_count": 18,
     "metadata": {},
     "output_type": "execute_result"
    }
   ],
   "source": [
    "df_train.describe().transpose()"
   ]
  },
  {
   "cell_type": "code",
   "execution_count": 19,
   "metadata": {},
   "outputs": [],
   "source": [
    "# 1. Only 4 columns have numerical values\n",
    "# 2. Data seems to have many missing values\n",
    "# 3. Standard Deviation for the gamestore_price and size is very large indicating outliers or skewness of data"
   ]
  },
  {
   "cell_type": "code",
   "execution_count": 20,
   "metadata": {},
   "outputs": [],
   "source": [
    "# Checking for missing values in the numerical columns individually\n",
    "# Checking for individual distribution of numerical columns i.e gamestore_price, size; Average User Rating and User Rating Count\n",
    "# Try to make data normal if possible with some transformations"
   ]
  },
  {
   "cell_type": "code",
   "execution_count": 21,
   "metadata": {},
   "outputs": [
    {
     "name": "stdout",
     "output_type": "stream",
     "text": [
      "17\n",
      "0\n",
      "7068\n",
      "7068\n"
     ]
    }
   ],
   "source": [
    "print(df_train['gamestore_price'].isnull().values.sum())\n",
    "print(df_train['Size'].isnull().values.sum())\n",
    "print(df_train['Average User Rating'].isnull().values.sum())\n",
    "print(df_train['User Rating Count'].isnull().values.sum())"
   ]
  },
  {
   "cell_type": "code",
   "execution_count": 22,
   "metadata": {},
   "outputs": [
    {
     "data": {
      "text/plain": [
       "(12755, 18)"
      ]
     },
     "execution_count": 22,
     "metadata": {},
     "output_type": "execute_result"
    }
   ],
   "source": [
    "df_train.shape"
   ]
  },
  {
   "cell_type": "code",
   "execution_count": 23,
   "metadata": {},
   "outputs": [],
   "source": [
    "# Droping missing values rows for gamestore_price as there are only very few missing values\n",
    "df_train = df_train.dropna(how='any', subset=['gamestore_price'])"
   ]
  },
  {
   "cell_type": "code",
   "execution_count": 24,
   "metadata": {},
   "outputs": [
    {
     "data": {
      "text/plain": [
       "(12738, 18)"
      ]
     },
     "execution_count": 24,
     "metadata": {},
     "output_type": "execute_result"
    }
   ],
   "source": [
    "df_train.shape"
   ]
  },
  {
   "cell_type": "code",
   "execution_count": 25,
   "metadata": {},
   "outputs": [],
   "source": [
    "import seaborn as sns"
   ]
  },
  {
   "cell_type": "code",
   "execution_count": 26,
   "metadata": {},
   "outputs": [],
   "source": [
    "# sns.pairplot(df_train,diag_kind='kde')"
   ]
  },
  {
   "cell_type": "code",
   "execution_count": 27,
   "metadata": {},
   "outputs": [],
   "source": [
    "## Numerical Data are very much right skewed \n",
    "## Average User Rating is catergorical column\n",
    "## Tranformation is verymuch required on gamestore_price and size column"
   ]
  },
  {
   "cell_type": "code",
   "execution_count": 28,
   "metadata": {},
   "outputs": [
    {
     "name": "stderr",
     "output_type": "stream",
     "text": [
      "C:\\Users\\Kumar Ayush\\Anaconda3\\lib\\site-packages\\seaborn\\distributions.py:2551: FutureWarning: `distplot` is a deprecated function and will be removed in a future version. Please adapt your code to use either `displot` (a figure-level function with similar flexibility) or `histplot` (an axes-level function for histograms).\n",
      "  warnings.warn(msg, FutureWarning)\n"
     ]
    },
    {
     "data": {
      "text/plain": [
       "<AxesSubplot:xlabel='gamestore_price', ylabel='Density'>"
      ]
     },
     "execution_count": 28,
     "metadata": {},
     "output_type": "execute_result"
    },
    {
     "data": {
      "image/png": "[encoded data removed]",
      "text/plain": [
       "<Figure size 432x288 with 1 Axes>"
      ]
     },
     "metadata": {
      "needs_background": "light"
     },
     "output_type": "display_data"
    }
   ],
   "source": [
    "\n",
    "## Exploring the gamestore_price column\n",
    "sns.distplot(df_train['gamestore_price'])"
   ]
  },
  {
   "cell_type": "code",
   "execution_count": 29,
   "metadata": {},
   "outputs": [
    {
     "data": {
      "text/plain": [
       "0.00      10686\n",
       "0.99        808\n",
       "1.99        378\n",
       "2.99        348\n",
       "4.99        177\n",
       "3.99        112\n",
       "9.99         70\n",
       "11.99        41\n",
       "5.99         29\n",
       "6.99         26\n",
       "179.99       25\n",
       "7.99         12\n",
       "8.99          8\n",
       "19.99         8\n",
       "14.99         3\n",
       "139.99        1\n",
       "16.99         1\n",
       "99.99         1\n",
       "29.99         1\n",
       "12.99         1\n",
       "37.99         1\n",
       "36.99         1\n",
       "Name: gamestore_price, dtype: int64"
      ]
     },
     "execution_count": 29,
     "metadata": {},
     "output_type": "execute_result"
    }
   ],
   "source": [
    "df_train['gamestore_price'].value_counts()"
   ]
  },
  {
   "cell_type": "code",
   "execution_count": 30,
   "metadata": {},
   "outputs": [],
   "source": [
    "df_train = df_train.groupby('gamestore_price').filter(lambda x: len(x) >= 50)"
   ]
  },
  {
   "cell_type": "code",
   "execution_count": 31,
   "metadata": {},
   "outputs": [
    {
     "name": "stderr",
     "output_type": "stream",
     "text": [
      "C:\\Users\\Kumar Ayush\\Anaconda3\\lib\\site-packages\\seaborn\\distributions.py:2551: FutureWarning: `distplot` is a deprecated function and will be removed in a future version. Please adapt your code to use either `displot` (a figure-level function with similar flexibility) or `histplot` (an axes-level function for histograms).\n",
      "  warnings.warn(msg, FutureWarning)\n"
     ]
    },
    {
     "data": {
      "text/plain": [
       "<AxesSubplot:xlabel='gamestore_price', ylabel='Density'>"
      ]
     },
     "execution_count": 31,
     "metadata": {},
     "output_type": "execute_result"
    },
    {
     "data": {
      "image/png": "[encoded data removed]",
      "text/plain": [
       "<Figure size 432x288 with 1 Axes>"
      ]
     },
     "metadata": {
      "needs_background": "light"
     },
     "output_type": "display_data"
    }
   ],
   "source": [
    "sns.distplot(df_train['gamestore_price'])"
   ]
  },
  {
   "cell_type": "code",
   "execution_count": 32,
   "metadata": {},
   "outputs": [
    {
     "data": {
      "text/plain": [
       "0.00    10686\n",
       "0.99      808\n",
       "1.99      378\n",
       "2.99      348\n",
       "4.99      177\n",
       "3.99      112\n",
       "9.99       70\n",
       "Name: gamestore_price, dtype: int64"
      ]
     },
     "execution_count": 32,
     "metadata": {},
     "output_type": "execute_result"
    }
   ],
   "source": [
    "df_train['gamestore_price'].value_counts()"
   ]
  },
  {
   "cell_type": "code",
   "execution_count": 33,
   "metadata": {},
   "outputs": [],
   "source": [
    "# Changing gamestore_pric as catergory data type\n",
    "\n",
    "## to_log = ['gamestore_price']\n",
    "## df_train['gamestore_price'] = df_train[to_log].applymap(lambda x: np.log(x+1))\n",
    "\n",
    "## df = df.astype({\"gamestore_price\":'category'}) \n",
    "## df['gamestore_price'].dtypes\n",
    "\n",
    "\n",
    "# Frequency Encoding as the data is Skewed\n",
    "\n",
    "# grouping by frequency \n",
    "## fq = df.groupby('gamestore_price').size()/len(df)    \n",
    "# mapping values to dataframe \n",
    "## df.loc[:, \"{}_freq_encode\".format('gamestore_price')] = df['gamestore_price'].map(fq)   \n",
    "# drop original column. \n",
    "## df = df.drop(['gamestore_price'], axis = 1)  \n",
    "## fq.plot.bar(stacked = True)   \n",
    "## df.head(10) "
   ]
  },
  {
   "cell_type": "code",
   "execution_count": 34,
   "metadata": {},
   "outputs": [
    {
     "name": "stderr",
     "output_type": "stream",
     "text": [
      "C:\\Users\\Kumar Ayush\\Anaconda3\\lib\\site-packages\\seaborn\\distributions.py:2551: FutureWarning: `distplot` is a deprecated function and will be removed in a future version. Please adapt your code to use either `displot` (a figure-level function with similar flexibility) or `histplot` (an axes-level function for histograms).\n",
      "  warnings.warn(msg, FutureWarning)\n"
     ]
    },
    {
     "data": {
      "text/plain": [
       "<AxesSubplot:xlabel='Size', ylabel='Density'>"
      ]
     },
     "execution_count": 34,
     "metadata": {},
     "output_type": "execute_result"
    },
    {
     "data": {
      "image/png": "[encoded data removed]",
      "text/plain": [
       "<Figure size 432x288 with 1 Axes>"
      ]
     },
     "metadata": {
      "needs_background": "light"
     },
     "output_type": "display_data"
    }
   ],
   "source": [
    "## Exploring the Size column\n",
    "sns.distplot(df_train['Size'])"
   ]
  },
  {
   "cell_type": "code",
   "execution_count": 35,
   "metadata": {},
   "outputs": [],
   "source": [
    "df_train['Size'] = df_train['Size']** (1.0 / 6)"
   ]
  },
  {
   "cell_type": "code",
   "execution_count": 36,
   "metadata": {
    "scrolled": false
   },
   "outputs": [
    {
     "name": "stderr",
     "output_type": "stream",
     "text": [
      "C:\\Users\\Kumar Ayush\\Anaconda3\\lib\\site-packages\\seaborn\\distributions.py:2551: FutureWarning: `distplot` is a deprecated function and will be removed in a future version. Please adapt your code to use either `displot` (a figure-level function with similar flexibility) or `histplot` (an axes-level function for histograms).\n",
      "  warnings.warn(msg, FutureWarning)\n"
     ]
    },
    {
     "data": {
      "text/plain": [
       "<AxesSubplot:xlabel='Size', ylabel='Density'>"
      ]
     },
     "execution_count": 36,
     "metadata": {},
     "output_type": "execute_result"
    },
    {
     "data": {
      "image/png": "[encoded data removed]",
      "text/plain": [
       "<Figure size 432x288 with 1 Axes>"
      ]
     },
     "metadata": {
      "needs_background": "light"
     },
     "output_type": "display_data"
    }
   ],
   "source": [
    "sns.distplot(df_train['Size'])"
   ]
  },
  {
   "cell_type": "code",
   "execution_count": 37,
   "metadata": {},
   "outputs": [
    {
     "name": "stderr",
     "output_type": "stream",
     "text": [
      "C:\\Users\\Kumar Ayush\\Anaconda3\\lib\\site-packages\\seaborn\\distributions.py:2551: FutureWarning: `distplot` is a deprecated function and will be removed in a future version. Please adapt your code to use either `displot` (a figure-level function with similar flexibility) or `histplot` (an axes-level function for histograms).\n",
      "  warnings.warn(msg, FutureWarning)\n"
     ]
    },
    {
     "data": {
      "text/plain": [
       "<AxesSubplot:xlabel='Size', ylabel='Density'>"
      ]
     },
     "execution_count": 37,
     "metadata": {},
     "output_type": "execute_result"
    },
    {
     "data": {
      "image/png": "[encoded data removed]",
      "text/plain": [
       "<Figure size 432x288 with 1 Axes>"
      ]
     },
     "metadata": {
      "needs_background": "light"
     },
     "output_type": "display_data"
    }
   ],
   "source": [
    "## Exploring the Size column in testing set\n",
    "sns.distplot(df_test['Size'])"
   ]
  },
  {
   "cell_type": "code",
   "execution_count": 38,
   "metadata": {},
   "outputs": [],
   "source": [
    "\n",
    "df_test['Size'] = df_test['Size']** (1.0 / 6)"
   ]
  },
  {
   "cell_type": "code",
   "execution_count": 39,
   "metadata": {
    "scrolled": false
   },
   "outputs": [
    {
     "name": "stderr",
     "output_type": "stream",
     "text": [
      "C:\\Users\\Kumar Ayush\\Anaconda3\\lib\\site-packages\\seaborn\\distributions.py:2551: FutureWarning: `distplot` is a deprecated function and will be removed in a future version. Please adapt your code to use either `displot` (a figure-level function with similar flexibility) or `histplot` (an axes-level function for histograms).\n",
      "  warnings.warn(msg, FutureWarning)\n"
     ]
    },
    {
     "data": {
      "text/plain": [
       "<AxesSubplot:xlabel='Size', ylabel='Density'>"
      ]
     },
     "execution_count": 39,
     "metadata": {},
     "output_type": "execute_result"
    },
    {
     "data": {
      "image/png": "[encoded data removed]",
      "text/plain": [
       "<Figure size 432x288 with 1 Axes>"
      ]
     },
     "metadata": {
      "needs_background": "light"
     },
     "output_type": "display_data"
    }
   ],
   "source": [
    "sns.distplot(df_test['Size'])"
   ]
  },
  {
   "cell_type": "code",
   "execution_count": 40,
   "metadata": {},
   "outputs": [
    {
     "name": "stdout",
     "output_type": "stream",
     "text": [
      "Index(['URL', 'Name', 'game_id', 'Subtitle', 'Icon URL', 'Description',\n",
      "       'Developer', 'Genres', 'Primary Genre', 'gamestore_price',\n",
      "       'In-app Purchases', 'Languages', 'Size', 'Original Release Date',\n",
      "       'Current Version Release Date', 'Average User Rating',\n",
      "       'User Rating Count', 'Age Rating'],\n",
      "      dtype='object')\n"
     ]
    }
   ],
   "source": [
    "print(df_train.columns)"
   ]
  },
  {
   "cell_type": "code",
   "execution_count": 41,
   "metadata": {},
   "outputs": [
    {
     "data": {
      "text/plain": [
       "count     5715\n",
       "unique    2902\n",
       "top       0.99\n",
       "freq       726\n",
       "Name: In-app Purchases, dtype: object"
      ]
     },
     "execution_count": 41,
     "metadata": {},
     "output_type": "execute_result"
    }
   ],
   "source": [
    "# Exploring In-app Purchases data\n",
    "\n",
    "df_train['In-app Purchases'].describe()"
   ]
  },
  {
   "cell_type": "code",
   "execution_count": 42,
   "metadata": {},
   "outputs": [],
   "source": [
    "df_train['In-app Purchases'] = df_train['In-app Purchases'].str.split(',', expand=True).astype(float).sum(axis=1)"
   ]
  },
  {
   "cell_type": "code",
   "execution_count": 43,
   "metadata": {},
   "outputs": [
    {
     "data": {
      "text/plain": [
       "count    12579.000000\n",
       "mean        21.050103\n",
       "std         54.792368\n",
       "min          0.000000\n",
       "25%          0.000000\n",
       "50%          0.000000\n",
       "75%          7.980000\n",
       "max        674.900000\n",
       "Name: In-app Purchases, dtype: float64"
      ]
     },
     "execution_count": 43,
     "metadata": {},
     "output_type": "execute_result"
    }
   ],
   "source": [
    "df_train['In-app Purchases'].describe()"
   ]
  },
  {
   "cell_type": "code",
   "execution_count": 44,
   "metadata": {},
   "outputs": [
    {
     "name": "stderr",
     "output_type": "stream",
     "text": [
      "C:\\Users\\Kumar Ayush\\Anaconda3\\lib\\site-packages\\seaborn\\distributions.py:2551: FutureWarning: `distplot` is a deprecated function and will be removed in a future version. Please adapt your code to use either `displot` (a figure-level function with similar flexibility) or `histplot` (an axes-level function for histograms).\n",
      "  warnings.warn(msg, FutureWarning)\n"
     ]
    },
    {
     "data": {
      "text/plain": [
       "<AxesSubplot:xlabel='In-app Purchases', ylabel='Density'>"
      ]
     },
     "execution_count": 44,
     "metadata": {},
     "output_type": "execute_result"
    },
    {
     "data": {
      "image/png": "[encoded data removed]",
      "text/plain": [
       "<Figure size 432x288 with 1 Axes>"
      ]
     },
     "metadata": {
      "needs_background": "light"
     },
     "output_type": "display_data"
    }
   ],
   "source": [
    "sns.distplot(df_train['In-app Purchases'])"
   ]
  },
  {
   "cell_type": "code",
   "execution_count": 45,
   "metadata": {},
   "outputs": [],
   "source": [
    "#df_train = df_train.groupby('In-app Purchases').filter(lambda x: len(x) >= 50)"
   ]
  },
  {
   "cell_type": "code",
   "execution_count": 46,
   "metadata": {},
   "outputs": [],
   "source": [
    "#sns.distplot(df_train['In-app Purchases'])"
   ]
  },
  {
   "cell_type": "code",
   "execution_count": 47,
   "metadata": {},
   "outputs": [
    {
     "data": {
      "text/plain": [
       "count     1913\n",
       "unique    1092\n",
       "top       0.99\n",
       "freq       217\n",
       "Name: In-app Purchases, dtype: object"
      ]
     },
     "execution_count": 47,
     "metadata": {},
     "output_type": "execute_result"
    }
   ],
   "source": [
    "# Testing Data\n",
    "\n",
    "df_test['In-app Purchases'].describe()"
   ]
  },
  {
   "cell_type": "code",
   "execution_count": 48,
   "metadata": {},
   "outputs": [],
   "source": [
    "df_test['In-app Purchases'] = df_test['In-app Purchases'].str.split(',', expand=True).astype(float).sum(axis=1)"
   ]
  },
  {
   "cell_type": "code",
   "execution_count": 49,
   "metadata": {},
   "outputs": [
    {
     "data": {
      "text/plain": [
       "count    4252.000000\n",
       "mean       22.540905\n",
       "std        57.222744\n",
       "min         0.000000\n",
       "25%         0.000000\n",
       "50%         0.000000\n",
       "75%         7.980000\n",
       "max       457.850000\n",
       "Name: In-app Purchases, dtype: float64"
      ]
     },
     "execution_count": 49,
     "metadata": {},
     "output_type": "execute_result"
    }
   ],
   "source": [
    "df_test['In-app Purchases'].describe()"
   ]
  },
  {
   "cell_type": "code",
   "execution_count": 50,
   "metadata": {},
   "outputs": [
    {
     "name": "stderr",
     "output_type": "stream",
     "text": [
      "C:\\Users\\Kumar Ayush\\Anaconda3\\lib\\site-packages\\seaborn\\distributions.py:2551: FutureWarning: `distplot` is a deprecated function and will be removed in a future version. Please adapt your code to use either `displot` (a figure-level function with similar flexibility) or `histplot` (an axes-level function for histograms).\n",
      "  warnings.warn(msg, FutureWarning)\n"
     ]
    },
    {
     "data": {
      "text/plain": [
       "<AxesSubplot:xlabel='In-app Purchases', ylabel='Density'>"
      ]
     },
     "execution_count": 50,
     "metadata": {},
     "output_type": "execute_result"
    },
    {
     "data": {
      "image/png": "[encoded data removed]",
      "text/plain": [
       "<Figure size 432x288 with 1 Axes>"
      ]
     },
     "metadata": {
      "needs_background": "light"
     },
     "output_type": "display_data"
    }
   ],
   "source": [
    "sns.distplot(df_test['In-app Purchases'])"
   ]
  },
  {
   "cell_type": "code",
   "execution_count": 51,
   "metadata": {},
   "outputs": [],
   "source": [
    "#df_test = df_test.groupby('In-app Purchases').filter(lambda x: len(x) >= 50)"
   ]
  },
  {
   "cell_type": "code",
   "execution_count": 52,
   "metadata": {},
   "outputs": [
    {
     "data": {
      "text/plain": [
       "count    5622.000000\n",
       "mean        4.055585\n",
       "std         0.756327\n",
       "min         1.000000\n",
       "25%         3.500000\n",
       "50%         4.500000\n",
       "75%         4.500000\n",
       "max         5.000000\n",
       "Name: Average User Rating, dtype: float64"
      ]
     },
     "execution_count": 52,
     "metadata": {},
     "output_type": "execute_result"
    }
   ],
   "source": [
    "# Exploring Average User Rating\n",
    "df_train['Average User Rating'].describe()"
   ]
  },
  {
   "cell_type": "code",
   "execution_count": 53,
   "metadata": {},
   "outputs": [
    {
     "data": {
      "text/plain": [
       "4.5    2107\n",
       "4.0    1285\n",
       "5.0     740\n",
       "3.5     685\n",
       "3.0     377\n",
       "2.5     253\n",
       "2.0     120\n",
       "1.5      46\n",
       "1.0       9\n",
       "Name: Average User Rating, dtype: int64"
      ]
     },
     "execution_count": 53,
     "metadata": {},
     "output_type": "execute_result"
    }
   ],
   "source": [
    "df_train['Average User Rating'].value_counts()"
   ]
  },
  {
   "cell_type": "code",
   "execution_count": 54,
   "metadata": {},
   "outputs": [
    {
     "data": {
      "text/plain": [
       "6957"
      ]
     },
     "execution_count": 54,
     "metadata": {},
     "output_type": "execute_result"
    }
   ],
   "source": [
    "df_train['Average User Rating'].isnull().sum()"
   ]
  },
  {
   "cell_type": "code",
   "execution_count": 55,
   "metadata": {},
   "outputs": [
    {
     "data": {
      "text/plain": [
       "Games                12058\n",
       "Education              153\n",
       "Entertainment          145\n",
       "Utilities               53\n",
       "Sports                  43\n",
       "Reference               25\n",
       "Stickers                22\n",
       "Finance                 16\n",
       "Productivity            13\n",
       "Business                 9\n",
       "Social Networking        8\n",
       "Book                     7\n",
       "News                     7\n",
       "Lifestyle                6\n",
       "Health & Fitness         5\n",
       "Medical                  2\n",
       "Music                    2\n",
       "Navigation               2\n",
       "Food & Drink             2\n",
       "Travel                   1\n",
       "Name: Primary Genre, dtype: int64"
      ]
     },
     "execution_count": 55,
     "metadata": {},
     "output_type": "execute_result"
    }
   ],
   "source": [
    "df_train['Primary Genre'].value_counts()"
   ]
  },
  {
   "cell_type": "code",
   "execution_count": 56,
   "metadata": {},
   "outputs": [
    {
     "data": {
      "text/plain": [
       "CategoricalDtype(categories=['Book', 'Business', 'Education', 'Entertainment', 'Finance',\n",
       "                  'Food & Drink', 'Games', 'Health & Fitness', 'Lifestyle',\n",
       "                  'Medical', 'Music', 'Navigation', 'News', 'Productivity',\n",
       "                  'Reference', 'Social Networking', 'Sports', 'Stickers',\n",
       "                  'Travel', 'Utilities'],\n",
       "                 ordered=False)"
      ]
     },
     "execution_count": 56,
     "metadata": {},
     "output_type": "execute_result"
    }
   ],
   "source": [
    "# Converting Primary Genre to category\n",
    "\n",
    "df_train = df_train.astype({\"Primary Genre\":'category'}) \n",
    "df_train['Primary Genre'].dtypes"
   ]
  },
  {
   "cell_type": "code",
   "execution_count": 57,
   "metadata": {},
   "outputs": [
    {
     "data": {
      "text/html": [
       "<div>\n",
       "<style scoped>\n",
       "    .dataframe tbody tr th:only-of-type {\n",
       "        vertical-align: middle;\n",
       "    }\n",
       "\n",
       "    .dataframe tbody tr th {\n",
       "        vertical-align: top;\n",
       "    }\n",
       "\n",
       "    .dataframe thead th {\n",
       "        text-align: right;\n",
       "    }\n",
       "</style>\n",
       "<table border=\"1\" class=\"dataframe\">\n",
       "  <thead>\n",
       "    <tr style=\"text-align: right;\">\n",
       "      <th></th>\n",
       "      <th>URL</th>\n",
       "      <th>Name</th>\n",
       "      <th>game_id</th>\n",
       "      <th>Subtitle</th>\n",
       "      <th>Icon URL</th>\n",
       "      <th>Description</th>\n",
       "      <th>Developer</th>\n",
       "      <th>Genres</th>\n",
       "      <th>gamestore_price</th>\n",
       "      <th>In-app Purchases</th>\n",
       "      <th>Languages</th>\n",
       "      <th>Size</th>\n",
       "      <th>Original Release Date</th>\n",
       "      <th>Current Version Release Date</th>\n",
       "      <th>Average User Rating</th>\n",
       "      <th>User Rating Count</th>\n",
       "      <th>Age Rating</th>\n",
       "      <th>Primary Genre_freq_encode</th>\n",
       "    </tr>\n",
       "  </thead>\n",
       "  <tbody>\n",
       "    <tr>\n",
       "      <th>0</th>\n",
       "      <td>https://apps.apple.com/us/app/lottery-life-mon...</td>\n",
       "      <td>Lottery Life - Monopoly Wars</td>\n",
       "      <td>4173eb39-046d-431e-a504-b5418301a382</td>\n",
       "      <td>Monopoly for the New Millenium</td>\n",
       "      <td>https://is5-ssl.mzstatic.com/image/thumb/Purpl...</td>\n",
       "      <td>\"The spirit of Grand Theft Auto with the strat...</td>\n",
       "      <td>Opposite Lock Entertainment</td>\n",
       "      <td>Games, Simulation, Finance, Strategy</td>\n",
       "      <td>0.0</td>\n",
       "      <td>31.93</td>\n",
       "      <td>EN</td>\n",
       "      <td>27.017725</td>\n",
       "      <td>14/05/2018</td>\n",
       "      <td>28/12/2018</td>\n",
       "      <td>4.0</td>\n",
       "      <td>25.0</td>\n",
       "      <td>12+</td>\n",
       "      <td>0.958582</td>\n",
       "    </tr>\n",
       "    <tr>\n",
       "      <th>1</th>\n",
       "      <td>https://apps.apple.com/us/app/cute-little-unic...</td>\n",
       "      <td>Cute Little Unicorn Match3</td>\n",
       "      <td>c8cb6281-34fc-4e54-b6f9-1a30657fb370</td>\n",
       "      <td>Little Unicorn Match Crash</td>\n",
       "      <td>https://is4-ssl.mzstatic.com/image/thumb/Purpl...</td>\n",
       "      <td>Cute Unicorn Match3 Blast Bomb is a matching p...</td>\n",
       "      <td>Angrisa Leungtanapolkul</td>\n",
       "      <td>Games, Entertainment, Strategy, Puzzle</td>\n",
       "      <td>0.0</td>\n",
       "      <td>0.00</td>\n",
       "      <td>EN</td>\n",
       "      <td>16.276960</td>\n",
       "      <td>9/11/2017</td>\n",
       "      <td>9/11/2017</td>\n",
       "      <td>NaN</td>\n",
       "      <td>NaN</td>\n",
       "      <td>4+</td>\n",
       "      <td>0.958582</td>\n",
       "    </tr>\n",
       "    <tr>\n",
       "      <th>2</th>\n",
       "      <td>https://apps.apple.com/us/app/its-tanks/id5688...</td>\n",
       "      <td>\"It's Tanks!\"</td>\n",
       "      <td>6a30fa24-b1c7-44b0-96e8-34b9c6c7232b</td>\n",
       "      <td>NaN</td>\n",
       "      <td>https://is1-ssl.mzstatic.com/image/thumb/Purpl...</td>\n",
       "      <td>Bored of playing yet another multiplayer word ...</td>\n",
       "      <td>Bit By Bit Games Ltd</td>\n",
       "      <td>Games, Casual, Strategy</td>\n",
       "      <td>0.0</td>\n",
       "      <td>4.96</td>\n",
       "      <td>EN</td>\n",
       "      <td>19.528240</td>\n",
       "      <td>26/04/2013</td>\n",
       "      <td>30/05/2013</td>\n",
       "      <td>3.5</td>\n",
       "      <td>27.0</td>\n",
       "      <td>9+</td>\n",
       "      <td>0.958582</td>\n",
       "    </tr>\n",
       "    <tr>\n",
       "      <th>3</th>\n",
       "      <td>https://apps.apple.com/us/app/dunes/id1453578024</td>\n",
       "      <td>Dunes</td>\n",
       "      <td>4df50e72-3f5c-470a-8834-b56b5610e17a</td>\n",
       "      <td>Warning: *May cause addiction*</td>\n",
       "      <td>https://is5-ssl.mzstatic.com/image/thumb/Purpl...</td>\n",
       "      <td>Race across our dunes in a effort to  achieve ...</td>\n",
       "      <td>Sympo Games PTY LTD</td>\n",
       "      <td>Games, Strategy, Productivity, Family</td>\n",
       "      <td>0.0</td>\n",
       "      <td>3.99</td>\n",
       "      <td>EN</td>\n",
       "      <td>23.932939</td>\n",
       "      <td>23/02/2019</td>\n",
       "      <td>23/02/2019</td>\n",
       "      <td>NaN</td>\n",
       "      <td>NaN</td>\n",
       "      <td>4+</td>\n",
       "      <td>0.958582</td>\n",
       "    </tr>\n",
       "    <tr>\n",
       "      <th>4</th>\n",
       "      <td>https://apps.apple.com/us/app/cribbage-square-...</td>\n",
       "      <td>Cribbage Square Collection</td>\n",
       "      <td>d5832610-8ec2-44f5-989d-0f5fd9e67ef5</td>\n",
       "      <td>Solitaire crib games.</td>\n",
       "      <td>https://is3-ssl.mzstatic.com/image/thumb/Purpl...</td>\n",
       "      <td>CRIBBAGE SQUARE COLLECTION is an 12-in-1 colle...</td>\n",
       "      <td>MmpApps Corp.</td>\n",
       "      <td>Games, Card, Entertainment, Strategy</td>\n",
       "      <td>0.0</td>\n",
       "      <td>0.00</td>\n",
       "      <td>EN</td>\n",
       "      <td>17.901007</td>\n",
       "      <td>12/11/2013</td>\n",
       "      <td>16/01/2019</td>\n",
       "      <td>NaN</td>\n",
       "      <td>NaN</td>\n",
       "      <td>4+</td>\n",
       "      <td>0.958582</td>\n",
       "    </tr>\n",
       "    <tr>\n",
       "      <th>5</th>\n",
       "      <td>https://apps.apple.com/us/app/cookie-monsters-...</td>\n",
       "      <td>Cookie Monsters A Clickers and Collectors Bake...</td>\n",
       "      <td>83c971c6-6358-471d-9d2e-33f9e3a253b4</td>\n",
       "      <td>NaN</td>\n",
       "      <td>https://is2-ssl.mzstatic.com/image/thumb/Purpl...</td>\n",
       "      <td>Free For A Limited Time \\u2013 Try it Today\\nA...</td>\n",
       "      <td>DartFrog llc</td>\n",
       "      <td>Games, Strategy, Simulation</td>\n",
       "      <td>0.0</td>\n",
       "      <td>0.99</td>\n",
       "      <td>EN</td>\n",
       "      <td>14.337830</td>\n",
       "      <td>20/11/2013</td>\n",
       "      <td>20/11/2013</td>\n",
       "      <td>3.5</td>\n",
       "      <td>25.0</td>\n",
       "      <td>4+</td>\n",
       "      <td>0.958582</td>\n",
       "    </tr>\n",
       "    <tr>\n",
       "      <th>6</th>\n",
       "      <td>https://apps.apple.com/us/app/colo-r/id1303428132</td>\n",
       "      <td>Colo.r</td>\n",
       "      <td>99456c5a-037b-4c1f-8e40-63061bf56bb9</td>\n",
       "      <td>Minimal Puzzle Game</td>\n",
       "      <td>https://is1-ssl.mzstatic.com/image/thumb/Purpl...</td>\n",
       "      <td>Best Puzzle Games on iOS.\\n\\nPolished, mind-be...</td>\n",
       "      <td>Refik Kasal</td>\n",
       "      <td>Games, Entertainment, Puzzle, Strategy</td>\n",
       "      <td>0.0</td>\n",
       "      <td>0.00</td>\n",
       "      <td>EN</td>\n",
       "      <td>20.155865</td>\n",
       "      <td>31/10/2017</td>\n",
       "      <td>31/10/2017</td>\n",
       "      <td>NaN</td>\n",
       "      <td>NaN</td>\n",
       "      <td>4+</td>\n",
       "      <td>0.958582</td>\n",
       "    </tr>\n",
       "    <tr>\n",
       "      <th>7</th>\n",
       "      <td>https://apps.apple.com/us/app/extreme-turbo-gt...</td>\n",
       "      <td>Extreme Turbo GT Racing</td>\n",
       "      <td>b8bee0e2-3033-44a3-b014-f52e5802ed68</td>\n",
       "      <td>NaN</td>\n",
       "      <td>https://is2-ssl.mzstatic.com/image/thumb/Purpl...</td>\n",
       "      <td>\"you have played many gt racing stunts game bu...</td>\n",
       "      <td>Waseem Ahmad</td>\n",
       "      <td>Games, Strategy, Racing, Entertainment</td>\n",
       "      <td>0.0</td>\n",
       "      <td>2.99</td>\n",
       "      <td>EN</td>\n",
       "      <td>21.897968</td>\n",
       "      <td>16/09/2016</td>\n",
       "      <td>3/11/2016</td>\n",
       "      <td>NaN</td>\n",
       "      <td>NaN</td>\n",
       "      <td>4+</td>\n",
       "      <td>0.958582</td>\n",
       "    </tr>\n",
       "    <tr>\n",
       "      <th>8</th>\n",
       "      <td>https://apps.apple.com/us/app/simple-chess-boa...</td>\n",
       "      <td>Simple chess board</td>\n",
       "      <td>c2ee309a-8172-4551-9e0d-d9fc22491e1d</td>\n",
       "      <td>NaN</td>\n",
       "      <td>https://is4-ssl.mzstatic.com/image/thumb/Purpl...</td>\n",
       "      <td>\"A simple chess board and a chess clock withou...</td>\n",
       "      <td>Luis Lopez</td>\n",
       "      <td>Games, Strategy, Board, Utilities</td>\n",
       "      <td>0.0</td>\n",
       "      <td>0.99</td>\n",
       "      <td>CA, EN, ES</td>\n",
       "      <td>13.897530</td>\n",
       "      <td>5/07/2012</td>\n",
       "      <td>10/11/2015</td>\n",
       "      <td>4.5</td>\n",
       "      <td>26.0</td>\n",
       "      <td>4+</td>\n",
       "      <td>0.958582</td>\n",
       "    </tr>\n",
       "    <tr>\n",
       "      <th>9</th>\n",
       "      <td>https://apps.apple.com/us/app/escape-plan-offi...</td>\n",
       "      <td>Escape Plan - Office Escape</td>\n",
       "      <td>5f15067f-a65b-48e0-b4a9-946ce2fab712</td>\n",
       "      <td>Break the usual</td>\n",
       "      <td>https://is2-ssl.mzstatic.com/image/thumb/Purpl...</td>\n",
       "      <td>Smartphone puzzles!\\nAddicting mini puzzles!\\n...</td>\n",
       "      <td>Ronald Calvert</td>\n",
       "      <td>Games, Entertainment, Puzzle, Strategy</td>\n",
       "      <td>0.0</td>\n",
       "      <td>0.00</td>\n",
       "      <td>EN, ZH, ZH</td>\n",
       "      <td>20.815601</td>\n",
       "      <td>9/07/2018</td>\n",
       "      <td>9/07/2018</td>\n",
       "      <td>3.5</td>\n",
       "      <td>27.0</td>\n",
       "      <td>17+</td>\n",
       "      <td>0.958582</td>\n",
       "    </tr>\n",
       "  </tbody>\n",
       "</table>\n",
       "</div>"
      ],
      "text/plain": [
       "                                                 URL  \\\n",
       "0  https://apps.apple.com/us/app/lottery-life-mon...   \n",
       "1  https://apps.apple.com/us/app/cute-little-unic...   \n",
       "2  https://apps.apple.com/us/app/its-tanks/id5688...   \n",
       "3   https://apps.apple.com/us/app/dunes/id1453578024   \n",
       "4  https://apps.apple.com/us/app/cribbage-square-...   \n",
       "5  https://apps.apple.com/us/app/cookie-monsters-...   \n",
       "6  https://apps.apple.com/us/app/colo-r/id1303428132   \n",
       "7  https://apps.apple.com/us/app/extreme-turbo-gt...   \n",
       "8  https://apps.apple.com/us/app/simple-chess-boa...   \n",
       "9  https://apps.apple.com/us/app/escape-plan-offi...   \n",
       "\n",
       "                                                Name  \\\n",
       "0                       Lottery Life - Monopoly Wars   \n",
       "1                         Cute Little Unicorn Match3   \n",
       "2                                      \"It's Tanks!\"   \n",
       "3                                              Dunes   \n",
       "4                         Cribbage Square Collection   \n",
       "5  Cookie Monsters A Clickers and Collectors Bake...   \n",
       "6                                             Colo.r   \n",
       "7                            Extreme Turbo GT Racing   \n",
       "8                                 Simple chess board   \n",
       "9                        Escape Plan - Office Escape   \n",
       "\n",
       "                                game_id                        Subtitle  \\\n",
       "0  4173eb39-046d-431e-a504-b5418301a382  Monopoly for the New Millenium   \n",
       "1  c8cb6281-34fc-4e54-b6f9-1a30657fb370      Little Unicorn Match Crash   \n",
       "2  6a30fa24-b1c7-44b0-96e8-34b9c6c7232b                             NaN   \n",
       "3  4df50e72-3f5c-470a-8834-b56b5610e17a  Warning: *May cause addiction*   \n",
       "4  d5832610-8ec2-44f5-989d-0f5fd9e67ef5           Solitaire crib games.   \n",
       "5  83c971c6-6358-471d-9d2e-33f9e3a253b4                             NaN   \n",
       "6  99456c5a-037b-4c1f-8e40-63061bf56bb9             Minimal Puzzle Game   \n",
       "7  b8bee0e2-3033-44a3-b014-f52e5802ed68                             NaN   \n",
       "8  c2ee309a-8172-4551-9e0d-d9fc22491e1d                             NaN   \n",
       "9  5f15067f-a65b-48e0-b4a9-946ce2fab712                 Break the usual   \n",
       "\n",
       "                                            Icon URL  \\\n",
       "0  https://is5-ssl.mzstatic.com/image/thumb/Purpl...   \n",
       "1  https://is4-ssl.mzstatic.com/image/thumb/Purpl...   \n",
       "2  https://is1-ssl.mzstatic.com/image/thumb/Purpl...   \n",
       "3  https://is5-ssl.mzstatic.com/image/thumb/Purpl...   \n",
       "4  https://is3-ssl.mzstatic.com/image/thumb/Purpl...   \n",
       "5  https://is2-ssl.mzstatic.com/image/thumb/Purpl...   \n",
       "6  https://is1-ssl.mzstatic.com/image/thumb/Purpl...   \n",
       "7  https://is2-ssl.mzstatic.com/image/thumb/Purpl...   \n",
       "8  https://is4-ssl.mzstatic.com/image/thumb/Purpl...   \n",
       "9  https://is2-ssl.mzstatic.com/image/thumb/Purpl...   \n",
       "\n",
       "                                         Description  \\\n",
       "0  \"The spirit of Grand Theft Auto with the strat...   \n",
       "1  Cute Unicorn Match3 Blast Bomb is a matching p...   \n",
       "2  Bored of playing yet another multiplayer word ...   \n",
       "3  Race across our dunes in a effort to  achieve ...   \n",
       "4  CRIBBAGE SQUARE COLLECTION is an 12-in-1 colle...   \n",
       "5  Free For A Limited Time \\u2013 Try it Today\\nA...   \n",
       "6  Best Puzzle Games on iOS.\\n\\nPolished, mind-be...   \n",
       "7  \"you have played many gt racing stunts game bu...   \n",
       "8  \"A simple chess board and a chess clock withou...   \n",
       "9  Smartphone puzzles!\\nAddicting mini puzzles!\\n...   \n",
       "\n",
       "                     Developer                                  Genres  \\\n",
       "0  Opposite Lock Entertainment    Games, Simulation, Finance, Strategy   \n",
       "1      Angrisa Leungtanapolkul  Games, Entertainment, Strategy, Puzzle   \n",
       "2         Bit By Bit Games Ltd                 Games, Casual, Strategy   \n",
       "3          Sympo Games PTY LTD   Games, Strategy, Productivity, Family   \n",
       "4                MmpApps Corp.    Games, Card, Entertainment, Strategy   \n",
       "5                 DartFrog llc             Games, Strategy, Simulation   \n",
       "6                  Refik Kasal  Games, Entertainment, Puzzle, Strategy   \n",
       "7                 Waseem Ahmad  Games, Strategy, Racing, Entertainment   \n",
       "8                   Luis Lopez       Games, Strategy, Board, Utilities   \n",
       "9               Ronald Calvert  Games, Entertainment, Puzzle, Strategy   \n",
       "\n",
       "   gamestore_price  In-app Purchases   Languages       Size  \\\n",
       "0              0.0             31.93          EN  27.017725   \n",
       "1              0.0              0.00          EN  16.276960   \n",
       "2              0.0              4.96          EN  19.528240   \n",
       "3              0.0              3.99          EN  23.932939   \n",
       "4              0.0              0.00          EN  17.901007   \n",
       "5              0.0              0.99          EN  14.337830   \n",
       "6              0.0              0.00          EN  20.155865   \n",
       "7              0.0              2.99          EN  21.897968   \n",
       "8              0.0              0.99  CA, EN, ES  13.897530   \n",
       "9              0.0              0.00  EN, ZH, ZH  20.815601   \n",
       "\n",
       "  Original Release Date Current Version Release Date  Average User Rating  \\\n",
       "0            14/05/2018                   28/12/2018                  4.0   \n",
       "1             9/11/2017                    9/11/2017                  NaN   \n",
       "2            26/04/2013                   30/05/2013                  3.5   \n",
       "3            23/02/2019                   23/02/2019                  NaN   \n",
       "4            12/11/2013                   16/01/2019                  NaN   \n",
       "5            20/11/2013                   20/11/2013                  3.5   \n",
       "6            31/10/2017                   31/10/2017                  NaN   \n",
       "7            16/09/2016                    3/11/2016                  NaN   \n",
       "8             5/07/2012                   10/11/2015                  4.5   \n",
       "9             9/07/2018                    9/07/2018                  3.5   \n",
       "\n",
       "   User Rating Count Age Rating  Primary Genre_freq_encode  \n",
       "0               25.0        12+                   0.958582  \n",
       "1                NaN         4+                   0.958582  \n",
       "2               27.0         9+                   0.958582  \n",
       "3                NaN         4+                   0.958582  \n",
       "4                NaN         4+                   0.958582  \n",
       "5               25.0         4+                   0.958582  \n",
       "6                NaN         4+                   0.958582  \n",
       "7                NaN         4+                   0.958582  \n",
       "8               26.0         4+                   0.958582  \n",
       "9               27.0        17+                   0.958582  "
      ]
     },
     "execution_count": 57,
     "metadata": {},
     "output_type": "execute_result"
    },
    {
     "data": {
      "image/png": "[encoded data removed]",
      "text/plain": [
       "<Figure size 432x288 with 1 Axes>"
      ]
     },
     "metadata": {
      "needs_background": "light"
     },
     "output_type": "display_data"
    }
   ],
   "source": [
    "# Frequency Encoding as the data is Skewed\n",
    "\n",
    "# grouping by frequency \n",
    "fq = df_train.groupby('Primary Genre').size()/len(df_train)  \n",
    "\n",
    "# mapping values to dataframe \n",
    "df_train.loc[:, \"{}_freq_encode\".format('Primary Genre')] = df_train['Primary Genre'].map(fq)   \n",
    "\n",
    "# drop original column. \n",
    "df_train = df_train.drop(['Primary Genre'], axis = 1)  \n",
    "fq.plot.bar(stacked = True)   \n",
    "df_train.head(10) "
   ]
  },
  {
   "cell_type": "code",
   "execution_count": 58,
   "metadata": {},
   "outputs": [
    {
     "name": "stdout",
     "output_type": "stream",
     "text": [
      "<class 'pandas.core.frame.DataFrame'>\n",
      "Int64Index: 4252 entries, 0 to 4251\n",
      "Data columns (total 17 columns):\n",
      " #   Column                        Non-Null Count  Dtype  \n",
      "---  ------                        --------------  -----  \n",
      " 0   URL                           4252 non-null   object \n",
      " 1   Name                          4252 non-null   object \n",
      " 2   game_id                       4252 non-null   object \n",
      " 3   Subtitle                      1323 non-null   object \n",
      " 4   Icon URL                      4252 non-null   object \n",
      " 5   Description                   4252 non-null   object \n",
      " 6   Developer                     4252 non-null   object \n",
      " 7   Genres                        4252 non-null   object \n",
      " 8   Primary Genre                 4252 non-null   object \n",
      " 9   In-app Purchases              4252 non-null   float64\n",
      " 10  Languages                     4236 non-null   object \n",
      " 11  Size                          4251 non-null   float64\n",
      " 12  Original Release Date         4252 non-null   object \n",
      " 13  Current Version Release Date  4252 non-null   object \n",
      " 14  Average User Rating           1874 non-null   float64\n",
      " 15  User Rating Count             1874 non-null   float64\n",
      " 16  Age Rating                    4252 non-null   object \n",
      "dtypes: float64(4), object(13)\n",
      "memory usage: 597.9+ KB\n"
     ]
    }
   ],
   "source": [
    "df_test.info()"
   ]
  },
  {
   "cell_type": "code",
   "execution_count": 59,
   "metadata": {},
   "outputs": [
    {
     "data": {
      "text/plain": [
       "Games                4063\n",
       "Education              63\n",
       "Entertainment          52\n",
       "Utilities              22\n",
       "Sports                 17\n",
       "Stickers                7\n",
       "Reference               7\n",
       "Business                6\n",
       "Lifestyle               4\n",
       "Productivity            2\n",
       "Food & Drink            2\n",
       "Book                    2\n",
       "Shopping                1\n",
       "Navigation              1\n",
       "Social Networking       1\n",
       "Music                   1\n",
       "Finance                 1\n",
       "Name: Primary Genre, dtype: int64"
      ]
     },
     "execution_count": 59,
     "metadata": {},
     "output_type": "execute_result"
    }
   ],
   "source": [
    "df_test['Primary Genre'].value_counts()"
   ]
  },
  {
   "cell_type": "code",
   "execution_count": 60,
   "metadata": {},
   "outputs": [
    {
     "data": {
      "text/plain": [
       "CategoricalDtype(categories=['Book', 'Business', 'Education', 'Entertainment', 'Finance',\n",
       "                  'Food & Drink', 'Games', 'Lifestyle', 'Music', 'Navigation',\n",
       "                  'Productivity', 'Reference', 'Shopping', 'Social Networking',\n",
       "                  'Sports', 'Stickers', 'Utilities'],\n",
       "                 ordered=False)"
      ]
     },
     "execution_count": 60,
     "metadata": {},
     "output_type": "execute_result"
    }
   ],
   "source": [
    "# Converting Primary Genre to category\n",
    "\n",
    "df_test = df_test.astype({\"Primary Genre\":'category'}) \n",
    "df_test['Primary Genre'].dtypes"
   ]
  },
  {
   "cell_type": "code",
   "execution_count": 61,
   "metadata": {},
   "outputs": [
    {
     "data": {
      "text/html": [
       "<div>\n",
       "<style scoped>\n",
       "    .dataframe tbody tr th:only-of-type {\n",
       "        vertical-align: middle;\n",
       "    }\n",
       "\n",
       "    .dataframe tbody tr th {\n",
       "        vertical-align: top;\n",
       "    }\n",
       "\n",
       "    .dataframe thead th {\n",
       "        text-align: right;\n",
       "    }\n",
       "</style>\n",
       "<table border=\"1\" class=\"dataframe\">\n",
       "  <thead>\n",
       "    <tr style=\"text-align: right;\">\n",
       "      <th></th>\n",
       "      <th>URL</th>\n",
       "      <th>Name</th>\n",
       "      <th>game_id</th>\n",
       "      <th>Subtitle</th>\n",
       "      <th>Icon URL</th>\n",
       "      <th>Description</th>\n",
       "      <th>Developer</th>\n",
       "      <th>Genres</th>\n",
       "      <th>In-app Purchases</th>\n",
       "      <th>Languages</th>\n",
       "      <th>Size</th>\n",
       "      <th>Original Release Date</th>\n",
       "      <th>Current Version Release Date</th>\n",
       "      <th>Average User Rating</th>\n",
       "      <th>User Rating Count</th>\n",
       "      <th>Age Rating</th>\n",
       "      <th>Primary Genre_freq_encode</th>\n",
       "    </tr>\n",
       "  </thead>\n",
       "  <tbody>\n",
       "    <tr>\n",
       "      <th>0</th>\n",
       "      <td>https://apps.apple.com/us/app/block-in-the-hol...</td>\n",
       "      <td>Block in the Hole Slider Puzzle Pro</td>\n",
       "      <td>a77cadb6-07f5-4f48-b012-df7b758cc3e4</td>\n",
       "      <td>NaN</td>\n",
       "      <td>https://is1-ssl.mzstatic.com/image/thumb/Purpl...</td>\n",
       "      <td>\"Check out this addictive and unique puzzle ga...</td>\n",
       "      <td>Amy Prizer</td>\n",
       "      <td>Games, Strategy, Puzzle</td>\n",
       "      <td>0.00</td>\n",
       "      <td>EN</td>\n",
       "      <td>15.836196</td>\n",
       "      <td>25/02/2017</td>\n",
       "      <td>25/02/2017</td>\n",
       "      <td>NaN</td>\n",
       "      <td>NaN</td>\n",
       "      <td>4+</td>\n",
       "      <td>0.322999</td>\n",
       "    </tr>\n",
       "    <tr>\n",
       "      <th>1</th>\n",
       "      <td>https://apps.apple.com/us/app/craft-warriors/i...</td>\n",
       "      <td>Craft Warriors</td>\n",
       "      <td>70a0edf7-3bad-4a4b-bad4-f7fdd6aca14e</td>\n",
       "      <td>A New Generation RTS</td>\n",
       "      <td>https://is1-ssl.mzstatic.com/image/thumb/Purpl...</td>\n",
       "      <td>\"A new generation 3D real-time strategy game!\\...</td>\n",
       "      <td>Translimit, Inc.</td>\n",
       "      <td>Games, Strategy, Simulation</td>\n",
       "      <td>167.90</td>\n",
       "      <td>EN</td>\n",
       "      <td>21.454198</td>\n",
       "      <td>22/04/2018</td>\n",
       "      <td>29/07/2019</td>\n",
       "      <td>4.5</td>\n",
       "      <td>14689.0</td>\n",
       "      <td>9+</td>\n",
       "      <td>0.322999</td>\n",
       "    </tr>\n",
       "    <tr>\n",
       "      <th>2</th>\n",
       "      <td>https://apps.apple.com/us/app/zero-tbs/id13998...</td>\n",
       "      <td>Zero TBS</td>\n",
       "      <td>ceb10cdb-ecf0-4028-b31b-54248fc102fe</td>\n",
       "      <td>Turn-based Strategy War Chess</td>\n",
       "      <td>https://is1-ssl.mzstatic.com/image/thumb/Purpl...</td>\n",
       "      <td>A classic turn-based strategy that go straight...</td>\n",
       "      <td>FBM</td>\n",
       "      <td>Games, Strategy, Board</td>\n",
       "      <td>0.00</td>\n",
       "      <td>EN</td>\n",
       "      <td>18.213408</td>\n",
       "      <td>26/07/2018</td>\n",
       "      <td>10/04/2019</td>\n",
       "      <td>NaN</td>\n",
       "      <td>NaN</td>\n",
       "      <td>9+</td>\n",
       "      <td>0.322999</td>\n",
       "    </tr>\n",
       "    <tr>\n",
       "      <th>3</th>\n",
       "      <td>https://apps.apple.com/us/app/search-and-find-...</td>\n",
       "      <td>Search and Find Hidden Objects</td>\n",
       "      <td>67e3cf3d-c7fc-4046-97b0-c7066c084a13</td>\n",
       "      <td>Horror Library Hidden Objects</td>\n",
       "      <td>https://is5-ssl.mzstatic.com/image/thumb/Purpl...</td>\n",
       "      <td>Infinitely joyful fairytale valley used to be ...</td>\n",
       "      <td>Ajaysinh Jadeja</td>\n",
       "      <td>Games, Puzzle, Strategy, Entertainment</td>\n",
       "      <td>3.98</td>\n",
       "      <td>EN</td>\n",
       "      <td>17.853528</td>\n",
       "      <td>3/06/2017</td>\n",
       "      <td>29/08/2018</td>\n",
       "      <td>2.5</td>\n",
       "      <td>10.0</td>\n",
       "      <td>4+</td>\n",
       "      <td>0.322999</td>\n",
       "    </tr>\n",
       "    <tr>\n",
       "      <th>4</th>\n",
       "      <td>https://apps.apple.com/us/app/dodge-ball-game/...</td>\n",
       "      <td>Dodge Ball - Game</td>\n",
       "      <td>b521f9e1-74e5-410f-8971-4649a35f8e94</td>\n",
       "      <td>NaN</td>\n",
       "      <td>https://is3-ssl.mzstatic.com/image/thumb/Purpl...</td>\n",
       "      <td>Think you are up for this challenge?\\n\\nThe be...</td>\n",
       "      <td>Asfia sultana</td>\n",
       "      <td>Games, Strategy, Entertainment, Puzzle</td>\n",
       "      <td>0.00</td>\n",
       "      <td>EN</td>\n",
       "      <td>18.958749</td>\n",
       "      <td>1/03/2016</td>\n",
       "      <td>1/03/2016</td>\n",
       "      <td>NaN</td>\n",
       "      <td>NaN</td>\n",
       "      <td>4+</td>\n",
       "      <td>0.322999</td>\n",
       "    </tr>\n",
       "    <tr>\n",
       "      <th>5</th>\n",
       "      <td>https://apps.apple.com/us/app/clash-rate/id915...</td>\n",
       "      <td>Clash Rate</td>\n",
       "      <td>37d08c7e-e164-49b3-8c32-31c23a70c743</td>\n",
       "      <td>NaN</td>\n",
       "      <td>https://is4-ssl.mzstatic.com/image/thumb/Purpl...</td>\n",
       "      <td>Clash Rate generates Core Skill Ratings and a ...</td>\n",
       "      <td>Tykon, Inc.</td>\n",
       "      <td>Games, Entertainment, Adventure, Strategy</td>\n",
       "      <td>0.00</td>\n",
       "      <td>EN</td>\n",
       "      <td>12.387151</td>\n",
       "      <td>14/09/2014</td>\n",
       "      <td>14/09/2014</td>\n",
       "      <td>5.0</td>\n",
       "      <td>5.0</td>\n",
       "      <td>4+</td>\n",
       "      <td>0.322999</td>\n",
       "    </tr>\n",
       "    <tr>\n",
       "      <th>6</th>\n",
       "      <td>https://apps.apple.com/us/app/tazzs-adventures...</td>\n",
       "      <td>\"Tazz's Adventures\"</td>\n",
       "      <td>4c073be6-df83-49b1-b115-aa2f3f56dacc</td>\n",
       "      <td>NaN</td>\n",
       "      <td>https://is3-ssl.mzstatic.com/image/thumb/Purpl...</td>\n",
       "      <td>\"Tazz's Adventure is a match 3 puzzle game wit...</td>\n",
       "      <td>George Escobar</td>\n",
       "      <td>Games, Casual, Entertainment, Strategy</td>\n",
       "      <td>1.98</td>\n",
       "      <td>EN</td>\n",
       "      <td>24.189362</td>\n",
       "      <td>4/11/2017</td>\n",
       "      <td>18/12/2017</td>\n",
       "      <td>5.0</td>\n",
       "      <td>5.0</td>\n",
       "      <td>4+</td>\n",
       "      <td>0.322999</td>\n",
       "    </tr>\n",
       "    <tr>\n",
       "      <th>7</th>\n",
       "      <td>https://apps.apple.com/us/app/5-elements-multi...</td>\n",
       "      <td>5 Elements Multiplayer Match-3</td>\n",
       "      <td>a9521107-e877-44a5-9a08-606dac8f2aef</td>\n",
       "      <td>Match-3 MOBA RPG combination</td>\n",
       "      <td>https://is5-ssl.mzstatic.com/image/thumb/Purpl...</td>\n",
       "      <td>Join our unique turn-based games where match-3...</td>\n",
       "      <td>linktime</td>\n",
       "      <td>Games, Strategy, Role Playing, Entertainment</td>\n",
       "      <td>68.95</td>\n",
       "      <td>EN</td>\n",
       "      <td>30.749795</td>\n",
       "      <td>11/01/2018</td>\n",
       "      <td>5/06/2019</td>\n",
       "      <td>NaN</td>\n",
       "      <td>NaN</td>\n",
       "      <td>12+</td>\n",
       "      <td>0.322999</td>\n",
       "    </tr>\n",
       "    <tr>\n",
       "      <th>8</th>\n",
       "      <td>https://apps.apple.com/us/app/kitty-cat-clicke...</td>\n",
       "      <td>Kitty Cat Clicker - Feed the Virtual Pet Kitte...</td>\n",
       "      <td>41472230-f739-461b-9ce5-0adc4b4cdb15</td>\n",
       "      <td>NaN</td>\n",
       "      <td>https://is2-ssl.mzstatic.com/image/thumb/Purpl...</td>\n",
       "      <td>\"The Internet might not be ready for this: cat...</td>\n",
       "      <td>Tapps Tecnologia da Informa\\xe7\\xe3o Ltda.</td>\n",
       "      <td>Games, Entertainment, Strategy, Family</td>\n",
       "      <td>15.93</td>\n",
       "      <td>EN</td>\n",
       "      <td>18.711405</td>\n",
       "      <td>7/03/2014</td>\n",
       "      <td>10/02/2016</td>\n",
       "      <td>4.5</td>\n",
       "      <td>3148.0</td>\n",
       "      <td>4+</td>\n",
       "      <td>0.322999</td>\n",
       "    </tr>\n",
       "    <tr>\n",
       "      <th>9</th>\n",
       "      <td>https://apps.apple.com/us/app/angel-town-3-new...</td>\n",
       "      <td>Angel Town 3- new idle games</td>\n",
       "      <td>90444094-2da6-40aa-ad3b-bc243744f0e1</td>\n",
       "      <td>2019 indie tactical RPG</td>\n",
       "      <td>https://is1-ssl.mzstatic.com/image/thumb/Purpl...</td>\n",
       "      <td>\"\\u30102019 New Idle RPG\\u3011\\n\\u25c6The worl...</td>\n",
       "      <td>Crab Soft</td>\n",
       "      <td>Games, Entertainment, Strategy, Role Playing</td>\n",
       "      <td>33.97</td>\n",
       "      <td>EN, FR, DE, IT, JA, KO, PT, RU, ZH, ES, ZH</td>\n",
       "      <td>25.079673</td>\n",
       "      <td>2/10/2017</td>\n",
       "      <td>17/07/2019</td>\n",
       "      <td>3.5</td>\n",
       "      <td>5.0</td>\n",
       "      <td>4+</td>\n",
       "      <td>0.322999</td>\n",
       "    </tr>\n",
       "  </tbody>\n",
       "</table>\n",
       "</div>"
      ],
      "text/plain": [
       "                                                 URL  \\\n",
       "0  https://apps.apple.com/us/app/block-in-the-hol...   \n",
       "1  https://apps.apple.com/us/app/craft-warriors/i...   \n",
       "2  https://apps.apple.com/us/app/zero-tbs/id13998...   \n",
       "3  https://apps.apple.com/us/app/search-and-find-...   \n",
       "4  https://apps.apple.com/us/app/dodge-ball-game/...   \n",
       "5  https://apps.apple.com/us/app/clash-rate/id915...   \n",
       "6  https://apps.apple.com/us/app/tazzs-adventures...   \n",
       "7  https://apps.apple.com/us/app/5-elements-multi...   \n",
       "8  https://apps.apple.com/us/app/kitty-cat-clicke...   \n",
       "9  https://apps.apple.com/us/app/angel-town-3-new...   \n",
       "\n",
       "                                                Name  \\\n",
       "0                Block in the Hole Slider Puzzle Pro   \n",
       "1                                     Craft Warriors   \n",
       "2                                           Zero TBS   \n",
       "3                     Search and Find Hidden Objects   \n",
       "4                                  Dodge Ball - Game   \n",
       "5                                         Clash Rate   \n",
       "6                                \"Tazz's Adventures\"   \n",
       "7                     5 Elements Multiplayer Match-3   \n",
       "8  Kitty Cat Clicker - Feed the Virtual Pet Kitte...   \n",
       "9                       Angel Town 3- new idle games   \n",
       "\n",
       "                                game_id                       Subtitle  \\\n",
       "0  a77cadb6-07f5-4f48-b012-df7b758cc3e4                            NaN   \n",
       "1  70a0edf7-3bad-4a4b-bad4-f7fdd6aca14e           A New Generation RTS   \n",
       "2  ceb10cdb-ecf0-4028-b31b-54248fc102fe  Turn-based Strategy War Chess   \n",
       "3  67e3cf3d-c7fc-4046-97b0-c7066c084a13  Horror Library Hidden Objects   \n",
       "4  b521f9e1-74e5-410f-8971-4649a35f8e94                            NaN   \n",
       "5  37d08c7e-e164-49b3-8c32-31c23a70c743                            NaN   \n",
       "6  4c073be6-df83-49b1-b115-aa2f3f56dacc                            NaN   \n",
       "7  a9521107-e877-44a5-9a08-606dac8f2aef   Match-3 MOBA RPG combination   \n",
       "8  41472230-f739-461b-9ce5-0adc4b4cdb15                            NaN   \n",
       "9  90444094-2da6-40aa-ad3b-bc243744f0e1        2019 indie tactical RPG   \n",
       "\n",
       "                                            Icon URL  \\\n",
       "0  https://is1-ssl.mzstatic.com/image/thumb/Purpl...   \n",
       "1  https://is1-ssl.mzstatic.com/image/thumb/Purpl...   \n",
       "2  https://is1-ssl.mzstatic.com/image/thumb/Purpl...   \n",
       "3  https://is5-ssl.mzstatic.com/image/thumb/Purpl...   \n",
       "4  https://is3-ssl.mzstatic.com/image/thumb/Purpl...   \n",
       "5  https://is4-ssl.mzstatic.com/image/thumb/Purpl...   \n",
       "6  https://is3-ssl.mzstatic.com/image/thumb/Purpl...   \n",
       "7  https://is5-ssl.mzstatic.com/image/thumb/Purpl...   \n",
       "8  https://is2-ssl.mzstatic.com/image/thumb/Purpl...   \n",
       "9  https://is1-ssl.mzstatic.com/image/thumb/Purpl...   \n",
       "\n",
       "                                         Description  \\\n",
       "0  \"Check out this addictive and unique puzzle ga...   \n",
       "1  \"A new generation 3D real-time strategy game!\\...   \n",
       "2  A classic turn-based strategy that go straight...   \n",
       "3  Infinitely joyful fairytale valley used to be ...   \n",
       "4  Think you are up for this challenge?\\n\\nThe be...   \n",
       "5  Clash Rate generates Core Skill Ratings and a ...   \n",
       "6  \"Tazz's Adventure is a match 3 puzzle game wit...   \n",
       "7  Join our unique turn-based games where match-3...   \n",
       "8  \"The Internet might not be ready for this: cat...   \n",
       "9  \"\\u30102019 New Idle RPG\\u3011\\n\\u25c6The worl...   \n",
       "\n",
       "                                    Developer  \\\n",
       "0                                  Amy Prizer   \n",
       "1                            Translimit, Inc.   \n",
       "2                                         FBM   \n",
       "3                             Ajaysinh Jadeja   \n",
       "4                               Asfia sultana   \n",
       "5                                 Tykon, Inc.   \n",
       "6                              George Escobar   \n",
       "7                                    linktime   \n",
       "8  Tapps Tecnologia da Informa\\xe7\\xe3o Ltda.   \n",
       "9                                   Crab Soft   \n",
       "\n",
       "                                         Genres  In-app Purchases  \\\n",
       "0                       Games, Strategy, Puzzle              0.00   \n",
       "1                   Games, Strategy, Simulation            167.90   \n",
       "2                        Games, Strategy, Board              0.00   \n",
       "3        Games, Puzzle, Strategy, Entertainment              3.98   \n",
       "4        Games, Strategy, Entertainment, Puzzle              0.00   \n",
       "5     Games, Entertainment, Adventure, Strategy              0.00   \n",
       "6        Games, Casual, Entertainment, Strategy              1.98   \n",
       "7  Games, Strategy, Role Playing, Entertainment             68.95   \n",
       "8        Games, Entertainment, Strategy, Family             15.93   \n",
       "9  Games, Entertainment, Strategy, Role Playing             33.97   \n",
       "\n",
       "                                    Languages       Size  \\\n",
       "0                                          EN  15.836196   \n",
       "1                                          EN  21.454198   \n",
       "2                                          EN  18.213408   \n",
       "3                                          EN  17.853528   \n",
       "4                                          EN  18.958749   \n",
       "5                                          EN  12.387151   \n",
       "6                                          EN  24.189362   \n",
       "7                                          EN  30.749795   \n",
       "8                                          EN  18.711405   \n",
       "9  EN, FR, DE, IT, JA, KO, PT, RU, ZH, ES, ZH  25.079673   \n",
       "\n",
       "  Original Release Date Current Version Release Date  Average User Rating  \\\n",
       "0            25/02/2017                   25/02/2017                  NaN   \n",
       "1            22/04/2018                   29/07/2019                  4.5   \n",
       "2            26/07/2018                   10/04/2019                  NaN   \n",
       "3             3/06/2017                   29/08/2018                  2.5   \n",
       "4             1/03/2016                    1/03/2016                  NaN   \n",
       "5            14/09/2014                   14/09/2014                  5.0   \n",
       "6             4/11/2017                   18/12/2017                  5.0   \n",
       "7            11/01/2018                    5/06/2019                  NaN   \n",
       "8             7/03/2014                   10/02/2016                  4.5   \n",
       "9             2/10/2017                   17/07/2019                  3.5   \n",
       "\n",
       "   User Rating Count Age Rating  Primary Genre_freq_encode  \n",
       "0                NaN         4+                   0.322999  \n",
       "1            14689.0         9+                   0.322999  \n",
       "2                NaN         9+                   0.322999  \n",
       "3               10.0         4+                   0.322999  \n",
       "4                NaN         4+                   0.322999  \n",
       "5                5.0         4+                   0.322999  \n",
       "6                5.0         4+                   0.322999  \n",
       "7                NaN        12+                   0.322999  \n",
       "8             3148.0         4+                   0.322999  \n",
       "9                5.0         4+                   0.322999  "
      ]
     },
     "execution_count": 61,
     "metadata": {},
     "output_type": "execute_result"
    },
    {
     "data": {
      "image/png": "[encoded data removed]",
      "text/plain": [
       "<Figure size 432x288 with 1 Axes>"
      ]
     },
     "metadata": {
      "needs_background": "light"
     },
     "output_type": "display_data"
    }
   ],
   "source": [
    "# Frequency Encoding as the data is Skewed\n",
    "\n",
    "# grouping by frequency \n",
    "fq_test = df_test.groupby('Primary Genre').size()/len(df_train)  \n",
    "\n",
    "# mapping values to dataframe \n",
    "df_test.loc[:, \"{}_freq_encode\".format('Primary Genre')] = df_test['Primary Genre'].map(fq_test)   \n",
    "\n",
    "# drop original column. \n",
    "df_test = df_test.drop(['Primary Genre'], axis = 1)  \n",
    "fq_test.plot.bar(stacked = True)   \n",
    "df_test.head(10) "
   ]
  },
  {
   "cell_type": "code",
   "execution_count": 62,
   "metadata": {},
   "outputs": [
    {
     "data": {
      "text/plain": [
       "4+     8761\n",
       "9+     1839\n",
       "12+    1495\n",
       "17+     484\n",
       "Name: Age Rating, dtype: int64"
      ]
     },
     "execution_count": 62,
     "metadata": {},
     "output_type": "execute_result"
    }
   ],
   "source": [
    "## Understanding Age Rating Column\n",
    "\n",
    "df_train['Age Rating'].value_counts()"
   ]
  },
  {
   "cell_type": "code",
   "execution_count": 63,
   "metadata": {},
   "outputs": [
    {
     "data": {
      "text/plain": [
       "4+     2941\n",
       "9+      601\n",
       "12+     539\n",
       "17+     171\n",
       "Name: Age Rating, dtype: int64"
      ]
     },
     "execution_count": 63,
     "metadata": {},
     "output_type": "execute_result"
    }
   ],
   "source": [
    "df_test['Age Rating'].value_counts()"
   ]
  },
  {
   "cell_type": "code",
   "execution_count": 64,
   "metadata": {},
   "outputs": [
    {
     "data": {
      "text/plain": [
       "CategoricalDtype(categories=['12+', '17+', '4+', '9+'], ordered=False)"
      ]
     },
     "execution_count": 64,
     "metadata": {},
     "output_type": "execute_result"
    }
   ],
   "source": [
    "# Converting Age Rating to category\n",
    "\n",
    "df_train = df_train.astype({\"Age Rating\":'category'}) \n",
    "df_train['Age Rating'].dtypes"
   ]
  },
  {
   "cell_type": "code",
   "execution_count": 65,
   "metadata": {},
   "outputs": [
    {
     "data": {
      "text/html": [
       "<div>\n",
       "<style scoped>\n",
       "    .dataframe tbody tr th:only-of-type {\n",
       "        vertical-align: middle;\n",
       "    }\n",
       "\n",
       "    .dataframe tbody tr th {\n",
       "        vertical-align: top;\n",
       "    }\n",
       "\n",
       "    .dataframe thead th {\n",
       "        text-align: right;\n",
       "    }\n",
       "</style>\n",
       "<table border=\"1\" class=\"dataframe\">\n",
       "  <thead>\n",
       "    <tr style=\"text-align: right;\">\n",
       "      <th></th>\n",
       "      <th>URL</th>\n",
       "      <th>Name</th>\n",
       "      <th>game_id</th>\n",
       "      <th>Subtitle</th>\n",
       "      <th>Icon URL</th>\n",
       "      <th>Description</th>\n",
       "      <th>Developer</th>\n",
       "      <th>Genres</th>\n",
       "      <th>gamestore_price</th>\n",
       "      <th>In-app Purchases</th>\n",
       "      <th>Languages</th>\n",
       "      <th>Size</th>\n",
       "      <th>Original Release Date</th>\n",
       "      <th>Current Version Release Date</th>\n",
       "      <th>Average User Rating</th>\n",
       "      <th>User Rating Count</th>\n",
       "      <th>Primary Genre_freq_encode</th>\n",
       "      <th>Age Rating_freq_encode</th>\n",
       "    </tr>\n",
       "  </thead>\n",
       "  <tbody>\n",
       "    <tr>\n",
       "      <th>0</th>\n",
       "      <td>https://apps.apple.com/us/app/lottery-life-mon...</td>\n",
       "      <td>Lottery Life - Monopoly Wars</td>\n",
       "      <td>4173eb39-046d-431e-a504-b5418301a382</td>\n",
       "      <td>Monopoly for the New Millenium</td>\n",
       "      <td>https://is5-ssl.mzstatic.com/image/thumb/Purpl...</td>\n",
       "      <td>\"The spirit of Grand Theft Auto with the strat...</td>\n",
       "      <td>Opposite Lock Entertainment</td>\n",
       "      <td>Games, Simulation, Finance, Strategy</td>\n",
       "      <td>0.0</td>\n",
       "      <td>31.93</td>\n",
       "      <td>EN</td>\n",
       "      <td>27.017725</td>\n",
       "      <td>14/05/2018</td>\n",
       "      <td>28/12/2018</td>\n",
       "      <td>4.0</td>\n",
       "      <td>25.0</td>\n",
       "      <td>0.958582</td>\n",
       "      <td>0.118849</td>\n",
       "    </tr>\n",
       "    <tr>\n",
       "      <th>1</th>\n",
       "      <td>https://apps.apple.com/us/app/cute-little-unic...</td>\n",
       "      <td>Cute Little Unicorn Match3</td>\n",
       "      <td>c8cb6281-34fc-4e54-b6f9-1a30657fb370</td>\n",
       "      <td>Little Unicorn Match Crash</td>\n",
       "      <td>https://is4-ssl.mzstatic.com/image/thumb/Purpl...</td>\n",
       "      <td>Cute Unicorn Match3 Blast Bomb is a matching p...</td>\n",
       "      <td>Angrisa Leungtanapolkul</td>\n",
       "      <td>Games, Entertainment, Strategy, Puzzle</td>\n",
       "      <td>0.0</td>\n",
       "      <td>0.00</td>\n",
       "      <td>EN</td>\n",
       "      <td>16.276960</td>\n",
       "      <td>9/11/2017</td>\n",
       "      <td>9/11/2017</td>\n",
       "      <td>NaN</td>\n",
       "      <td>NaN</td>\n",
       "      <td>0.958582</td>\n",
       "      <td>0.696478</td>\n",
       "    </tr>\n",
       "    <tr>\n",
       "      <th>2</th>\n",
       "      <td>https://apps.apple.com/us/app/its-tanks/id5688...</td>\n",
       "      <td>\"It's Tanks!\"</td>\n",
       "      <td>6a30fa24-b1c7-44b0-96e8-34b9c6c7232b</td>\n",
       "      <td>NaN</td>\n",
       "      <td>https://is1-ssl.mzstatic.com/image/thumb/Purpl...</td>\n",
       "      <td>Bored of playing yet another multiplayer word ...</td>\n",
       "      <td>Bit By Bit Games Ltd</td>\n",
       "      <td>Games, Casual, Strategy</td>\n",
       "      <td>0.0</td>\n",
       "      <td>4.96</td>\n",
       "      <td>EN</td>\n",
       "      <td>19.528240</td>\n",
       "      <td>26/04/2013</td>\n",
       "      <td>30/05/2013</td>\n",
       "      <td>3.5</td>\n",
       "      <td>27.0</td>\n",
       "      <td>0.958582</td>\n",
       "      <td>0.146196</td>\n",
       "    </tr>\n",
       "    <tr>\n",
       "      <th>3</th>\n",
       "      <td>https://apps.apple.com/us/app/dunes/id1453578024</td>\n",
       "      <td>Dunes</td>\n",
       "      <td>4df50e72-3f5c-470a-8834-b56b5610e17a</td>\n",
       "      <td>Warning: *May cause addiction*</td>\n",
       "      <td>https://is5-ssl.mzstatic.com/image/thumb/Purpl...</td>\n",
       "      <td>Race across our dunes in a effort to  achieve ...</td>\n",
       "      <td>Sympo Games PTY LTD</td>\n",
       "      <td>Games, Strategy, Productivity, Family</td>\n",
       "      <td>0.0</td>\n",
       "      <td>3.99</td>\n",
       "      <td>EN</td>\n",
       "      <td>23.932939</td>\n",
       "      <td>23/02/2019</td>\n",
       "      <td>23/02/2019</td>\n",
       "      <td>NaN</td>\n",
       "      <td>NaN</td>\n",
       "      <td>0.958582</td>\n",
       "      <td>0.696478</td>\n",
       "    </tr>\n",
       "    <tr>\n",
       "      <th>4</th>\n",
       "      <td>https://apps.apple.com/us/app/cribbage-square-...</td>\n",
       "      <td>Cribbage Square Collection</td>\n",
       "      <td>d5832610-8ec2-44f5-989d-0f5fd9e67ef5</td>\n",
       "      <td>Solitaire crib games.</td>\n",
       "      <td>https://is3-ssl.mzstatic.com/image/thumb/Purpl...</td>\n",
       "      <td>CRIBBAGE SQUARE COLLECTION is an 12-in-1 colle...</td>\n",
       "      <td>MmpApps Corp.</td>\n",
       "      <td>Games, Card, Entertainment, Strategy</td>\n",
       "      <td>0.0</td>\n",
       "      <td>0.00</td>\n",
       "      <td>EN</td>\n",
       "      <td>17.901007</td>\n",
       "      <td>12/11/2013</td>\n",
       "      <td>16/01/2019</td>\n",
       "      <td>NaN</td>\n",
       "      <td>NaN</td>\n",
       "      <td>0.958582</td>\n",
       "      <td>0.696478</td>\n",
       "    </tr>\n",
       "    <tr>\n",
       "      <th>5</th>\n",
       "      <td>https://apps.apple.com/us/app/cookie-monsters-...</td>\n",
       "      <td>Cookie Monsters A Clickers and Collectors Bake...</td>\n",
       "      <td>83c971c6-6358-471d-9d2e-33f9e3a253b4</td>\n",
       "      <td>NaN</td>\n",
       "      <td>https://is2-ssl.mzstatic.com/image/thumb/Purpl...</td>\n",
       "      <td>Free For A Limited Time \\u2013 Try it Today\\nA...</td>\n",
       "      <td>DartFrog llc</td>\n",
       "      <td>Games, Strategy, Simulation</td>\n",
       "      <td>0.0</td>\n",
       "      <td>0.99</td>\n",
       "      <td>EN</td>\n",
       "      <td>14.337830</td>\n",
       "      <td>20/11/2013</td>\n",
       "      <td>20/11/2013</td>\n",
       "      <td>3.5</td>\n",
       "      <td>25.0</td>\n",
       "      <td>0.958582</td>\n",
       "      <td>0.696478</td>\n",
       "    </tr>\n",
       "    <tr>\n",
       "      <th>6</th>\n",
       "      <td>https://apps.apple.com/us/app/colo-r/id1303428132</td>\n",
       "      <td>Colo.r</td>\n",
       "      <td>99456c5a-037b-4c1f-8e40-63061bf56bb9</td>\n",
       "      <td>Minimal Puzzle Game</td>\n",
       "      <td>https://is1-ssl.mzstatic.com/image/thumb/Purpl...</td>\n",
       "      <td>Best Puzzle Games on iOS.\\n\\nPolished, mind-be...</td>\n",
       "      <td>Refik Kasal</td>\n",
       "      <td>Games, Entertainment, Puzzle, Strategy</td>\n",
       "      <td>0.0</td>\n",
       "      <td>0.00</td>\n",
       "      <td>EN</td>\n",
       "      <td>20.155865</td>\n",
       "      <td>31/10/2017</td>\n",
       "      <td>31/10/2017</td>\n",
       "      <td>NaN</td>\n",
       "      <td>NaN</td>\n",
       "      <td>0.958582</td>\n",
       "      <td>0.696478</td>\n",
       "    </tr>\n",
       "    <tr>\n",
       "      <th>7</th>\n",
       "      <td>https://apps.apple.com/us/app/extreme-turbo-gt...</td>\n",
       "      <td>Extreme Turbo GT Racing</td>\n",
       "      <td>b8bee0e2-3033-44a3-b014-f52e5802ed68</td>\n",
       "      <td>NaN</td>\n",
       "      <td>https://is2-ssl.mzstatic.com/image/thumb/Purpl...</td>\n",
       "      <td>\"you have played many gt racing stunts game bu...</td>\n",
       "      <td>Waseem Ahmad</td>\n",
       "      <td>Games, Strategy, Racing, Entertainment</td>\n",
       "      <td>0.0</td>\n",
       "      <td>2.99</td>\n",
       "      <td>EN</td>\n",
       "      <td>21.897968</td>\n",
       "      <td>16/09/2016</td>\n",
       "      <td>3/11/2016</td>\n",
       "      <td>NaN</td>\n",
       "      <td>NaN</td>\n",
       "      <td>0.958582</td>\n",
       "      <td>0.696478</td>\n",
       "    </tr>\n",
       "    <tr>\n",
       "      <th>8</th>\n",
       "      <td>https://apps.apple.com/us/app/simple-chess-boa...</td>\n",
       "      <td>Simple chess board</td>\n",
       "      <td>c2ee309a-8172-4551-9e0d-d9fc22491e1d</td>\n",
       "      <td>NaN</td>\n",
       "      <td>https://is4-ssl.mzstatic.com/image/thumb/Purpl...</td>\n",
       "      <td>\"A simple chess board and a chess clock withou...</td>\n",
       "      <td>Luis Lopez</td>\n",
       "      <td>Games, Strategy, Board, Utilities</td>\n",
       "      <td>0.0</td>\n",
       "      <td>0.99</td>\n",
       "      <td>CA, EN, ES</td>\n",
       "      <td>13.897530</td>\n",
       "      <td>5/07/2012</td>\n",
       "      <td>10/11/2015</td>\n",
       "      <td>4.5</td>\n",
       "      <td>26.0</td>\n",
       "      <td>0.958582</td>\n",
       "      <td>0.696478</td>\n",
       "    </tr>\n",
       "    <tr>\n",
       "      <th>9</th>\n",
       "      <td>https://apps.apple.com/us/app/escape-plan-offi...</td>\n",
       "      <td>Escape Plan - Office Escape</td>\n",
       "      <td>5f15067f-a65b-48e0-b4a9-946ce2fab712</td>\n",
       "      <td>Break the usual</td>\n",
       "      <td>https://is2-ssl.mzstatic.com/image/thumb/Purpl...</td>\n",
       "      <td>Smartphone puzzles!\\nAddicting mini puzzles!\\n...</td>\n",
       "      <td>Ronald Calvert</td>\n",
       "      <td>Games, Entertainment, Puzzle, Strategy</td>\n",
       "      <td>0.0</td>\n",
       "      <td>0.00</td>\n",
       "      <td>EN, ZH, ZH</td>\n",
       "      <td>20.815601</td>\n",
       "      <td>9/07/2018</td>\n",
       "      <td>9/07/2018</td>\n",
       "      <td>3.5</td>\n",
       "      <td>27.0</td>\n",
       "      <td>0.958582</td>\n",
       "      <td>0.038477</td>\n",
       "    </tr>\n",
       "  </tbody>\n",
       "</table>\n",
       "</div>"
      ],
      "text/plain": [
       "                                                 URL  \\\n",
       "0  https://apps.apple.com/us/app/lottery-life-mon...   \n",
       "1  https://apps.apple.com/us/app/cute-little-unic...   \n",
       "2  https://apps.apple.com/us/app/its-tanks/id5688...   \n",
       "3   https://apps.apple.com/us/app/dunes/id1453578024   \n",
       "4  https://apps.apple.com/us/app/cribbage-square-...   \n",
       "5  https://apps.apple.com/us/app/cookie-monsters-...   \n",
       "6  https://apps.apple.com/us/app/colo-r/id1303428132   \n",
       "7  https://apps.apple.com/us/app/extreme-turbo-gt...   \n",
       "8  https://apps.apple.com/us/app/simple-chess-boa...   \n",
       "9  https://apps.apple.com/us/app/escape-plan-offi...   \n",
       "\n",
       "                                                Name  \\\n",
       "0                       Lottery Life - Monopoly Wars   \n",
       "1                         Cute Little Unicorn Match3   \n",
       "2                                      \"It's Tanks!\"   \n",
       "3                                              Dunes   \n",
       "4                         Cribbage Square Collection   \n",
       "5  Cookie Monsters A Clickers and Collectors Bake...   \n",
       "6                                             Colo.r   \n",
       "7                            Extreme Turbo GT Racing   \n",
       "8                                 Simple chess board   \n",
       "9                        Escape Plan - Office Escape   \n",
       "\n",
       "                                game_id                        Subtitle  \\\n",
       "0  4173eb39-046d-431e-a504-b5418301a382  Monopoly for the New Millenium   \n",
       "1  c8cb6281-34fc-4e54-b6f9-1a30657fb370      Little Unicorn Match Crash   \n",
       "2  6a30fa24-b1c7-44b0-96e8-34b9c6c7232b                             NaN   \n",
       "3  4df50e72-3f5c-470a-8834-b56b5610e17a  Warning: *May cause addiction*   \n",
       "4  d5832610-8ec2-44f5-989d-0f5fd9e67ef5           Solitaire crib games.   \n",
       "5  83c971c6-6358-471d-9d2e-33f9e3a253b4                             NaN   \n",
       "6  99456c5a-037b-4c1f-8e40-63061bf56bb9             Minimal Puzzle Game   \n",
       "7  b8bee0e2-3033-44a3-b014-f52e5802ed68                             NaN   \n",
       "8  c2ee309a-8172-4551-9e0d-d9fc22491e1d                             NaN   \n",
       "9  5f15067f-a65b-48e0-b4a9-946ce2fab712                 Break the usual   \n",
       "\n",
       "                                            Icon URL  \\\n",
       "0  https://is5-ssl.mzstatic.com/image/thumb/Purpl...   \n",
       "1  https://is4-ssl.mzstatic.com/image/thumb/Purpl...   \n",
       "2  https://is1-ssl.mzstatic.com/image/thumb/Purpl...   \n",
       "3  https://is5-ssl.mzstatic.com/image/thumb/Purpl...   \n",
       "4  https://is3-ssl.mzstatic.com/image/thumb/Purpl...   \n",
       "5  https://is2-ssl.mzstatic.com/image/thumb/Purpl...   \n",
       "6  https://is1-ssl.mzstatic.com/image/thumb/Purpl...   \n",
       "7  https://is2-ssl.mzstatic.com/image/thumb/Purpl...   \n",
       "8  https://is4-ssl.mzstatic.com/image/thumb/Purpl...   \n",
       "9  https://is2-ssl.mzstatic.com/image/thumb/Purpl...   \n",
       "\n",
       "                                         Description  \\\n",
       "0  \"The spirit of Grand Theft Auto with the strat...   \n",
       "1  Cute Unicorn Match3 Blast Bomb is a matching p...   \n",
       "2  Bored of playing yet another multiplayer word ...   \n",
       "3  Race across our dunes in a effort to  achieve ...   \n",
       "4  CRIBBAGE SQUARE COLLECTION is an 12-in-1 colle...   \n",
       "5  Free For A Limited Time \\u2013 Try it Today\\nA...   \n",
       "6  Best Puzzle Games on iOS.\\n\\nPolished, mind-be...   \n",
       "7  \"you have played many gt racing stunts game bu...   \n",
       "8  \"A simple chess board and a chess clock withou...   \n",
       "9  Smartphone puzzles!\\nAddicting mini puzzles!\\n...   \n",
       "\n",
       "                     Developer                                  Genres  \\\n",
       "0  Opposite Lock Entertainment    Games, Simulation, Finance, Strategy   \n",
       "1      Angrisa Leungtanapolkul  Games, Entertainment, Strategy, Puzzle   \n",
       "2         Bit By Bit Games Ltd                 Games, Casual, Strategy   \n",
       "3          Sympo Games PTY LTD   Games, Strategy, Productivity, Family   \n",
       "4                MmpApps Corp.    Games, Card, Entertainment, Strategy   \n",
       "5                 DartFrog llc             Games, Strategy, Simulation   \n",
       "6                  Refik Kasal  Games, Entertainment, Puzzle, Strategy   \n",
       "7                 Waseem Ahmad  Games, Strategy, Racing, Entertainment   \n",
       "8                   Luis Lopez       Games, Strategy, Board, Utilities   \n",
       "9               Ronald Calvert  Games, Entertainment, Puzzle, Strategy   \n",
       "\n",
       "   gamestore_price  In-app Purchases   Languages       Size  \\\n",
       "0              0.0             31.93          EN  27.017725   \n",
       "1              0.0              0.00          EN  16.276960   \n",
       "2              0.0              4.96          EN  19.528240   \n",
       "3              0.0              3.99          EN  23.932939   \n",
       "4              0.0              0.00          EN  17.901007   \n",
       "5              0.0              0.99          EN  14.337830   \n",
       "6              0.0              0.00          EN  20.155865   \n",
       "7              0.0              2.99          EN  21.897968   \n",
       "8              0.0              0.99  CA, EN, ES  13.897530   \n",
       "9              0.0              0.00  EN, ZH, ZH  20.815601   \n",
       "\n",
       "  Original Release Date Current Version Release Date  Average User Rating  \\\n",
       "0            14/05/2018                   28/12/2018                  4.0   \n",
       "1             9/11/2017                    9/11/2017                  NaN   \n",
       "2            26/04/2013                   30/05/2013                  3.5   \n",
       "3            23/02/2019                   23/02/2019                  NaN   \n",
       "4            12/11/2013                   16/01/2019                  NaN   \n",
       "5            20/11/2013                   20/11/2013                  3.5   \n",
       "6            31/10/2017                   31/10/2017                  NaN   \n",
       "7            16/09/2016                    3/11/2016                  NaN   \n",
       "8             5/07/2012                   10/11/2015                  4.5   \n",
       "9             9/07/2018                    9/07/2018                  3.5   \n",
       "\n",
       "   User Rating Count  Primary Genre_freq_encode Age Rating_freq_encode  \n",
       "0               25.0                   0.958582               0.118849  \n",
       "1                NaN                   0.958582               0.696478  \n",
       "2               27.0                   0.958582               0.146196  \n",
       "3                NaN                   0.958582               0.696478  \n",
       "4                NaN                   0.958582               0.696478  \n",
       "5               25.0                   0.958582               0.696478  \n",
       "6                NaN                   0.958582               0.696478  \n",
       "7                NaN                   0.958582               0.696478  \n",
       "8               26.0                   0.958582               0.696478  \n",
       "9               27.0                   0.958582               0.038477  "
      ]
     },
     "execution_count": 65,
     "metadata": {},
     "output_type": "execute_result"
    },
    {
     "data": {
      "image/png": "[encoded data removed]",
      "text/plain": [
       "<Figure size 432x288 with 1 Axes>"
      ]
     },
     "metadata": {
      "needs_background": "light"
     },
     "output_type": "display_data"
    }
   ],
   "source": [
    "# Frequency Encoding as the data is Skewed\n",
    "\n",
    "# grouping by frequency \n",
    "fq = df_train.groupby('Age Rating').size()/len(df_train)  \n",
    "\n",
    "# mapping values to dataframe \n",
    "df_train.loc[:, \"{}_freq_encode\".format('Age Rating')] = df_train['Age Rating'].map(fq)   \n",
    "\n",
    "# drop original column. \n",
    "df_train = df_train.drop(['Age Rating'], axis = 1)  \n",
    "fq.plot.bar(stacked = True)   \n",
    "df_train.head(10) "
   ]
  },
  {
   "cell_type": "code",
   "execution_count": 66,
   "metadata": {},
   "outputs": [
    {
     "data": {
      "text/plain": [
       "CategoricalDtype(categories=['12+', '17+', '4+', '9+'], ordered=False)"
      ]
     },
     "execution_count": 66,
     "metadata": {},
     "output_type": "execute_result"
    }
   ],
   "source": [
    "# Converting Age Rating to category\n",
    "\n",
    "df_test = df_test.astype({\"Age Rating\":'category'}) \n",
    "df_test['Age Rating'].dtypes"
   ]
  },
  {
   "cell_type": "code",
   "execution_count": 67,
   "metadata": {},
   "outputs": [
    {
     "data": {
      "text/html": [
       "<div>\n",
       "<style scoped>\n",
       "    .dataframe tbody tr th:only-of-type {\n",
       "        vertical-align: middle;\n",
       "    }\n",
       "\n",
       "    .dataframe tbody tr th {\n",
       "        vertical-align: top;\n",
       "    }\n",
       "\n",
       "    .dataframe thead th {\n",
       "        text-align: right;\n",
       "    }\n",
       "</style>\n",
       "<table border=\"1\" class=\"dataframe\">\n",
       "  <thead>\n",
       "    <tr style=\"text-align: right;\">\n",
       "      <th></th>\n",
       "      <th>URL</th>\n",
       "      <th>Name</th>\n",
       "      <th>game_id</th>\n",
       "      <th>Subtitle</th>\n",
       "      <th>Icon URL</th>\n",
       "      <th>Description</th>\n",
       "      <th>Developer</th>\n",
       "      <th>Genres</th>\n",
       "      <th>In-app Purchases</th>\n",
       "      <th>Languages</th>\n",
       "      <th>Size</th>\n",
       "      <th>Original Release Date</th>\n",
       "      <th>Current Version Release Date</th>\n",
       "      <th>Average User Rating</th>\n",
       "      <th>User Rating Count</th>\n",
       "      <th>Primary Genre_freq_encode</th>\n",
       "      <th>Age Rating_freq_encode</th>\n",
       "    </tr>\n",
       "  </thead>\n",
       "  <tbody>\n",
       "    <tr>\n",
       "      <th>0</th>\n",
       "      <td>https://apps.apple.com/us/app/block-in-the-hol...</td>\n",
       "      <td>Block in the Hole Slider Puzzle Pro</td>\n",
       "      <td>a77cadb6-07f5-4f48-b012-df7b758cc3e4</td>\n",
       "      <td>NaN</td>\n",
       "      <td>https://is1-ssl.mzstatic.com/image/thumb/Purpl...</td>\n",
       "      <td>\"Check out this addictive and unique puzzle ga...</td>\n",
       "      <td>Amy Prizer</td>\n",
       "      <td>Games, Strategy, Puzzle</td>\n",
       "      <td>0.00</td>\n",
       "      <td>EN</td>\n",
       "      <td>15.836196</td>\n",
       "      <td>25/02/2017</td>\n",
       "      <td>25/02/2017</td>\n",
       "      <td>NaN</td>\n",
       "      <td>NaN</td>\n",
       "      <td>0.322999</td>\n",
       "      <td>0.233802</td>\n",
       "    </tr>\n",
       "    <tr>\n",
       "      <th>1</th>\n",
       "      <td>https://apps.apple.com/us/app/craft-warriors/i...</td>\n",
       "      <td>Craft Warriors</td>\n",
       "      <td>70a0edf7-3bad-4a4b-bad4-f7fdd6aca14e</td>\n",
       "      <td>A New Generation RTS</td>\n",
       "      <td>https://is1-ssl.mzstatic.com/image/thumb/Purpl...</td>\n",
       "      <td>\"A new generation 3D real-time strategy game!\\...</td>\n",
       "      <td>Translimit, Inc.</td>\n",
       "      <td>Games, Strategy, Simulation</td>\n",
       "      <td>167.90</td>\n",
       "      <td>EN</td>\n",
       "      <td>21.454198</td>\n",
       "      <td>22/04/2018</td>\n",
       "      <td>29/07/2019</td>\n",
       "      <td>4.5</td>\n",
       "      <td>14689.0</td>\n",
       "      <td>0.322999</td>\n",
       "      <td>0.047778</td>\n",
       "    </tr>\n",
       "    <tr>\n",
       "      <th>2</th>\n",
       "      <td>https://apps.apple.com/us/app/zero-tbs/id13998...</td>\n",
       "      <td>Zero TBS</td>\n",
       "      <td>ceb10cdb-ecf0-4028-b31b-54248fc102fe</td>\n",
       "      <td>Turn-based Strategy War Chess</td>\n",
       "      <td>https://is1-ssl.mzstatic.com/image/thumb/Purpl...</td>\n",
       "      <td>A classic turn-based strategy that go straight...</td>\n",
       "      <td>FBM</td>\n",
       "      <td>Games, Strategy, Board</td>\n",
       "      <td>0.00</td>\n",
       "      <td>EN</td>\n",
       "      <td>18.213408</td>\n",
       "      <td>26/07/2018</td>\n",
       "      <td>10/04/2019</td>\n",
       "      <td>NaN</td>\n",
       "      <td>NaN</td>\n",
       "      <td>0.322999</td>\n",
       "      <td>0.047778</td>\n",
       "    </tr>\n",
       "    <tr>\n",
       "      <th>3</th>\n",
       "      <td>https://apps.apple.com/us/app/search-and-find-...</td>\n",
       "      <td>Search and Find Hidden Objects</td>\n",
       "      <td>67e3cf3d-c7fc-4046-97b0-c7066c084a13</td>\n",
       "      <td>Horror Library Hidden Objects</td>\n",
       "      <td>https://is5-ssl.mzstatic.com/image/thumb/Purpl...</td>\n",
       "      <td>Infinitely joyful fairytale valley used to be ...</td>\n",
       "      <td>Ajaysinh Jadeja</td>\n",
       "      <td>Games, Puzzle, Strategy, Entertainment</td>\n",
       "      <td>3.98</td>\n",
       "      <td>EN</td>\n",
       "      <td>17.853528</td>\n",
       "      <td>3/06/2017</td>\n",
       "      <td>29/08/2018</td>\n",
       "      <td>2.5</td>\n",
       "      <td>10.0</td>\n",
       "      <td>0.322999</td>\n",
       "      <td>0.233802</td>\n",
       "    </tr>\n",
       "    <tr>\n",
       "      <th>4</th>\n",
       "      <td>https://apps.apple.com/us/app/dodge-ball-game/...</td>\n",
       "      <td>Dodge Ball - Game</td>\n",
       "      <td>b521f9e1-74e5-410f-8971-4649a35f8e94</td>\n",
       "      <td>NaN</td>\n",
       "      <td>https://is3-ssl.mzstatic.com/image/thumb/Purpl...</td>\n",
       "      <td>Think you are up for this challenge?\\n\\nThe be...</td>\n",
       "      <td>Asfia sultana</td>\n",
       "      <td>Games, Strategy, Entertainment, Puzzle</td>\n",
       "      <td>0.00</td>\n",
       "      <td>EN</td>\n",
       "      <td>18.958749</td>\n",
       "      <td>1/03/2016</td>\n",
       "      <td>1/03/2016</td>\n",
       "      <td>NaN</td>\n",
       "      <td>NaN</td>\n",
       "      <td>0.322999</td>\n",
       "      <td>0.233802</td>\n",
       "    </tr>\n",
       "    <tr>\n",
       "      <th>5</th>\n",
       "      <td>https://apps.apple.com/us/app/clash-rate/id915...</td>\n",
       "      <td>Clash Rate</td>\n",
       "      <td>37d08c7e-e164-49b3-8c32-31c23a70c743</td>\n",
       "      <td>NaN</td>\n",
       "      <td>https://is4-ssl.mzstatic.com/image/thumb/Purpl...</td>\n",
       "      <td>Clash Rate generates Core Skill Ratings and a ...</td>\n",
       "      <td>Tykon, Inc.</td>\n",
       "      <td>Games, Entertainment, Adventure, Strategy</td>\n",
       "      <td>0.00</td>\n",
       "      <td>EN</td>\n",
       "      <td>12.387151</td>\n",
       "      <td>14/09/2014</td>\n",
       "      <td>14/09/2014</td>\n",
       "      <td>5.0</td>\n",
       "      <td>5.0</td>\n",
       "      <td>0.322999</td>\n",
       "      <td>0.233802</td>\n",
       "    </tr>\n",
       "    <tr>\n",
       "      <th>6</th>\n",
       "      <td>https://apps.apple.com/us/app/tazzs-adventures...</td>\n",
       "      <td>\"Tazz's Adventures\"</td>\n",
       "      <td>4c073be6-df83-49b1-b115-aa2f3f56dacc</td>\n",
       "      <td>NaN</td>\n",
       "      <td>https://is3-ssl.mzstatic.com/image/thumb/Purpl...</td>\n",
       "      <td>\"Tazz's Adventure is a match 3 puzzle game wit...</td>\n",
       "      <td>George Escobar</td>\n",
       "      <td>Games, Casual, Entertainment, Strategy</td>\n",
       "      <td>1.98</td>\n",
       "      <td>EN</td>\n",
       "      <td>24.189362</td>\n",
       "      <td>4/11/2017</td>\n",
       "      <td>18/12/2017</td>\n",
       "      <td>5.0</td>\n",
       "      <td>5.0</td>\n",
       "      <td>0.322999</td>\n",
       "      <td>0.233802</td>\n",
       "    </tr>\n",
       "    <tr>\n",
       "      <th>7</th>\n",
       "      <td>https://apps.apple.com/us/app/5-elements-multi...</td>\n",
       "      <td>5 Elements Multiplayer Match-3</td>\n",
       "      <td>a9521107-e877-44a5-9a08-606dac8f2aef</td>\n",
       "      <td>Match-3 MOBA RPG combination</td>\n",
       "      <td>https://is5-ssl.mzstatic.com/image/thumb/Purpl...</td>\n",
       "      <td>Join our unique turn-based games where match-3...</td>\n",
       "      <td>linktime</td>\n",
       "      <td>Games, Strategy, Role Playing, Entertainment</td>\n",
       "      <td>68.95</td>\n",
       "      <td>EN</td>\n",
       "      <td>30.749795</td>\n",
       "      <td>11/01/2018</td>\n",
       "      <td>5/06/2019</td>\n",
       "      <td>NaN</td>\n",
       "      <td>NaN</td>\n",
       "      <td>0.322999</td>\n",
       "      <td>0.042849</td>\n",
       "    </tr>\n",
       "    <tr>\n",
       "      <th>8</th>\n",
       "      <td>https://apps.apple.com/us/app/kitty-cat-clicke...</td>\n",
       "      <td>Kitty Cat Clicker - Feed the Virtual Pet Kitte...</td>\n",
       "      <td>41472230-f739-461b-9ce5-0adc4b4cdb15</td>\n",
       "      <td>NaN</td>\n",
       "      <td>https://is2-ssl.mzstatic.com/image/thumb/Purpl...</td>\n",
       "      <td>\"The Internet might not be ready for this: cat...</td>\n",
       "      <td>Tapps Tecnologia da Informa\\xe7\\xe3o Ltda.</td>\n",
       "      <td>Games, Entertainment, Strategy, Family</td>\n",
       "      <td>15.93</td>\n",
       "      <td>EN</td>\n",
       "      <td>18.711405</td>\n",
       "      <td>7/03/2014</td>\n",
       "      <td>10/02/2016</td>\n",
       "      <td>4.5</td>\n",
       "      <td>3148.0</td>\n",
       "      <td>0.322999</td>\n",
       "      <td>0.233802</td>\n",
       "    </tr>\n",
       "    <tr>\n",
       "      <th>9</th>\n",
       "      <td>https://apps.apple.com/us/app/angel-town-3-new...</td>\n",
       "      <td>Angel Town 3- new idle games</td>\n",
       "      <td>90444094-2da6-40aa-ad3b-bc243744f0e1</td>\n",
       "      <td>2019 indie tactical RPG</td>\n",
       "      <td>https://is1-ssl.mzstatic.com/image/thumb/Purpl...</td>\n",
       "      <td>\"\\u30102019 New Idle RPG\\u3011\\n\\u25c6The worl...</td>\n",
       "      <td>Crab Soft</td>\n",
       "      <td>Games, Entertainment, Strategy, Role Playing</td>\n",
       "      <td>33.97</td>\n",
       "      <td>EN, FR, DE, IT, JA, KO, PT, RU, ZH, ES, ZH</td>\n",
       "      <td>25.079673</td>\n",
       "      <td>2/10/2017</td>\n",
       "      <td>17/07/2019</td>\n",
       "      <td>3.5</td>\n",
       "      <td>5.0</td>\n",
       "      <td>0.322999</td>\n",
       "      <td>0.233802</td>\n",
       "    </tr>\n",
       "  </tbody>\n",
       "</table>\n",
       "</div>"
      ],
      "text/plain": [
       "                                                 URL  \\\n",
       "0  https://apps.apple.com/us/app/block-in-the-hol...   \n",
       "1  https://apps.apple.com/us/app/craft-warriors/i...   \n",
       "2  https://apps.apple.com/us/app/zero-tbs/id13998...   \n",
       "3  https://apps.apple.com/us/app/search-and-find-...   \n",
       "4  https://apps.apple.com/us/app/dodge-ball-game/...   \n",
       "5  https://apps.apple.com/us/app/clash-rate/id915...   \n",
       "6  https://apps.apple.com/us/app/tazzs-adventures...   \n",
       "7  https://apps.apple.com/us/app/5-elements-multi...   \n",
       "8  https://apps.apple.com/us/app/kitty-cat-clicke...   \n",
       "9  https://apps.apple.com/us/app/angel-town-3-new...   \n",
       "\n",
       "                                                Name  \\\n",
       "0                Block in the Hole Slider Puzzle Pro   \n",
       "1                                     Craft Warriors   \n",
       "2                                           Zero TBS   \n",
       "3                     Search and Find Hidden Objects   \n",
       "4                                  Dodge Ball - Game   \n",
       "5                                         Clash Rate   \n",
       "6                                \"Tazz's Adventures\"   \n",
       "7                     5 Elements Multiplayer Match-3   \n",
       "8  Kitty Cat Clicker - Feed the Virtual Pet Kitte...   \n",
       "9                       Angel Town 3- new idle games   \n",
       "\n",
       "                                game_id                       Subtitle  \\\n",
       "0  a77cadb6-07f5-4f48-b012-df7b758cc3e4                            NaN   \n",
       "1  70a0edf7-3bad-4a4b-bad4-f7fdd6aca14e           A New Generation RTS   \n",
       "2  ceb10cdb-ecf0-4028-b31b-54248fc102fe  Turn-based Strategy War Chess   \n",
       "3  67e3cf3d-c7fc-4046-97b0-c7066c084a13  Horror Library Hidden Objects   \n",
       "4  b521f9e1-74e5-410f-8971-4649a35f8e94                            NaN   \n",
       "5  37d08c7e-e164-49b3-8c32-31c23a70c743                            NaN   \n",
       "6  4c073be6-df83-49b1-b115-aa2f3f56dacc                            NaN   \n",
       "7  a9521107-e877-44a5-9a08-606dac8f2aef   Match-3 MOBA RPG combination   \n",
       "8  41472230-f739-461b-9ce5-0adc4b4cdb15                            NaN   \n",
       "9  90444094-2da6-40aa-ad3b-bc243744f0e1        2019 indie tactical RPG   \n",
       "\n",
       "                                            Icon URL  \\\n",
       "0  https://is1-ssl.mzstatic.com/image/thumb/Purpl...   \n",
       "1  https://is1-ssl.mzstatic.com/image/thumb/Purpl...   \n",
       "2  https://is1-ssl.mzstatic.com/image/thumb/Purpl...   \n",
       "3  https://is5-ssl.mzstatic.com/image/thumb/Purpl...   \n",
       "4  https://is3-ssl.mzstatic.com/image/thumb/Purpl...   \n",
       "5  https://is4-ssl.mzstatic.com/image/thumb/Purpl...   \n",
       "6  https://is3-ssl.mzstatic.com/image/thumb/Purpl...   \n",
       "7  https://is5-ssl.mzstatic.com/image/thumb/Purpl...   \n",
       "8  https://is2-ssl.mzstatic.com/image/thumb/Purpl...   \n",
       "9  https://is1-ssl.mzstatic.com/image/thumb/Purpl...   \n",
       "\n",
       "                                         Description  \\\n",
       "0  \"Check out this addictive and unique puzzle ga...   \n",
       "1  \"A new generation 3D real-time strategy game!\\...   \n",
       "2  A classic turn-based strategy that go straight...   \n",
       "3  Infinitely joyful fairytale valley used to be ...   \n",
       "4  Think you are up for this challenge?\\n\\nThe be...   \n",
       "5  Clash Rate generates Core Skill Ratings and a ...   \n",
       "6  \"Tazz's Adventure is a match 3 puzzle game wit...   \n",
       "7  Join our unique turn-based games where match-3...   \n",
       "8  \"The Internet might not be ready for this: cat...   \n",
       "9  \"\\u30102019 New Idle RPG\\u3011\\n\\u25c6The worl...   \n",
       "\n",
       "                                    Developer  \\\n",
       "0                                  Amy Prizer   \n",
       "1                            Translimit, Inc.   \n",
       "2                                         FBM   \n",
       "3                             Ajaysinh Jadeja   \n",
       "4                               Asfia sultana   \n",
       "5                                 Tykon, Inc.   \n",
       "6                              George Escobar   \n",
       "7                                    linktime   \n",
       "8  Tapps Tecnologia da Informa\\xe7\\xe3o Ltda.   \n",
       "9                                   Crab Soft   \n",
       "\n",
       "                                         Genres  In-app Purchases  \\\n",
       "0                       Games, Strategy, Puzzle              0.00   \n",
       "1                   Games, Strategy, Simulation            167.90   \n",
       "2                        Games, Strategy, Board              0.00   \n",
       "3        Games, Puzzle, Strategy, Entertainment              3.98   \n",
       "4        Games, Strategy, Entertainment, Puzzle              0.00   \n",
       "5     Games, Entertainment, Adventure, Strategy              0.00   \n",
       "6        Games, Casual, Entertainment, Strategy              1.98   \n",
       "7  Games, Strategy, Role Playing, Entertainment             68.95   \n",
       "8        Games, Entertainment, Strategy, Family             15.93   \n",
       "9  Games, Entertainment, Strategy, Role Playing             33.97   \n",
       "\n",
       "                                    Languages       Size  \\\n",
       "0                                          EN  15.836196   \n",
       "1                                          EN  21.454198   \n",
       "2                                          EN  18.213408   \n",
       "3                                          EN  17.853528   \n",
       "4                                          EN  18.958749   \n",
       "5                                          EN  12.387151   \n",
       "6                                          EN  24.189362   \n",
       "7                                          EN  30.749795   \n",
       "8                                          EN  18.711405   \n",
       "9  EN, FR, DE, IT, JA, KO, PT, RU, ZH, ES, ZH  25.079673   \n",
       "\n",
       "  Original Release Date Current Version Release Date  Average User Rating  \\\n",
       "0            25/02/2017                   25/02/2017                  NaN   \n",
       "1            22/04/2018                   29/07/2019                  4.5   \n",
       "2            26/07/2018                   10/04/2019                  NaN   \n",
       "3             3/06/2017                   29/08/2018                  2.5   \n",
       "4             1/03/2016                    1/03/2016                  NaN   \n",
       "5            14/09/2014                   14/09/2014                  5.0   \n",
       "6             4/11/2017                   18/12/2017                  5.0   \n",
       "7            11/01/2018                    5/06/2019                  NaN   \n",
       "8             7/03/2014                   10/02/2016                  4.5   \n",
       "9             2/10/2017                   17/07/2019                  3.5   \n",
       "\n",
       "   User Rating Count  Primary Genre_freq_encode Age Rating_freq_encode  \n",
       "0                NaN                   0.322999               0.233802  \n",
       "1            14689.0                   0.322999               0.047778  \n",
       "2                NaN                   0.322999               0.047778  \n",
       "3               10.0                   0.322999               0.233802  \n",
       "4                NaN                   0.322999               0.233802  \n",
       "5                5.0                   0.322999               0.233802  \n",
       "6                5.0                   0.322999               0.233802  \n",
       "7                NaN                   0.322999               0.042849  \n",
       "8             3148.0                   0.322999               0.233802  \n",
       "9                5.0                   0.322999               0.233802  "
      ]
     },
     "execution_count": 67,
     "metadata": {},
     "output_type": "execute_result"
    },
    {
     "data": {
      "image/png": "[encoded data removed]",
      "text/plain": [
       "<Figure size 432x288 with 1 Axes>"
      ]
     },
     "metadata": {
      "needs_background": "light"
     },
     "output_type": "display_data"
    }
   ],
   "source": [
    "# Frequency Encoding as the data is Skewed\n",
    "\n",
    "# grouping by frequency \n",
    "fq_test = df_test.groupby('Age Rating').size()/len(df_train)  \n",
    "\n",
    "# mapping values to dataframe \n",
    "df_test.loc[:, \"{}_freq_encode\".format('Age Rating')] = df_test['Age Rating'].map(fq_test)   \n",
    "\n",
    "# drop original column. \n",
    "df_test = df_test.drop(['Age Rating'], axis = 1)  \n",
    "fq_test.plot.bar(stacked = True)   \n",
    "df_test.head(10) "
   ]
  },
  {
   "cell_type": "code",
   "execution_count": 68,
   "metadata": {},
   "outputs": [
    {
     "data": {
      "text/plain": [
       "EN                                                                                                    9202\n",
       "EN, ZH                                                                                                 273\n",
       "EN, ZH, ZH                                                                                             204\n",
       "CS, NL, EN, FR, DE, IT, JA, KO, PL, PT, RU, ZH, ES, SV, ZH, TR                                         203\n",
       "EN, DE                                                                                                 107\n",
       "                                                                                                      ... \n",
       "AR, DA, NL, EN, FI, FR, DE, EL, HE, HI, HU, ID, IT, JA, KO, NB, PL, PT, RU, ZH, ES, SV, TH, ZH, TR       1\n",
       "CS, FR, DE, RU                                                                                           1\n",
       "EN, FR, RU                                                                                               1\n",
       "EN, DE, PT, RU, ZH, ES                                                                                   1\n",
       "CA, DA, NL, EN, FR, DE, ID, IT, JA, KO, MS, PL, PT, RU, ZH, ES, SV, TH, ZH, TR                           1\n",
       "Name: Languages, Length: 828, dtype: int64"
      ]
     },
     "execution_count": 68,
     "metadata": {},
     "output_type": "execute_result"
    }
   ],
   "source": [
    "df_train['Languages'].value_counts()"
   ]
  },
  {
   "cell_type": "code",
   "execution_count": 69,
   "metadata": {},
   "outputs": [
    {
     "data": {
      "text/html": [
       "<div>\n",
       "<style scoped>\n",
       "    .dataframe tbody tr th:only-of-type {\n",
       "        vertical-align: middle;\n",
       "    }\n",
       "\n",
       "    .dataframe tbody tr th {\n",
       "        vertical-align: top;\n",
       "    }\n",
       "\n",
       "    .dataframe thead th {\n",
       "        text-align: right;\n",
       "    }\n",
       "</style>\n",
       "<table border=\"1\" class=\"dataframe\">\n",
       "  <thead>\n",
       "    <tr style=\"text-align: right;\">\n",
       "      <th></th>\n",
       "      <th>URL</th>\n",
       "      <th>Name</th>\n",
       "      <th>game_id</th>\n",
       "      <th>Subtitle</th>\n",
       "      <th>Icon URL</th>\n",
       "      <th>Description</th>\n",
       "      <th>Developer</th>\n",
       "      <th>Genres</th>\n",
       "      <th>gamestore_price</th>\n",
       "      <th>In-app Purchases</th>\n",
       "      <th>Size</th>\n",
       "      <th>Original Release Date</th>\n",
       "      <th>Current Version Release Date</th>\n",
       "      <th>Average User Rating</th>\n",
       "      <th>User Rating Count</th>\n",
       "      <th>Primary Genre_freq_encode</th>\n",
       "      <th>Age Rating_freq_encode</th>\n",
       "      <th>Languages_freq_encode</th>\n",
       "    </tr>\n",
       "  </thead>\n",
       "  <tbody>\n",
       "    <tr>\n",
       "      <th>0</th>\n",
       "      <td>https://apps.apple.com/us/app/lottery-life-mon...</td>\n",
       "      <td>Lottery Life - Monopoly Wars</td>\n",
       "      <td>4173eb39-046d-431e-a504-b5418301a382</td>\n",
       "      <td>Monopoly for the New Millenium</td>\n",
       "      <td>https://is5-ssl.mzstatic.com/image/thumb/Purpl...</td>\n",
       "      <td>\"The spirit of Grand Theft Auto with the strat...</td>\n",
       "      <td>Opposite Lock Entertainment</td>\n",
       "      <td>Games, Simulation, Finance, Strategy</td>\n",
       "      <td>0.0</td>\n",
       "      <td>31.93</td>\n",
       "      <td>27.017725</td>\n",
       "      <td>14/05/2018</td>\n",
       "      <td>28/12/2018</td>\n",
       "      <td>4.0</td>\n",
       "      <td>25.0</td>\n",
       "      <td>0.958582</td>\n",
       "      <td>0.118849</td>\n",
       "      <td>0.731537</td>\n",
       "    </tr>\n",
       "    <tr>\n",
       "      <th>1</th>\n",
       "      <td>https://apps.apple.com/us/app/cute-little-unic...</td>\n",
       "      <td>Cute Little Unicorn Match3</td>\n",
       "      <td>c8cb6281-34fc-4e54-b6f9-1a30657fb370</td>\n",
       "      <td>Little Unicorn Match Crash</td>\n",
       "      <td>https://is4-ssl.mzstatic.com/image/thumb/Purpl...</td>\n",
       "      <td>Cute Unicorn Match3 Blast Bomb is a matching p...</td>\n",
       "      <td>Angrisa Leungtanapolkul</td>\n",
       "      <td>Games, Entertainment, Strategy, Puzzle</td>\n",
       "      <td>0.0</td>\n",
       "      <td>0.00</td>\n",
       "      <td>16.276960</td>\n",
       "      <td>9/11/2017</td>\n",
       "      <td>9/11/2017</td>\n",
       "      <td>NaN</td>\n",
       "      <td>NaN</td>\n",
       "      <td>0.958582</td>\n",
       "      <td>0.696478</td>\n",
       "      <td>0.731537</td>\n",
       "    </tr>\n",
       "  </tbody>\n",
       "</table>\n",
       "</div>"
      ],
      "text/plain": [
       "                                                 URL  \\\n",
       "0  https://apps.apple.com/us/app/lottery-life-mon...   \n",
       "1  https://apps.apple.com/us/app/cute-little-unic...   \n",
       "\n",
       "                           Name                               game_id  \\\n",
       "0  Lottery Life - Monopoly Wars  4173eb39-046d-431e-a504-b5418301a382   \n",
       "1    Cute Little Unicorn Match3  c8cb6281-34fc-4e54-b6f9-1a30657fb370   \n",
       "\n",
       "                         Subtitle  \\\n",
       "0  Monopoly for the New Millenium   \n",
       "1      Little Unicorn Match Crash   \n",
       "\n",
       "                                            Icon URL  \\\n",
       "0  https://is5-ssl.mzstatic.com/image/thumb/Purpl...   \n",
       "1  https://is4-ssl.mzstatic.com/image/thumb/Purpl...   \n",
       "\n",
       "                                         Description  \\\n",
       "0  \"The spirit of Grand Theft Auto with the strat...   \n",
       "1  Cute Unicorn Match3 Blast Bomb is a matching p...   \n",
       "\n",
       "                     Developer                                  Genres  \\\n",
       "0  Opposite Lock Entertainment    Games, Simulation, Finance, Strategy   \n",
       "1      Angrisa Leungtanapolkul  Games, Entertainment, Strategy, Puzzle   \n",
       "\n",
       "   gamestore_price  In-app Purchases       Size Original Release Date  \\\n",
       "0              0.0             31.93  27.017725            14/05/2018   \n",
       "1              0.0              0.00  16.276960             9/11/2017   \n",
       "\n",
       "  Current Version Release Date  Average User Rating  User Rating Count  \\\n",
       "0                   28/12/2018                  4.0               25.0   \n",
       "1                    9/11/2017                  NaN                NaN   \n",
       "\n",
       "   Primary Genre_freq_encode Age Rating_freq_encode  Languages_freq_encode  \n",
       "0                   0.958582               0.118849               0.731537  \n",
       "1                   0.958582               0.696478               0.731537  "
      ]
     },
     "execution_count": 69,
     "metadata": {},
     "output_type": "execute_result"
    }
   ],
   "source": [
    "# Frequency Encoding as the data is Skewed\n",
    "\n",
    "# grouping by frequency \n",
    "fq = df_train.groupby('Languages').size()/len(df_train)  \n",
    "\n",
    "# mapping values to dataframe \n",
    "df_train.loc[:, \"{}_freq_encode\".format('Languages')] = df_train['Languages'].map(fq)   \n",
    "\n",
    "# drop original column. \n",
    "df_train = df_train.drop(['Languages'], axis = 1)  \n",
    "#fq.plot.bar(stacked = True)   \n",
    "df_train.head(2) "
   ]
  },
  {
   "cell_type": "code",
   "execution_count": 70,
   "metadata": {},
   "outputs": [
    {
     "data": {
      "text/html": [
       "<div>\n",
       "<style scoped>\n",
       "    .dataframe tbody tr th:only-of-type {\n",
       "        vertical-align: middle;\n",
       "    }\n",
       "\n",
       "    .dataframe tbody tr th {\n",
       "        vertical-align: top;\n",
       "    }\n",
       "\n",
       "    .dataframe thead th {\n",
       "        text-align: right;\n",
       "    }\n",
       "</style>\n",
       "<table border=\"1\" class=\"dataframe\">\n",
       "  <thead>\n",
       "    <tr style=\"text-align: right;\">\n",
       "      <th></th>\n",
       "      <th>URL</th>\n",
       "      <th>Name</th>\n",
       "      <th>game_id</th>\n",
       "      <th>Subtitle</th>\n",
       "      <th>Icon URL</th>\n",
       "      <th>Description</th>\n",
       "      <th>Developer</th>\n",
       "      <th>Genres</th>\n",
       "      <th>In-app Purchases</th>\n",
       "      <th>Size</th>\n",
       "      <th>Original Release Date</th>\n",
       "      <th>Current Version Release Date</th>\n",
       "      <th>Average User Rating</th>\n",
       "      <th>User Rating Count</th>\n",
       "      <th>Primary Genre_freq_encode</th>\n",
       "      <th>Age Rating_freq_encode</th>\n",
       "      <th>Languages_freq_encode</th>\n",
       "    </tr>\n",
       "  </thead>\n",
       "  <tbody>\n",
       "    <tr>\n",
       "      <th>0</th>\n",
       "      <td>https://apps.apple.com/us/app/block-in-the-hol...</td>\n",
       "      <td>Block in the Hole Slider Puzzle Pro</td>\n",
       "      <td>a77cadb6-07f5-4f48-b012-df7b758cc3e4</td>\n",
       "      <td>NaN</td>\n",
       "      <td>https://is1-ssl.mzstatic.com/image/thumb/Purpl...</td>\n",
       "      <td>\"Check out this addictive and unique puzzle ga...</td>\n",
       "      <td>Amy Prizer</td>\n",
       "      <td>Games, Strategy, Puzzle</td>\n",
       "      <td>0.0</td>\n",
       "      <td>15.836196</td>\n",
       "      <td>25/02/2017</td>\n",
       "      <td>25/02/2017</td>\n",
       "      <td>NaN</td>\n",
       "      <td>NaN</td>\n",
       "      <td>0.322999</td>\n",
       "      <td>0.233802</td>\n",
       "      <td>0.735419</td>\n",
       "    </tr>\n",
       "    <tr>\n",
       "      <th>1</th>\n",
       "      <td>https://apps.apple.com/us/app/craft-warriors/i...</td>\n",
       "      <td>Craft Warriors</td>\n",
       "      <td>70a0edf7-3bad-4a4b-bad4-f7fdd6aca14e</td>\n",
       "      <td>A New Generation RTS</td>\n",
       "      <td>https://is1-ssl.mzstatic.com/image/thumb/Purpl...</td>\n",
       "      <td>\"A new generation 3D real-time strategy game!\\...</td>\n",
       "      <td>Translimit, Inc.</td>\n",
       "      <td>Games, Strategy, Simulation</td>\n",
       "      <td>167.9</td>\n",
       "      <td>21.454198</td>\n",
       "      <td>22/04/2018</td>\n",
       "      <td>29/07/2019</td>\n",
       "      <td>4.5</td>\n",
       "      <td>14689.0</td>\n",
       "      <td>0.322999</td>\n",
       "      <td>0.047778</td>\n",
       "      <td>0.735419</td>\n",
       "    </tr>\n",
       "  </tbody>\n",
       "</table>\n",
       "</div>"
      ],
      "text/plain": [
       "                                                 URL  \\\n",
       "0  https://apps.apple.com/us/app/block-in-the-hol...   \n",
       "1  https://apps.apple.com/us/app/craft-warriors/i...   \n",
       "\n",
       "                                  Name                               game_id  \\\n",
       "0  Block in the Hole Slider Puzzle Pro  a77cadb6-07f5-4f48-b012-df7b758cc3e4   \n",
       "1                       Craft Warriors  70a0edf7-3bad-4a4b-bad4-f7fdd6aca14e   \n",
       "\n",
       "               Subtitle                                           Icon URL  \\\n",
       "0                   NaN  https://is1-ssl.mzstatic.com/image/thumb/Purpl...   \n",
       "1  A New Generation RTS  https://is1-ssl.mzstatic.com/image/thumb/Purpl...   \n",
       "\n",
       "                                         Description         Developer  \\\n",
       "0  \"Check out this addictive and unique puzzle ga...        Amy Prizer   \n",
       "1  \"A new generation 3D real-time strategy game!\\...  Translimit, Inc.   \n",
       "\n",
       "                        Genres  In-app Purchases       Size  \\\n",
       "0      Games, Strategy, Puzzle               0.0  15.836196   \n",
       "1  Games, Strategy, Simulation             167.9  21.454198   \n",
       "\n",
       "  Original Release Date Current Version Release Date  Average User Rating  \\\n",
       "0            25/02/2017                   25/02/2017                  NaN   \n",
       "1            22/04/2018                   29/07/2019                  4.5   \n",
       "\n",
       "   User Rating Count  Primary Genre_freq_encode Age Rating_freq_encode  \\\n",
       "0                NaN                   0.322999               0.233802   \n",
       "1            14689.0                   0.322999               0.047778   \n",
       "\n",
       "   Languages_freq_encode  \n",
       "0               0.735419  \n",
       "1               0.735419  "
      ]
     },
     "execution_count": 70,
     "metadata": {},
     "output_type": "execute_result"
    }
   ],
   "source": [
    "# Frequency Encoding as the data is Skewed\n",
    "\n",
    "# grouping by frequency \n",
    "fq = df_test.groupby('Languages').size()/len(df_test)  \n",
    "\n",
    "# mapping values to dataframe \n",
    "df_test.loc[:, \"{}_freq_encode\".format('Languages')] = df_test['Languages'].map(fq)   \n",
    "\n",
    "# drop original column. \n",
    "df_test = df_test.drop(['Languages'], axis = 1)  \n",
    "#fq.plot.bar(stacked = True)   \n",
    "df_test.head(2) "
   ]
  },
  {
   "cell_type": "code",
   "execution_count": 71,
   "metadata": {},
   "outputs": [
    {
     "data": {
      "text/plain": [
       "Tapps Tecnologia da Informa\\xe7\\xe3o Ltda.    98\n",
       "Vikash Patel                                  71\n",
       "Netsummit Marketing, Inc.                     70\n",
       "GabySoft                                      59\n",
       "NetSummit Enterprises, Inc.                   55\n",
       "                                              ..\n",
       "DV Artz Limited                                1\n",
       "PisCava LLC                                    1\n",
       "Jun woo Kim                                    1\n",
       "Cameron Ewart                                  1\n",
       "PNIX, Inc.                                     1\n",
       "Name: Developer, Length: 7091, dtype: int64"
      ]
     },
     "execution_count": 71,
     "metadata": {},
     "output_type": "execute_result"
    }
   ],
   "source": [
    "df_train['Developer'].value_counts()"
   ]
  },
  {
   "cell_type": "code",
   "execution_count": 72,
   "metadata": {},
   "outputs": [
    {
     "data": {
      "text/plain": [
       "4.5    2107\n",
       "4.0    1285\n",
       "5.0     740\n",
       "3.5     685\n",
       "3.0     377\n",
       "2.5     253\n",
       "2.0     120\n",
       "1.5      46\n",
       "1.0       9\n",
       "Name: Average User Rating, dtype: int64"
      ]
     },
     "execution_count": 72,
     "metadata": {},
     "output_type": "execute_result"
    }
   ],
   "source": [
    "df_train['Average User Rating'].value_counts()"
   ]
  },
  {
   "cell_type": "code",
   "execution_count": 73,
   "metadata": {},
   "outputs": [],
   "source": [
    "df_train['Average User Rating']=df_train['Average User Rating'].replace(np.nan,df_train['Average User Rating']\n",
    "                                                                        .value_counts().index[0])"
   ]
  },
  {
   "cell_type": "code",
   "execution_count": 74,
   "metadata": {},
   "outputs": [],
   "source": [
    "df_test['Average User Rating']=df_test['Average User Rating'].replace(np.nan,df_test['Average User Rating']\n",
    "                                                                        .value_counts().index[0])"
   ]
  },
  {
   "cell_type": "code",
   "execution_count": 75,
   "metadata": {},
   "outputs": [
    {
     "data": {
      "text/plain": [
       "5.0        296\n",
       "6.0        241\n",
       "7.0        197\n",
       "8.0        193\n",
       "11.0       135\n",
       "          ... \n",
       "22368.0      1\n",
       "3197.0       1\n",
       "3318.0       1\n",
       "1241.0       1\n",
       "37350.0      1\n",
       "Name: User Rating Count, Length: 1461, dtype: int64"
      ]
     },
     "execution_count": 75,
     "metadata": {},
     "output_type": "execute_result"
    }
   ],
   "source": [
    "df_train['User Rating Count'].value_counts()"
   ]
  },
  {
   "cell_type": "code",
   "execution_count": 76,
   "metadata": {},
   "outputs": [
    {
     "data": {
      "text/plain": [
       "44.0"
      ]
     },
     "execution_count": 76,
     "metadata": {},
     "output_type": "execute_result"
    }
   ],
   "source": [
    "df_train['User Rating Count'].median()"
   ]
  },
  {
   "cell_type": "code",
   "execution_count": 77,
   "metadata": {},
   "outputs": [],
   "source": [
    "df_train['User Rating Count']=df_train['User Rating Count'].replace(np.nan,df_train['User Rating Count'].median())"
   ]
  },
  {
   "cell_type": "code",
   "execution_count": 78,
   "metadata": {},
   "outputs": [],
   "source": [
    "\n",
    "df_test['User Rating Count']=df_test['User Rating Count'].replace(np.nan,df_test['User Rating Count'].median())"
   ]
  },
  {
   "cell_type": "code",
   "execution_count": 79,
   "metadata": {},
   "outputs": [],
   "source": [
    "df_train=df_train.drop(['URL','Name','Subtitle','Icon URL','Developer','game_id','Original Release Date',\n",
    "                        'Current Version Release Date'],axis=1)"
   ]
  },
  {
   "cell_type": "code",
   "execution_count": 80,
   "metadata": {},
   "outputs": [],
   "source": [
    "df_test=df_test.drop(['URL','Name','Subtitle','Icon URL','Developer','game_id','Original Release Date',\n",
    "                        'Current Version Release Date'],axis=1)"
   ]
  },
  {
   "cell_type": "code",
   "execution_count": 81,
   "metadata": {},
   "outputs": [
    {
     "data": {
      "text/html": [
       "<div>\n",
       "<style scoped>\n",
       "    .dataframe tbody tr th:only-of-type {\n",
       "        vertical-align: middle;\n",
       "    }\n",
       "\n",
       "    .dataframe tbody tr th {\n",
       "        vertical-align: top;\n",
       "    }\n",
       "\n",
       "    .dataframe thead th {\n",
       "        text-align: right;\n",
       "    }\n",
       "</style>\n",
       "<table border=\"1\" class=\"dataframe\">\n",
       "  <thead>\n",
       "    <tr style=\"text-align: right;\">\n",
       "      <th></th>\n",
       "      <th>Description</th>\n",
       "      <th>Genres</th>\n",
       "      <th>gamestore_price</th>\n",
       "      <th>In-app Purchases</th>\n",
       "      <th>Size</th>\n",
       "      <th>Average User Rating</th>\n",
       "      <th>User Rating Count</th>\n",
       "      <th>Primary Genre_freq_encode</th>\n",
       "      <th>Age Rating_freq_encode</th>\n",
       "      <th>Languages_freq_encode</th>\n",
       "    </tr>\n",
       "  </thead>\n",
       "  <tbody>\n",
       "    <tr>\n",
       "      <th>0</th>\n",
       "      <td>\"The spirit of Grand Theft Auto with the strat...</td>\n",
       "      <td>Games, Simulation, Finance, Strategy</td>\n",
       "      <td>0.0</td>\n",
       "      <td>31.93</td>\n",
       "      <td>27.017725</td>\n",
       "      <td>4.0</td>\n",
       "      <td>25.0</td>\n",
       "      <td>0.958582</td>\n",
       "      <td>0.118849</td>\n",
       "      <td>0.731537</td>\n",
       "    </tr>\n",
       "    <tr>\n",
       "      <th>1</th>\n",
       "      <td>Cute Unicorn Match3 Blast Bomb is a matching p...</td>\n",
       "      <td>Games, Entertainment, Strategy, Puzzle</td>\n",
       "      <td>0.0</td>\n",
       "      <td>0.00</td>\n",
       "      <td>16.276960</td>\n",
       "      <td>4.5</td>\n",
       "      <td>44.0</td>\n",
       "      <td>0.958582</td>\n",
       "      <td>0.696478</td>\n",
       "      <td>0.731537</td>\n",
       "    </tr>\n",
       "    <tr>\n",
       "      <th>2</th>\n",
       "      <td>Bored of playing yet another multiplayer word ...</td>\n",
       "      <td>Games, Casual, Strategy</td>\n",
       "      <td>0.0</td>\n",
       "      <td>4.96</td>\n",
       "      <td>19.528240</td>\n",
       "      <td>3.5</td>\n",
       "      <td>27.0</td>\n",
       "      <td>0.958582</td>\n",
       "      <td>0.146196</td>\n",
       "      <td>0.731537</td>\n",
       "    </tr>\n",
       "    <tr>\n",
       "      <th>3</th>\n",
       "      <td>Race across our dunes in a effort to  achieve ...</td>\n",
       "      <td>Games, Strategy, Productivity, Family</td>\n",
       "      <td>0.0</td>\n",
       "      <td>3.99</td>\n",
       "      <td>23.932939</td>\n",
       "      <td>4.5</td>\n",
       "      <td>44.0</td>\n",
       "      <td>0.958582</td>\n",
       "      <td>0.696478</td>\n",
       "      <td>0.731537</td>\n",
       "    </tr>\n",
       "    <tr>\n",
       "      <th>4</th>\n",
       "      <td>CRIBBAGE SQUARE COLLECTION is an 12-in-1 colle...</td>\n",
       "      <td>Games, Card, Entertainment, Strategy</td>\n",
       "      <td>0.0</td>\n",
       "      <td>0.00</td>\n",
       "      <td>17.901007</td>\n",
       "      <td>4.5</td>\n",
       "      <td>44.0</td>\n",
       "      <td>0.958582</td>\n",
       "      <td>0.696478</td>\n",
       "      <td>0.731537</td>\n",
       "    </tr>\n",
       "  </tbody>\n",
       "</table>\n",
       "</div>"
      ],
      "text/plain": [
       "                                         Description  \\\n",
       "0  \"The spirit of Grand Theft Auto with the strat...   \n",
       "1  Cute Unicorn Match3 Blast Bomb is a matching p...   \n",
       "2  Bored of playing yet another multiplayer word ...   \n",
       "3  Race across our dunes in a effort to  achieve ...   \n",
       "4  CRIBBAGE SQUARE COLLECTION is an 12-in-1 colle...   \n",
       "\n",
       "                                   Genres  gamestore_price  In-app Purchases  \\\n",
       "0    Games, Simulation, Finance, Strategy              0.0             31.93   \n",
       "1  Games, Entertainment, Strategy, Puzzle              0.0              0.00   \n",
       "2                 Games, Casual, Strategy              0.0              4.96   \n",
       "3   Games, Strategy, Productivity, Family              0.0              3.99   \n",
       "4    Games, Card, Entertainment, Strategy              0.0              0.00   \n",
       "\n",
       "        Size  Average User Rating  User Rating Count  \\\n",
       "0  27.017725                  4.0               25.0   \n",
       "1  16.276960                  4.5               44.0   \n",
       "2  19.528240                  3.5               27.0   \n",
       "3  23.932939                  4.5               44.0   \n",
       "4  17.901007                  4.5               44.0   \n",
       "\n",
       "   Primary Genre_freq_encode Age Rating_freq_encode  Languages_freq_encode  \n",
       "0                   0.958582               0.118849               0.731537  \n",
       "1                   0.958582               0.696478               0.731537  \n",
       "2                   0.958582               0.146196               0.731537  \n",
       "3                   0.958582               0.696478               0.731537  \n",
       "4                   0.958582               0.696478               0.731537  "
      ]
     },
     "execution_count": 81,
     "metadata": {},
     "output_type": "execute_result"
    }
   ],
   "source": [
    "df_train.head(5)"
   ]
  },
  {
   "cell_type": "code",
   "execution_count": 82,
   "metadata": {},
   "outputs": [
    {
     "data": {
      "text/html": [
       "<div>\n",
       "<style scoped>\n",
       "    .dataframe tbody tr th:only-of-type {\n",
       "        vertical-align: middle;\n",
       "    }\n",
       "\n",
       "    .dataframe tbody tr th {\n",
       "        vertical-align: top;\n",
       "    }\n",
       "\n",
       "    .dataframe thead th {\n",
       "        text-align: right;\n",
       "    }\n",
       "</style>\n",
       "<table border=\"1\" class=\"dataframe\">\n",
       "  <thead>\n",
       "    <tr style=\"text-align: right;\">\n",
       "      <th></th>\n",
       "      <th>Description</th>\n",
       "      <th>Genres</th>\n",
       "      <th>In-app Purchases</th>\n",
       "      <th>Size</th>\n",
       "      <th>Average User Rating</th>\n",
       "      <th>User Rating Count</th>\n",
       "      <th>Primary Genre_freq_encode</th>\n",
       "      <th>Age Rating_freq_encode</th>\n",
       "      <th>Languages_freq_encode</th>\n",
       "    </tr>\n",
       "  </thead>\n",
       "  <tbody>\n",
       "    <tr>\n",
       "      <th>0</th>\n",
       "      <td>\"Check out this addictive and unique puzzle ga...</td>\n",
       "      <td>Games, Strategy, Puzzle</td>\n",
       "      <td>0.00</td>\n",
       "      <td>15.836196</td>\n",
       "      <td>4.5</td>\n",
       "      <td>48.0</td>\n",
       "      <td>0.322999</td>\n",
       "      <td>0.233802</td>\n",
       "      <td>0.735419</td>\n",
       "    </tr>\n",
       "    <tr>\n",
       "      <th>1</th>\n",
       "      <td>\"A new generation 3D real-time strategy game!\\...</td>\n",
       "      <td>Games, Strategy, Simulation</td>\n",
       "      <td>167.90</td>\n",
       "      <td>21.454198</td>\n",
       "      <td>4.5</td>\n",
       "      <td>14689.0</td>\n",
       "      <td>0.322999</td>\n",
       "      <td>0.047778</td>\n",
       "      <td>0.735419</td>\n",
       "    </tr>\n",
       "    <tr>\n",
       "      <th>2</th>\n",
       "      <td>A classic turn-based strategy that go straight...</td>\n",
       "      <td>Games, Strategy, Board</td>\n",
       "      <td>0.00</td>\n",
       "      <td>18.213408</td>\n",
       "      <td>4.5</td>\n",
       "      <td>48.0</td>\n",
       "      <td>0.322999</td>\n",
       "      <td>0.047778</td>\n",
       "      <td>0.735419</td>\n",
       "    </tr>\n",
       "    <tr>\n",
       "      <th>3</th>\n",
       "      <td>Infinitely joyful fairytale valley used to be ...</td>\n",
       "      <td>Games, Puzzle, Strategy, Entertainment</td>\n",
       "      <td>3.98</td>\n",
       "      <td>17.853528</td>\n",
       "      <td>2.5</td>\n",
       "      <td>10.0</td>\n",
       "      <td>0.322999</td>\n",
       "      <td>0.233802</td>\n",
       "      <td>0.735419</td>\n",
       "    </tr>\n",
       "    <tr>\n",
       "      <th>4</th>\n",
       "      <td>Think you are up for this challenge?\\n\\nThe be...</td>\n",
       "      <td>Games, Strategy, Entertainment, Puzzle</td>\n",
       "      <td>0.00</td>\n",
       "      <td>18.958749</td>\n",
       "      <td>4.5</td>\n",
       "      <td>48.0</td>\n",
       "      <td>0.322999</td>\n",
       "      <td>0.233802</td>\n",
       "      <td>0.735419</td>\n",
       "    </tr>\n",
       "  </tbody>\n",
       "</table>\n",
       "</div>"
      ],
      "text/plain": [
       "                                         Description  \\\n",
       "0  \"Check out this addictive and unique puzzle ga...   \n",
       "1  \"A new generation 3D real-time strategy game!\\...   \n",
       "2  A classic turn-based strategy that go straight...   \n",
       "3  Infinitely joyful fairytale valley used to be ...   \n",
       "4  Think you are up for this challenge?\\n\\nThe be...   \n",
       "\n",
       "                                   Genres  In-app Purchases       Size  \\\n",
       "0                 Games, Strategy, Puzzle              0.00  15.836196   \n",
       "1             Games, Strategy, Simulation            167.90  21.454198   \n",
       "2                  Games, Strategy, Board              0.00  18.213408   \n",
       "3  Games, Puzzle, Strategy, Entertainment              3.98  17.853528   \n",
       "4  Games, Strategy, Entertainment, Puzzle              0.00  18.958749   \n",
       "\n",
       "   Average User Rating  User Rating Count  Primary Genre_freq_encode  \\\n",
       "0                  4.5               48.0                   0.322999   \n",
       "1                  4.5            14689.0                   0.322999   \n",
       "2                  4.5               48.0                   0.322999   \n",
       "3                  2.5               10.0                   0.322999   \n",
       "4                  4.5               48.0                   0.322999   \n",
       "\n",
       "  Age Rating_freq_encode  Languages_freq_encode  \n",
       "0               0.233802               0.735419  \n",
       "1               0.047778               0.735419  \n",
       "2               0.047778               0.735419  \n",
       "3               0.233802               0.735419  \n",
       "4               0.233802               0.735419  "
      ]
     },
     "execution_count": 82,
     "metadata": {},
     "output_type": "execute_result"
    }
   ],
   "source": [
    "df_test.head(5)"
   ]
  },
  {
   "cell_type": "code",
   "execution_count": 83,
   "metadata": {},
   "outputs": [],
   "source": [
    "from nltk.corpus import stopwords"
   ]
  },
  {
   "cell_type": "code",
   "execution_count": 85,
   "metadata": {},
   "outputs": [],
   "source": [
    "import operator"
   ]
  },
  {
   "cell_type": "code",
   "execution_count": 84,
   "metadata": {},
   "outputs": [],
   "source": [
    "r = Rake()"
   ]
  },
  {
   "cell_type": "code",
   "execution_count": 86,
   "metadata": {},
   "outputs": [],
   "source": [
    "text = df_train['Description']"
   ]
  },
  {
   "cell_type": "code",
   "execution_count": 88,
   "metadata": {},
   "outputs": [
    {
     "ename": "NameError",
     "evalue": "name 'rake' is not defined",
     "output_type": "error",
     "traceback": [
      "\u001b[1;31m---------------------------------------------------------------------------\u001b[0m",
      "\u001b[1;31mNameError\u001b[0m                                 Traceback (most recent call last)",
      "\u001b[1;32m<ipython-input-88-6287a8340048>\u001b[0m in \u001b[0;36m<module>\u001b[1;34m\u001b[0m\n\u001b[1;32m----> 1\u001b[1;33m \u001b[0mrake_object\u001b[0m \u001b[1;33m=\u001b[0m \u001b[0mrake\u001b[0m\u001b[1;33m.\u001b[0m\u001b[0mRake\u001b[0m\u001b[1;33m(\u001b[0m\u001b[1;33m)\u001b[0m\u001b[1;33m\u001b[0m\u001b[1;33m\u001b[0m\u001b[0m\n\u001b[0m\u001b[0;32m      2\u001b[0m \u001b[0mkeywords\u001b[0m \u001b[1;33m=\u001b[0m \u001b[0mrake_object\u001b[0m\u001b[1;33m.\u001b[0m\u001b[0mrun\u001b[0m\u001b[1;33m(\u001b[0m\u001b[0mtext\u001b[0m\u001b[1;33m)\u001b[0m\u001b[1;33m\u001b[0m\u001b[1;33m\u001b[0m\u001b[0m\n",
      "\u001b[1;31mNameError\u001b[0m: name 'rake' is not defined"
     ]
    }
   ],
   "source": [
    "rake_object = rake.Rake()\n",
    "keywords = rake_object.run(text) "
   ]
  },
  {
   "cell_type": "code",
   "execution_count": 107,
   "metadata": {},
   "outputs": [],
   "source": [
    "from rake_nltk import Rake\n",
    "from sklearn.metrics.pairwise import cosine_similarity\n",
    "from sklearn.feature_extraction.text import CountVectorizer"
   ]
  },
  {
   "cell_type": "code",
   "execution_count": 108,
   "metadata": {},
   "outputs": [],
   "source": [
    "rake_test = df_train.copy()"
   ]
  },
  {
   "cell_type": "code",
   "execution_count": 109,
   "metadata": {},
   "outputs": [
    {
     "data": {
      "text/html": [
       "<div>\n",
       "<style scoped>\n",
       "    .dataframe tbody tr th:only-of-type {\n",
       "        vertical-align: middle;\n",
       "    }\n",
       "\n",
       "    .dataframe tbody tr th {\n",
       "        vertical-align: top;\n",
       "    }\n",
       "\n",
       "    .dataframe thead th {\n",
       "        text-align: right;\n",
       "    }\n",
       "</style>\n",
       "<table border=\"1\" class=\"dataframe\">\n",
       "  <thead>\n",
       "    <tr style=\"text-align: right;\">\n",
       "      <th></th>\n",
       "      <th>Description</th>\n",
       "      <th>Genres</th>\n",
       "      <th>gamestore_price</th>\n",
       "      <th>In-app Purchases</th>\n",
       "      <th>Size</th>\n",
       "      <th>Average User Rating</th>\n",
       "      <th>User Rating Count</th>\n",
       "      <th>Primary Genre_freq_encode</th>\n",
       "      <th>Age Rating_freq_encode</th>\n",
       "      <th>Languages_freq_encode</th>\n",
       "    </tr>\n",
       "  </thead>\n",
       "  <tbody>\n",
       "    <tr>\n",
       "      <th>0</th>\n",
       "      <td>\"The spirit of Grand Theft Auto with the strat...</td>\n",
       "      <td>Games, Simulation, Finance, Strategy</td>\n",
       "      <td>0.0</td>\n",
       "      <td>31.93</td>\n",
       "      <td>27.017725</td>\n",
       "      <td>4.0</td>\n",
       "      <td>25.0</td>\n",
       "      <td>0.958582</td>\n",
       "      <td>0.118849</td>\n",
       "      <td>0.731537</td>\n",
       "    </tr>\n",
       "    <tr>\n",
       "      <th>1</th>\n",
       "      <td>Cute Unicorn Match3 Blast Bomb is a matching p...</td>\n",
       "      <td>Games, Entertainment, Strategy, Puzzle</td>\n",
       "      <td>0.0</td>\n",
       "      <td>0.00</td>\n",
       "      <td>16.276960</td>\n",
       "      <td>4.5</td>\n",
       "      <td>44.0</td>\n",
       "      <td>0.958582</td>\n",
       "      <td>0.696478</td>\n",
       "      <td>0.731537</td>\n",
       "    </tr>\n",
       "  </tbody>\n",
       "</table>\n",
       "</div>"
      ],
      "text/plain": [
       "                                         Description  \\\n",
       "0  \"The spirit of Grand Theft Auto with the strat...   \n",
       "1  Cute Unicorn Match3 Blast Bomb is a matching p...   \n",
       "\n",
       "                                   Genres  gamestore_price  In-app Purchases  \\\n",
       "0    Games, Simulation, Finance, Strategy              0.0             31.93   \n",
       "1  Games, Entertainment, Strategy, Puzzle              0.0              0.00   \n",
       "\n",
       "        Size  Average User Rating  User Rating Count  \\\n",
       "0  27.017725                  4.0               25.0   \n",
       "1  16.276960                  4.5               44.0   \n",
       "\n",
       "   Primary Genre_freq_encode Age Rating_freq_encode  Languages_freq_encode  \n",
       "0                   0.958582               0.118849               0.731537  \n",
       "1                   0.958582               0.696478               0.731537  "
      ]
     },
     "execution_count": 109,
     "metadata": {},
     "output_type": "execute_result"
    }
   ],
   "source": [
    "rake_test.head(2)"
   ]
  },
  {
   "cell_type": "code",
   "execution_count": 99,
   "metadata": {},
   "outputs": [],
   "source": [
    "# initializing the new column\n",
    "rake_test['Key_words'] = \"\"\n",
    "\n",
    "for index, row in rake_test.iterrows():\n",
    "    Description = row['Description']\n",
    "    \n",
    "    # instantiating Rake, by default is uses english stopwords from NLTK\n",
    "    # and discard all puntuation characters\n",
    "    r = Rake()\n",
    "\n",
    "    # extracting the words by passing the text\n",
    "    r.extract_keywords_from_text(Description)\n",
    "\n",
    "    # getting the dictionary whith key words and their scores\n",
    "    key_words_dict_scores = r.get_word_degrees()\n",
    "    \n",
    "    # assigning the key words to the new column\n",
    "    row['Key_words'] = list(key_words_dict_scores.keys())\n",
    "\n",
    "# dropping the Plot column\n",
    "rake_test.drop(columns = ['Description'], inplace = True)"
   ]
  },
  {
   "cell_type": "code",
   "execution_count": 100,
   "metadata": {},
   "outputs": [
    {
     "data": {
      "text/plain": [
       "defaultdict(<function rake_nltk.rake.Rake._build_word_co_occurance_graph.<locals>.<lambda>()>,\n",
       "            {'n': 11,\n",
       "             'control': 2,\n",
       "             'flying': 8,\n",
       "             'snake': 8,\n",
       "             'vs': 5,\n",
       "             'color': 5,\n",
       "             'block': 5,\n",
       "             'addictive': 6,\n",
       "             'endless': 6,\n",
       "             'runner': 6,\n",
       "             'game': 6,\n",
       "             '.\\\\': 9,\n",
       "             'nrelaxed': 1,\n",
       "             'calm': 1,\n",
       "             'beautiful': 3,\n",
       "             'exotic': 3,\n",
       "             'world': 3,\n",
       "             'zen': 1,\n",
       "             'little': 3,\n",
       "             'like': 3,\n",
       "             'background': 3,\n",
       "             'music': 3,\n",
       "             'simple': 1,\n",
       "             'blocks': 3})"
      ]
     },
     "execution_count": 100,
     "metadata": {},
     "output_type": "execute_result"
    }
   ],
   "source": [
    "key_words_dict_scores"
   ]
  },
  {
   "cell_type": "code",
   "execution_count": 102,
   "metadata": {},
   "outputs": [
    {
     "data": {
      "text/plain": [
       "count     12579\n",
       "unique        1\n",
       "top            \n",
       "freq      12579\n",
       "Name: Key_words, dtype: object"
      ]
     },
     "execution_count": 102,
     "metadata": {},
     "output_type": "execute_result"
    }
   ],
   "source": [
    "rake_test['Key_words'].describe()"
   ]
  },
  {
   "cell_type": "code",
   "execution_count": 106,
   "metadata": {},
   "outputs": [
    {
     "ename": "AttributeError",
     "evalue": "'list' object has no attribute 'describe'",
     "output_type": "error",
     "traceback": [
      "\u001b[1;31m---------------------------------------------------------------------------\u001b[0m",
      "\u001b[1;31mAttributeError\u001b[0m                            Traceback (most recent call last)",
      "\u001b[1;32m<ipython-input-106-2f805cffb14e>\u001b[0m in \u001b[0;36m<module>\u001b[1;34m\u001b[0m\n\u001b[1;32m----> 1\u001b[1;33m \u001b[0mrow\u001b[0m\u001b[1;33m[\u001b[0m\u001b[1;34m'Key_words'\u001b[0m\u001b[1;33m]\u001b[0m\u001b[1;33m.\u001b[0m\u001b[0mdescribe\u001b[0m\u001b[1;33m(\u001b[0m\u001b[1;33m)\u001b[0m\u001b[1;33m\u001b[0m\u001b[1;33m\u001b[0m\u001b[0m\n\u001b[0m",
      "\u001b[1;31mAttributeError\u001b[0m: 'list' object has no attribute 'describe'"
     ]
    }
   ],
   "source": [
    "row['Key_words'].describe()"
   ]
  },
  {
   "cell_type": "code",
   "execution_count": null,
   "metadata": {},
   "outputs": [],
   "source": []
  },
  {
   "cell_type": "code",
   "execution_count": null,
   "metadata": {},
   "outputs": [],
   "source": []
  },
  {
   "cell_type": "code",
   "execution_count": 82,
   "metadata": {},
   "outputs": [],
   "source": [
    "df_train=df_train.drop(['Description'],axis=1)"
   ]
  },
  {
   "cell_type": "code",
   "execution_count": 83,
   "metadata": {},
   "outputs": [],
   "source": [
    "df_test=df_test.drop(['Description'],axis=1)"
   ]
  },
  {
   "cell_type": "code",
   "execution_count": 84,
   "metadata": {},
   "outputs": [
    {
     "data": {
      "text/plain": [
       "Games, Strategy, Puzzle                                           565\n",
       "Games, Puzzle, Strategy                                           528\n",
       "Games, Strategy                                                   435\n",
       "Games, Strategy, Action                                           360\n",
       "Games, Simulation, Strategy                                       336\n",
       "                                                                 ... \n",
       "Games, Board, News, Strategy                                        1\n",
       "Games, Role Playing, Strategy, Finance                              1\n",
       "Games, Strategy, Role Playing, Health & Fitness                     1\n",
       "Stickers, Games, Emoji & Expressions, Gaming, Strategy, Action      1\n",
       "Games, Strategy, Lifestyle, Family                                  1\n",
       "Name: Genres, Length: 886, dtype: int64"
      ]
     },
     "execution_count": 84,
     "metadata": {},
     "output_type": "execute_result"
    }
   ],
   "source": [
    "df_train['Genres'].value_counts()"
   ]
  },
  {
   "cell_type": "code",
   "execution_count": 85,
   "metadata": {},
   "outputs": [],
   "source": [
    "from sklearn.feature_extraction.text import CountVectorizer, TfidfVectorizer"
   ]
  },
  {
   "cell_type": "code",
   "execution_count": 86,
   "metadata": {},
   "outputs": [],
   "source": [
    "vect = TfidfVectorizer(sublinear_tf=True, max_df=0.5, analyzer='word',stop_words='english')"
   ]
  },
  {
   "cell_type": "code",
   "execution_count": 87,
   "metadata": {},
   "outputs": [
    {
     "data": {
      "text/plain": [
       "(12579, 9)"
      ]
     },
     "execution_count": 87,
     "metadata": {},
     "output_type": "execute_result"
    }
   ],
   "source": [
    "df_train.shape"
   ]
  },
  {
   "cell_type": "code",
   "execution_count": 88,
   "metadata": {},
   "outputs": [
    {
     "data": {
      "text/plain": [
       "(4252, 8)"
      ]
     },
     "execution_count": 88,
     "metadata": {},
     "output_type": "execute_result"
    }
   ],
   "source": [
    "df_test.shape"
   ]
  },
  {
   "cell_type": "code",
   "execution_count": 89,
   "metadata": {},
   "outputs": [],
   "source": [
    "train = df_train.copy()"
   ]
  },
  {
   "cell_type": "code",
   "execution_count": 90,
   "metadata": {},
   "outputs": [],
   "source": [
    "test = df_test.copy()"
   ]
  },
  {
   "cell_type": "code",
   "execution_count": 91,
   "metadata": {},
   "outputs": [],
   "source": [
    "vec_train = train['Genres']\n",
    "vec_test = test['Genres']"
   ]
  },
  {
   "cell_type": "code",
   "execution_count": 92,
   "metadata": {},
   "outputs": [],
   "source": [
    "vec_train_fit = vect.fit_transform(vec_train)"
   ]
  },
  {
   "cell_type": "code",
   "execution_count": 93,
   "metadata": {},
   "outputs": [
    {
     "data": {
      "text/plain": [
       "(12579, 55)"
      ]
     },
     "execution_count": 93,
     "metadata": {},
     "output_type": "execute_result"
    }
   ],
   "source": [
    "vec_train_fit.shape"
   ]
  },
  {
   "cell_type": "code",
   "execution_count": 94,
   "metadata": {},
   "outputs": [],
   "source": [
    "vec_test_fit = vect.fit_transform(vec_test)"
   ]
  },
  {
   "cell_type": "code",
   "execution_count": 95,
   "metadata": {},
   "outputs": [
    {
     "data": {
      "text/plain": [
       "(4252, 48)"
      ]
     },
     "execution_count": 95,
     "metadata": {},
     "output_type": "execute_result"
    }
   ],
   "source": [
    "vec_test_fit.shape"
   ]
  },
  {
   "cell_type": "code",
   "execution_count": 96,
   "metadata": {},
   "outputs": [],
   "source": [
    "data_merge_train = pd.DataFrame(vec_train_fit.toarray())\n",
    "data_merge_test = pd.DataFrame(vec_test_fit.toarray())"
   ]
  },
  {
   "cell_type": "code",
   "execution_count": 97,
   "metadata": {},
   "outputs": [
    {
     "data": {
      "text/html": [
       "<div>\n",
       "<style scoped>\n",
       "    .dataframe tbody tr th:only-of-type {\n",
       "        vertical-align: middle;\n",
       "    }\n",
       "\n",
       "    .dataframe tbody tr th {\n",
       "        vertical-align: top;\n",
       "    }\n",
       "\n",
       "    .dataframe thead th {\n",
       "        text-align: right;\n",
       "    }\n",
       "</style>\n",
       "<table border=\"1\" class=\"dataframe\">\n",
       "  <thead>\n",
       "    <tr style=\"text-align: right;\">\n",
       "      <th></th>\n",
       "      <th>0</th>\n",
       "      <th>1</th>\n",
       "      <th>2</th>\n",
       "      <th>3</th>\n",
       "      <th>4</th>\n",
       "      <th>5</th>\n",
       "      <th>6</th>\n",
       "      <th>7</th>\n",
       "      <th>8</th>\n",
       "      <th>9</th>\n",
       "      <th>...</th>\n",
       "      <th>45</th>\n",
       "      <th>46</th>\n",
       "      <th>47</th>\n",
       "      <th>48</th>\n",
       "      <th>49</th>\n",
       "      <th>50</th>\n",
       "      <th>51</th>\n",
       "      <th>52</th>\n",
       "      <th>53</th>\n",
       "      <th>54</th>\n",
       "    </tr>\n",
       "  </thead>\n",
       "  <tbody>\n",
       "    <tr>\n",
       "      <th>0</th>\n",
       "      <td>0.0</td>\n",
       "      <td>0.0</td>\n",
       "      <td>0.0</td>\n",
       "      <td>0.0</td>\n",
       "      <td>0.0</td>\n",
       "      <td>0.0</td>\n",
       "      <td>0.0</td>\n",
       "      <td>0.0</td>\n",
       "      <td>0.000000</td>\n",
       "      <td>0.0</td>\n",
       "      <td>...</td>\n",
       "      <td>0.415381</td>\n",
       "      <td>0.0</td>\n",
       "      <td>0.0</td>\n",
       "      <td>0.0</td>\n",
       "      <td>0.0</td>\n",
       "      <td>0.0</td>\n",
       "      <td>0.0</td>\n",
       "      <td>0.0</td>\n",
       "      <td>0.0</td>\n",
       "      <td>0.0</td>\n",
       "    </tr>\n",
       "    <tr>\n",
       "      <th>1</th>\n",
       "      <td>0.0</td>\n",
       "      <td>0.0</td>\n",
       "      <td>0.0</td>\n",
       "      <td>0.0</td>\n",
       "      <td>0.0</td>\n",
       "      <td>0.0</td>\n",
       "      <td>0.0</td>\n",
       "      <td>0.0</td>\n",
       "      <td>0.000000</td>\n",
       "      <td>0.0</td>\n",
       "      <td>...</td>\n",
       "      <td>0.000000</td>\n",
       "      <td>0.0</td>\n",
       "      <td>0.0</td>\n",
       "      <td>0.0</td>\n",
       "      <td>0.0</td>\n",
       "      <td>0.0</td>\n",
       "      <td>0.0</td>\n",
       "      <td>0.0</td>\n",
       "      <td>0.0</td>\n",
       "      <td>0.0</td>\n",
       "    </tr>\n",
       "    <tr>\n",
       "      <th>2</th>\n",
       "      <td>0.0</td>\n",
       "      <td>0.0</td>\n",
       "      <td>0.0</td>\n",
       "      <td>0.0</td>\n",
       "      <td>0.0</td>\n",
       "      <td>0.0</td>\n",
       "      <td>0.0</td>\n",
       "      <td>0.0</td>\n",
       "      <td>0.000000</td>\n",
       "      <td>0.0</td>\n",
       "      <td>...</td>\n",
       "      <td>0.000000</td>\n",
       "      <td>0.0</td>\n",
       "      <td>0.0</td>\n",
       "      <td>0.0</td>\n",
       "      <td>0.0</td>\n",
       "      <td>0.0</td>\n",
       "      <td>0.0</td>\n",
       "      <td>0.0</td>\n",
       "      <td>0.0</td>\n",
       "      <td>0.0</td>\n",
       "    </tr>\n",
       "    <tr>\n",
       "      <th>3</th>\n",
       "      <td>0.0</td>\n",
       "      <td>0.0</td>\n",
       "      <td>0.0</td>\n",
       "      <td>0.0</td>\n",
       "      <td>0.0</td>\n",
       "      <td>0.0</td>\n",
       "      <td>0.0</td>\n",
       "      <td>0.0</td>\n",
       "      <td>0.000000</td>\n",
       "      <td>0.0</td>\n",
       "      <td>...</td>\n",
       "      <td>0.000000</td>\n",
       "      <td>0.0</td>\n",
       "      <td>0.0</td>\n",
       "      <td>0.0</td>\n",
       "      <td>0.0</td>\n",
       "      <td>0.0</td>\n",
       "      <td>0.0</td>\n",
       "      <td>0.0</td>\n",
       "      <td>0.0</td>\n",
       "      <td>0.0</td>\n",
       "    </tr>\n",
       "    <tr>\n",
       "      <th>4</th>\n",
       "      <td>0.0</td>\n",
       "      <td>0.0</td>\n",
       "      <td>0.0</td>\n",
       "      <td>0.0</td>\n",
       "      <td>0.0</td>\n",
       "      <td>0.0</td>\n",
       "      <td>0.0</td>\n",
       "      <td>0.0</td>\n",
       "      <td>0.924466</td>\n",
       "      <td>0.0</td>\n",
       "      <td>...</td>\n",
       "      <td>0.000000</td>\n",
       "      <td>0.0</td>\n",
       "      <td>0.0</td>\n",
       "      <td>0.0</td>\n",
       "      <td>0.0</td>\n",
       "      <td>0.0</td>\n",
       "      <td>0.0</td>\n",
       "      <td>0.0</td>\n",
       "      <td>0.0</td>\n",
       "      <td>0.0</td>\n",
       "    </tr>\n",
       "  </tbody>\n",
       "</table>\n",
       "<p>5 rows × 55 columns</p>\n",
       "</div>"
      ],
      "text/plain": [
       "    0    1    2    3    4    5    6    7         8    9   ...        45   46  \\\n",
       "0  0.0  0.0  0.0  0.0  0.0  0.0  0.0  0.0  0.000000  0.0  ...  0.415381  0.0   \n",
       "1  0.0  0.0  0.0  0.0  0.0  0.0  0.0  0.0  0.000000  0.0  ...  0.000000  0.0   \n",
       "2  0.0  0.0  0.0  0.0  0.0  0.0  0.0  0.0  0.000000  0.0  ...  0.000000  0.0   \n",
       "3  0.0  0.0  0.0  0.0  0.0  0.0  0.0  0.0  0.000000  0.0  ...  0.000000  0.0   \n",
       "4  0.0  0.0  0.0  0.0  0.0  0.0  0.0  0.0  0.924466  0.0  ...  0.000000  0.0   \n",
       "\n",
       "    47   48   49   50   51   52   53   54  \n",
       "0  0.0  0.0  0.0  0.0  0.0  0.0  0.0  0.0  \n",
       "1  0.0  0.0  0.0  0.0  0.0  0.0  0.0  0.0  \n",
       "2  0.0  0.0  0.0  0.0  0.0  0.0  0.0  0.0  \n",
       "3  0.0  0.0  0.0  0.0  0.0  0.0  0.0  0.0  \n",
       "4  0.0  0.0  0.0  0.0  0.0  0.0  0.0  0.0  \n",
       "\n",
       "[5 rows x 55 columns]"
      ]
     },
     "execution_count": 97,
     "metadata": {},
     "output_type": "execute_result"
    }
   ],
   "source": [
    "data_merge_train.head()"
   ]
  },
  {
   "cell_type": "code",
   "execution_count": 98,
   "metadata": {},
   "outputs": [
    {
     "data": {
      "text/plain": [
       "(12579, 55)"
      ]
     },
     "execution_count": 98,
     "metadata": {},
     "output_type": "execute_result"
    }
   ],
   "source": [
    "data_merge_train.shape"
   ]
  },
  {
   "cell_type": "code",
   "execution_count": 99,
   "metadata": {},
   "outputs": [
    {
     "data": {
      "text/plain": [
       "(4252, 48)"
      ]
     },
     "execution_count": 99,
     "metadata": {},
     "output_type": "execute_result"
    }
   ],
   "source": [
    "data_merge_test.shape"
   ]
  },
  {
   "cell_type": "code",
   "execution_count": 100,
   "metadata": {},
   "outputs": [],
   "source": [
    "data_merge_train=pd.concat([df_train,data_merge_train],axis=1)"
   ]
  },
  {
   "cell_type": "code",
   "execution_count": 101,
   "metadata": {},
   "outputs": [],
   "source": [
    "data_merge_test=pd.concat([df_test,data_merge_test],axis=1)"
   ]
  },
  {
   "cell_type": "code",
   "execution_count": 102,
   "metadata": {},
   "outputs": [],
   "source": [
    "data_merge_train=data_merge_train.drop(['Genres'],axis=1)"
   ]
  },
  {
   "cell_type": "code",
   "execution_count": 103,
   "metadata": {},
   "outputs": [],
   "source": [
    "data_merge_test=data_merge_test.drop(['Genres'],axis=1)"
   ]
  },
  {
   "cell_type": "code",
   "execution_count": 104,
   "metadata": {},
   "outputs": [
    {
     "data": {
      "text/plain": [
       "gamestore_price        172\n",
       "In-app Purchases       172\n",
       "Size                   172\n",
       "Average User Rating    172\n",
       "User Rating Count      172\n",
       "                      ... \n",
       "50                     172\n",
       "51                     172\n",
       "52                     172\n",
       "53                     172\n",
       "54                     172\n",
       "Length: 63, dtype: int64"
      ]
     },
     "execution_count": 104,
     "metadata": {},
     "output_type": "execute_result"
    }
   ],
   "source": [
    "data_merge_train.isna().sum()"
   ]
  },
  {
   "cell_type": "code",
   "execution_count": 105,
   "metadata": {},
   "outputs": [],
   "source": [
    "data_merge_train.dropna(inplace=True)"
   ]
  },
  {
   "cell_type": "code",
   "execution_count": 106,
   "metadata": {},
   "outputs": [
    {
     "data": {
      "text/plain": [
       "gamestore_price        0\n",
       "In-app Purchases       0\n",
       "Size                   0\n",
       "Average User Rating    0\n",
       "User Rating Count      0\n",
       "                      ..\n",
       "50                     0\n",
       "51                     0\n",
       "52                     0\n",
       "53                     0\n",
       "54                     0\n",
       "Length: 63, dtype: int64"
      ]
     },
     "execution_count": 106,
     "metadata": {},
     "output_type": "execute_result"
    }
   ],
   "source": [
    "data_merge_train.isna().sum()"
   ]
  },
  {
   "cell_type": "code",
   "execution_count": 107,
   "metadata": {},
   "outputs": [],
   "source": [
    "## Dividing the training data into X and y for model building and evaluations"
   ]
  },
  {
   "cell_type": "code",
   "execution_count": 108,
   "metadata": {},
   "outputs": [],
   "source": [
    "X = data_merge_train.drop(['gamestore_price'], axis=1)\n",
    "y = data_merge_train['gamestore_price']"
   ]
  },
  {
   "cell_type": "code",
   "execution_count": 109,
   "metadata": {},
   "outputs": [],
   "source": [
    "## Slipng the data into training and testing set\n",
    "\n",
    "from sklearn.model_selection import train_test_split\n",
    "X_train, X_test, y_train, y_test = train_test_split(X, y, test_size=0.3, random_state=101)"
   ]
  },
  {
   "cell_type": "code",
   "execution_count": 110,
   "metadata": {},
   "outputs": [],
   "source": [
    "#plt.subplots()\n",
    "#sns.heatmap(df_train.corr(), annot=True,cmap=\"YlGnBu\")"
   ]
  },
  {
   "cell_type": "code",
   "execution_count": 111,
   "metadata": {},
   "outputs": [],
   "source": [
    "## Building the Liner regression model\n",
    "\n",
    "from sklearn.linear_model import LinearRegression\n",
    "from sklearn import metrics"
   ]
  },
  {
   "cell_type": "code",
   "execution_count": 112,
   "metadata": {},
   "outputs": [
    {
     "name": "stdout",
     "output_type": "stream",
     "text": [
      "(8654, 62)\n",
      "(8654,)\n",
      "(3710, 62)\n",
      "(3710,)\n"
     ]
    }
   ],
   "source": [
    "print(X_train.shape)\n",
    "print(y_train.shape)\n",
    "print(X_test.shape)\n",
    "print(y_test.shape)"
   ]
  },
  {
   "cell_type": "code",
   "execution_count": 113,
   "metadata": {},
   "outputs": [
    {
     "name": "stdout",
     "output_type": "stream",
     "text": [
      "Model Score is 0.033148589029321274\n"
     ]
    }
   ],
   "source": [
    "model = LinearRegression()\n",
    "model.fit(X_train, y_train)\n",
    "y_predict = model.predict(X_test)\n",
    "model_score = model.score(X_test, y_test)\n",
    "print('Model Score is',model_score)"
   ]
  },
  {
   "cell_type": "code",
   "execution_count": 114,
   "metadata": {},
   "outputs": [],
   "source": [
    "from sklearn.metrics import mean_absolute_error"
   ]
  },
  {
   "cell_type": "code",
   "execution_count": 115,
   "metadata": {},
   "outputs": [
    {
     "data": {
      "text/plain": [
       "0.6295630450891443"
      ]
     },
     "execution_count": 115,
     "metadata": {},
     "output_type": "execute_result"
    }
   ],
   "source": [
    "mean_absolute_error(y_test, y_predict)"
   ]
  },
  {
   "cell_type": "code",
   "execution_count": 116,
   "metadata": {},
   "outputs": [],
   "source": [
    "## Building the SVR model\n",
    "from sklearn.svm import SVR"
   ]
  },
  {
   "cell_type": "code",
   "execution_count": 117,
   "metadata": {},
   "outputs": [
    {
     "name": "stdout",
     "output_type": "stream",
     "text": [
      "Model Score is -0.054235745831515025\n"
     ]
    }
   ],
   "source": [
    "regressor = SVR(kernel = 'rbf')\n",
    "regressor.fit(X_train, y_train)\n",
    "y_predict = regressor.predict(X_test)\n",
    "regressor_score = regressor.score(X_test, y_test)\n",
    "print('Model Score is',regressor_score)"
   ]
  },
  {
   "cell_type": "code",
   "execution_count": 118,
   "metadata": {},
   "outputs": [
    {
     "data": {
      "text/plain": [
       "0.43763764281147777"
      ]
     },
     "execution_count": 118,
     "metadata": {},
     "output_type": "execute_result"
    }
   ],
   "source": [
    "mean_absolute_error(y_test, y_predict)"
   ]
  },
  {
   "cell_type": "code",
   "execution_count": null,
   "metadata": {},
   "outputs": [],
   "source": []
  },
  {
   "cell_type": "code",
   "execution_count": null,
   "metadata": {},
   "outputs": [],
   "source": []
  },
  {
   "cell_type": "code",
   "execution_count": null,
   "metadata": {},
   "outputs": [],
   "source": []
  },
  {
   "cell_type": "code",
   "execution_count": null,
   "metadata": {},
   "outputs": [],
   "source": [
    "y_pred = regressor.predict(6.5)\n",
    "y_pred = sc_y.inverse_transform(y_pred) "
   ]
  },
  {
   "cell_type": "code",
   "execution_count": null,
   "metadata": {},
   "outputs": [],
   "source": []
  },
  {
   "cell_type": "code",
   "execution_count": null,
   "metadata": {},
   "outputs": [],
   "source": [
    "df = df_train.copy()"
   ]
  },
  {
   "cell_type": "code",
   "execution_count": null,
   "metadata": {},
   "outputs": [],
   "source": [
    "df['Genres'].isna().sum()"
   ]
  },
  {
   "cell_type": "code",
   "execution_count": null,
   "metadata": {},
   "outputs": [],
   "source": [
    "df['Genres'].value_counts()"
   ]
  },
  {
   "cell_type": "code",
   "execution_count": null,
   "metadata": {},
   "outputs": [],
   "source": [
    "def cleanString(review):\n",
    "    stopWords = set(stopwords.words('english'))\n",
    "    lemmatizer = WordNetLemmatizer()\n",
    "    returnString = \"\"\n",
    "    sentence_token = tokenize.word_tokenize(review)\n",
    "    idx_list = []\n",
    "    for j in range(len(sentence_token)):\n",
    "\n",
    "        single_sentence = tokenize.word_tokenize(sentence_token[j])\n",
    "        \n",
    "        single_sentence=[lemmatizer.lemmatize(t) for t in single_sentence]\n",
    "       \n",
    "        single_sentence=[word for word in single_sentence if word.lower() not in stopWords]\n",
    "        \n",
    "        sentences_filtered = [(idx,lemmatizer.lemmatize(w.lower())) for idx,w in enumerate(single_sentence) \n",
    "                              if w.lower() not in stopWords and w.isalnum()]\n",
    "        \n",
    "        idx_list.append([x[0] for x in sentences_filtered])        \n",
    "        \n",
    "        word_list = [x[1] for x in sentences_filtered]\n",
    "        \n",
    "        returnString = returnString + ' '.join(word_list) + ' '\n",
    "        \n",
    "    return returnString\n"
   ]
  },
  {
   "cell_type": "code",
   "execution_count": null,
   "metadata": {},
   "outputs": [],
   "source": [
    "def tokenize_test(model,train,validation):\n",
    " #APPLY CHARACTER VECTORIZER TRANSFORM ON VALIDATION DATA, 20000 dimensions of characters are created\n",
    "    X_test1 = char_vectorizer.transform(validation)\n",
    "    X_test2 = word_vectorizer.transform(validation)\n",
    "    test_stack = hstack([X_test1,X_test2])\n",
    "    #APPLY WORD VECTORIZER TRANSFORM ON VALIDATION DATA, 3000 dimensions of words are created\n",
    "     \n",
    "    #train_text = vect.fit_transform(train[\"Text\"])\n",
    "    #print ('Features: ', train_text.shape[1])\n",
    "    #test_text = vect.transform(validation[\"Text\"])\n",
    "      #Normalize the incoming test stack and train data\n",
    "       \n",
    "    train_features2 = Normalizer(copy=False).fit_transform(train_features1)\n",
    "    test_stack = Normalizer(copy=False).transform(test_stack)\n",
    "    \n",
    "    \n",
    "    model.fit(train_features2, y_train)\n",
    "    filename = 'model.sav'\n",
    "    pickle.dump(model, open(filename, 'wb'))\n",
    "    #word_model = pickle.load( open( \"word_preprocessing.sav\", \"rb\" ) )\n",
    "    #char_model = pickle.load( open( \"char_preprocessing.sav\", \"rb\" ) )\n",
    "    #X_test1 = word_model.transform(clntxt)\n",
    "    #X_test2 = char_model.transform(clntxt)\n",
    "    #test_stack = hstack([X_test1,X_test2])\n",
    "    #LOWER THE DIMENSION USING SVD IN PRINCIPAL COMPONENT ANALYSIS TO VERY FEW 500 DIMENSIONS\n",
    "      \n",
    "    svd_model=pickle.load( open( \"Pyhton_SVD_preprocessing.sav\", \"rb\" ) )\n",
    "    test_stack=svd_model.transform(test_stack)\n",
    "    \n",
    "      #FIT THE MODEL and SAVE THE FITTED MODEL\n",
    "            # APPLY UNSUPERVISED METHOD PAIRWAISE COSINE DISTANCE BETWEEN THE INCOMING TEXT and DOCUMENT and FIND THE CLOSEST MATCH \n",
    "                #Unsupervised method ensures the words are matched with context of the document and closest match is choosen for prediction\n",
    "                 #Predict the model with the incoming test data\n",
    "   \n",
    "    best_thread = pairwise_distances_argmin(\n",
    "            X=test_stack,\n",
    "            Y=train_features2,\n",
    "            metric='cosine'\n",
    "        )\n",
    "    \n",
    "    \n",
    "    print(best_thread)\n",
    "    # There are two predictions done here. best_thread is an output from pairwise cosine distance and that is used for prediction \n",
    "    # Original test word is also used for prediction\n",
    "    y_pred_class1 = model.predict(train_features2[best_thread])\n",
    "    y_pred_class2 = model.predict(test_stack)\n",
    "    print(y_pred_class1,y_pred_class2)\n",
    "    #return(y_pred_class1,y_pred_class2)\n",
    "    \n",
    "    \n",
    "    y_pred_class = model.predict(test_stack)\n",
    "    # Print the training accuracy \n",
    "    print(\"Training Accuracy\")\n",
    "    print(model.score(train_features2,y_train))\n",
    "    #Print the test accuracy with original incoming text\n",
    "    print(\"Testing Accuracy1\")\n",
    "    print(model.score(test_stack,y_test1))\n",
    "    #Print the test accuracy with pairwise distance (cosine) from the original text and similar words\n",
    "    print(\"Testing Accuracy2\")\n",
    "    print(model.score(train_features1[best_thread],y_test1))"
   ]
  },
  {
   "cell_type": "code",
   "execution_count": null,
   "metadata": {},
   "outputs": [],
   "source": []
  },
  {
   "cell_type": "code",
   "execution_count": null,
   "metadata": {},
   "outputs": [],
   "source": []
  },
  {
   "cell_type": "code",
   "execution_count": null,
   "metadata": {},
   "outputs": [],
   "source": [
    "def cleanString(review):\n",
    "    # Setup the stopwords from the English dictionary\n",
    "    #This can be used to clean Entire Dataframe of Documents.\n",
    "    stopWords = set(stopwords.words('english'))\n",
    "    #Create an object for word lemmatizer\n",
    "    lemmatizer = WordNetLemmatizer()\n",
    "    returnString = \"\"\n",
    "    #Tokenize the words from string to a list\n",
    "    sentence_token = tokenize.word_tokenize(review)\n",
    "    idx_list = []\n",
    "    for j in range(len(sentence_token)):\n",
    "        #For each sentence after tokenization, we take in the word for processing\n",
    "        single_sentence = tokenize.word_tokenize(sentence_token[j])\n",
    "        #We apply the word lemmetizer to lemmatize the word where we remove verb , adjactive inorder to provide the required word in the sentence.\n",
    "        single_sentence=[lemmatizer.lemmatize(t) for t in single_sentence]\n",
    "        # Filter stop words , make the all words in lower character and enumerate the sentence to remove special characters.\n",
    "        single_sentence=[word for word in single_sentence if word.lower() not in stopWords]\n",
    "        sentences_filtered = [(idx,lemmatizer.lemmatize(w.lower())) for idx,w in enumerate(single_sentence) \n",
    "                              if w.lower() not in stopWords and w.isalnum()]\n",
    "        idx_list.append([x[0] for x in sentences_filtered])\n",
    "        #Filtered string is taken for further processing\n",
    "        word_list = [x[1] for x in sentences_filtered]\n",
    "        returnString = returnString + ' '.join(word_list) + ' '\n",
    "    \n",
    "    return returnString\n",
    "def cleanData(string1):\n",
    "    articles = []\n",
    "    n = 1\n",
    "    #special case of Clean String function specifically implemented for cleaning the Incoming text(onely one text)\n",
    "    # In this case, we clean only one question which is entered by the user in the GUI\n",
    "    for i in range(n):\n",
    "        temp_string = cleanString(string1)\n",
    "        articles.append(temp_string)\n",
    "        print(str(i+1)+' of '+str(n)+\" articles cleaned.\",end='\\r')\n",
    "    \n",
    "    return(articles)\n",
    "def tokenize_test(model,train,validation):\n",
    " #APPLY CHARACTER VECTORIZER TRANSFORM ON VALIDATION DATA, 20000 dimensions of characters are created\n",
    "    X_test1 = char_vectorizer.transform(validation)\n",
    "    X_test2 = word_vectorizer.transform(validation)\n",
    "    test_stack = hstack([X_test1,X_test2])\n",
    "    #APPLY WORD VECTORIZER TRANSFORM ON VALIDATION DATA, 3000 dimensions of words are created\n",
    "     \n",
    "    #train_text = vect.fit_transform(train[\"Text\"])\n",
    "    #print ('Features: ', train_text.shape[1])\n",
    "    #test_text = vect.transform(validation[\"Text\"])\n",
    "      #Normalize the incoming test stack and train data\n",
    "       \n",
    "    train_features2 = Normalizer(copy=False).fit_transform(train_features1)\n",
    "    test_stack = Normalizer(copy=False).transform(test_stack)\n",
    "    \n",
    "    \n",
    "    model.fit(train_features2, y_train)\n",
    "    filename = 'model.sav'\n",
    "    pickle.dump(model, open(filename, 'wb'))\n",
    "    #word_model = pickle.load( open( \"word_preprocessing.sav\", \"rb\" ) )\n",
    "    #char_model = pickle.load( open( \"char_preprocessing.sav\", \"rb\" ) )\n",
    "    #X_test1 = word_model.transform(clntxt)\n",
    "    #X_test2 = char_model.transform(clntxt)\n",
    "    #test_stack = hstack([X_test1,X_test2])\n",
    "    #LOWER THE DIMENSION USING SVD IN PRINCIPAL COMPONENT ANALYSIS TO VERY FEW 500 DIMENSIONS\n",
    "      \n",
    "    svd_model=pickle.load( open( \"Pyhton_SVD_preprocessing.sav\", \"rb\" ) )\n",
    "    test_stack=svd_model.transform(test_stack)\n",
    "    \n",
    "      #FIT THE MODEL and SAVE THE FITTED MODEL\n",
    "            # APPLY UNSUPERVISED METHOD PAIRWAISE COSINE DISTANCE BETWEEN THE INCOMING TEXT and DOCUMENT and FIND THE CLOSEST MATCH \n",
    "                #Unsupervised method ensures the words are matched with context of the document and closest match is choosen for prediction\n",
    "                 #Predict the model with the incoming test data\n",
    "   \n",
    "    best_thread = pairwise_distances_argmin(\n",
    "            X=test_stack,\n",
    "            Y=train_features2,\n",
    "            metric='cosine'\n",
    "        )\n",
    "    \n",
    "    \n",
    "    print(best_thread)\n",
    "    # There are two predictions done here. best_thread is an output from pairwise cosine distance and that is used for prediction \n",
    "    # Original test word is also used for prediction\n",
    "    y_pred_class1 = model.predict(train_features2[best_thread])\n",
    "    y_pred_class2 = model.predict(test_stack)\n",
    "    print(y_pred_class1,y_pred_class2)\n",
    "    #return(y_pred_class1,y_pred_class2)\n",
    "    \n",
    "    \n",
    "    y_pred_class = model.predict(test_stack)\n",
    "    # Print the training accuracy \n",
    "    print(\"Training Accuracy\")\n",
    "    print(model.score(train_features2,y_train))\n",
    "    #Print the test accuracy with original incoming text\n",
    "    print(\"Testing Accuracy1\")\n",
    "    print(model.score(test_stack,y_test1))\n",
    "    #Print the test accuracy with pairwise distance (cosine) from the original text and similar words\n",
    "    print(\"Testing Accuracy2\")\n",
    "    print(model.score(train_features1[best_thread],y_test1))\n",
    "\n",
    "\n"
   ]
  },
  {
   "cell_type": "code",
   "execution_count": null,
   "metadata": {},
   "outputs": [],
   "source": []
  },
  {
   "cell_type": "code",
   "execution_count": null,
   "metadata": {},
   "outputs": [],
   "source": [
    "# dropping null value columns to avoid errors \n",
    "data.dropna(inplace = True) \n",
    "  \n",
    "# new data frame with split value columns \n",
    "new = data[\"Name\"].str.split(\" \", n = 1, expand = True) \n",
    "  \n",
    "# making separate first name column from new data frame \n",
    "data[\"First Name\"]= new[0] \n",
    "  \n",
    "# making separate last name column from new data frame \n",
    "data[\"Last Name\"]= new[1] \n",
    "  \n",
    "# Dropping old Name columns \n",
    "data.drop(columns =[\"Name\"], inplace = True) \n",
    "  \n",
    "# df display \n",
    "data "
   ]
  },
  {
   "cell_type": "code",
   "execution_count": null,
   "metadata": {},
   "outputs": [],
   "source": []
  },
  {
   "cell_type": "code",
   "execution_count": null,
   "metadata": {},
   "outputs": [],
   "source": []
  },
  {
   "cell_type": "code",
   "execution_count": null,
   "metadata": {},
   "outputs": [],
   "source": []
  },
  {
   "cell_type": "code",
   "execution_count": null,
   "metadata": {},
   "outputs": [],
   "source": []
  },
  {
   "cell_type": "code",
   "execution_count": null,
   "metadata": {},
   "outputs": [],
   "source": []
  },
  {
   "cell_type": "code",
   "execution_count": null,
   "metadata": {},
   "outputs": [],
   "source": []
  },
  {
   "cell_type": "code",
   "execution_count": null,
   "metadata": {},
   "outputs": [],
   "source": []
  },
  {
   "cell_type": "code",
   "execution_count": null,
   "metadata": {},
   "outputs": [],
   "source": []
  },
  {
   "cell_type": "code",
   "execution_count": null,
   "metadata": {},
   "outputs": [],
   "source": []
  },
  {
   "cell_type": "code",
   "execution_count": null,
   "metadata": {},
   "outputs": [],
   "source": []
  },
  {
   "cell_type": "code",
   "execution_count": null,
   "metadata": {},
   "outputs": [],
   "source": []
  },
  {
   "cell_type": "code",
   "execution_count": null,
   "metadata": {},
   "outputs": [],
   "source": []
  },
  {
   "cell_type": "code",
   "execution_count": null,
   "metadata": {},
   "outputs": [],
   "source": []
  },
  {
   "cell_type": "code",
   "execution_count": null,
   "metadata": {},
   "outputs": [],
   "source": []
  },
  {
   "cell_type": "code",
   "execution_count": null,
   "metadata": {},
   "outputs": [],
   "source": [
    "import warnings\n",
    "\n",
    "# Pandas is used for data manipulation and analysis\n",
    "import pandas as pd \n",
    "\n",
    "# Numpy is used for large, multi-dimensional arrays and matrices, along with mathematical operators on these arrays\n",
    "import numpy as np\n",
    "\n",
    "# Matplotlib is a data visualization library for 2D plots of arrays, built on NumPy arrays \n",
    "# and designed to work with the broader SciPy stack\n",
    "import matplotlib.pyplot as plt\n",
    "%matplotlib inline\n",
    "from matplotlib import pyplot\n",
    "\n",
    "# Seaborn is based on matplotlib, which aids in drawing attractive and informative statistical graphics.\n",
    "import seaborn as sns\n",
    "\n",
    "## Scikit-learn features various classification, regression and clustering algorithms\n",
    "from sklearn.model_selection import train_test_split\n",
    "from sklearn.ensemble import RandomForestClassifier, StackingClassifier, GradientBoostingClassifier\n",
    "from sklearn.tree import DecisionTreeClassifier\n",
    "from sklearn import metrics\n",
    "from sklearn import preprocessing\n",
    "from sklearn.metrics import confusion_matrix, classification_report, plot_confusion_matrix"
   ]
  },
  {
   "cell_type": "code",
   "execution_count": null,
   "metadata": {},
   "outputs": [],
   "source": [
    "\n",
    "df_expt=df_train.drop(['URL','Name','Subtitle', 'Icon URL', 'Description','Developer',],axis=1)\n",
    "df_expt_test=df_test.drop(['URL','Name','Subtitle', 'Icon URL', 'Description','Developer',],axis=1)\n",
    "\n",
    "df_expt=df_expt.drop([ 'Languages','Original Release Date', 'Current Version Release Date',],axis=1)\n",
    "df_expt_test=df_expt_test.drop([ 'Languages', 'Original Release Date', 'Current Version Release Date',],axis=1)\n",
    "df_expt['Size'] = np.cbrt(df_expt['Size'])\n",
    "df_expt_test['Size'] = np.cbrt(df_expt_test['Size'])\n",
    "\n",
    "df_expt['In-app Purchases'] = df_expt['In-app Purchases'].str.split(',', expand=True).astype(float).sum(axis=1)\n",
    "df_expt_test['In-app Purchases'] = df_expt_test['In-app Purchases'].str.split(',', expand=True).astype(float).sum(axis=1)\n",
    "df_expt_test['Average User Rating']=df_expt_test['Average User Rating'].replace(np.nan,df_expt_test['Average User Rating'].value_counts().index[0])\n",
    "df_expt_test['User Rating Count']=df_expt_test['User Rating Count'].replace(np.nan,df_expt_test['User Rating Count'].value_counts().index[0])\n",
    "df_expt['Average User Rating']=df_expt['Average User Rating'].replace(np.nan,df_expt['Average User Rating'].value_counts().index[0])\n",
    "df_expt['User Rating Count']=df_expt['User Rating Count'].replace(np.nan,df_expt['User Rating Count'].value_counts().index[0])\n",
    "\n",
    "\n",
    "\n",
    "\n",
    "\n",
    "#df_expt_test['User Rating Count']=np.where(df_expt_test['User Rating Count'] > 9.0, 9.0, df_expt_test['User Rating Count'] )\n",
    "#df_expt['User Rating Count']=np.where(df_expt['User Rating Count'] > 9.0, 9.0, df_expt['User Rating Count'] )\n",
    "#df_expt_test['Average User Rating']=np.where(df_expt_test['Average User Rating'] < 2.5, 2.5, df_expt_test['User Rating Count'] )\n",
    "#df_expt['Average User Rating']=np.where(df_expt['Average User Rating'] < 2.5, 2.5, df_expt['User Rating Count'] )\n",
    "#df_expt['gamestore_price']=np.where(df_expt['gamestore_price'] > 11.99, 11.99, df_expt['User Rating Count'] )\n",
    "\n",
    "#p.where(array1==0, 1, array1) \n",
    "#df.column_name.loc[df.column_name < 135]  = 5.0\n",
    "df_expt = df_expt.groupby('gamestore_price').filter(lambda x: len(x) >= 50)\n",
    "#df_expt = df_expt.groupby('User Rating Count').filter(lambda x: len(x) >= 40)\n",
    "#df_expt = df_expt.groupby('Average User Rating').filter(lambda x: len(x) >= 200)\n",
    "#index_names = df_expt[ df_expt['gamestore_price'] > 15 ].index\n",
    "\n",
    "#df_expt.drop(index_names, inplace = True)\n",
    "\n",
    "#df_expt_test = df_expt_test.groupby('gamestore_price').filter(lambda x: len(x) >= 50)\n",
    "#from sklearn.preprocessing import Imputer\n",
    "#imp1 = Imputer(missing_values=np.nan, strategy='',axis=0)\n",
    "\n",
    "#df_expt['Average User Rating'] =  imp1.fit_transform(df_expt[['Average User Rating']])\n",
    "#df_expt_test['Average User Rating'] = imp1.fit_transform(df_expt_test[['Average User Rating']])"
   ]
  },
  {
   "cell_type": "code",
   "execution_count": null,
   "metadata": {},
   "outputs": [],
   "source": [
    "from sklearn.feature_extraction.text import CountVectorizer, TfidfVectorizer\n",
    "Xtest = df_expt_test.Genres\n",
    "X= df_expt.Genres"
   ]
  },
  {
   "cell_type": "code",
   "execution_count": null,
   "metadata": {},
   "outputs": [],
   "source": [
    "vect = TfidfVectorizer(sublinear_tf=True, max_df=0.5, analyzer='word', \n",
    "                 stop_words='english')\n",
    "X_train_dtm = vect.fit_transform(X)"
   ]
  },
  {
   "cell_type": "code",
   "execution_count": null,
   "metadata": {},
   "outputs": [],
   "source": [
    "X_test_dtm = vect.transform(Xtest)"
   ]
  },
  {
   "cell_type": "code",
   "execution_count": null,
   "metadata": {},
   "outputs": [],
   "source": [
    "data_merge=pd.DataFrame(X_train_dtm.toarray())\n",
    "data_merge_test=pd.DataFrame(X_test_dtm.toarray())"
   ]
  },
  {
   "cell_type": "code",
   "execution_count": null,
   "metadata": {},
   "outputs": [],
   "source": [
    "#from sklearn.preprocessing import Imputer\n",
    "#imp1 = Imputer(missing_values=np.nan, strategy='most_frequent',axis=0)\n",
    "\n",
    "\n",
    "\n",
    "#df_expt['Age Rating']  = imp1.fit_transform(df_expt[['Age Rating]])\n",
    "#df_expt_test['Age Rating] =  imp1.fit_transform(df_expt_test[['Age Rating]])\n",
    "#df_expt['Average User Rating'] =  imp1.fit_transform(df_expt[['Average User Rating']])\n",
    "#df_expt_test['Average User Rating'] = imp1.fit_transform(df_expt_test[['Average User Rating']])\n",
    "#df_expt=df_expt.dropna(subset=['Age Rating'])\n",
    "#df_expt_test=df_expt_test.dropna(subset=['Age Rating'])\n",
    "df_expt=df_expt.dropna(subset=['gamestore_price'])\n",
    "df1=df_expt[['Primary Genre','Age Rating', ]]\n",
    "df2=df_expt_test[['Primary Genre','Age Rating',]]\n",
    "dummy1=pd.get_dummies(df1)\n",
    "dummy1.drop(['Primary Genre_Health & Fitness','Primary Genre_News',],axis=1,inplace=True)\n",
    "dummy2=pd.get_dummies(df2)\n",
    "final_data=pd.concat([df_expt,dummy1],axis=1)\n",
    "final_data_test=pd.concat([df_expt_test,dummy2],axis=1)\n",
    "\n",
    "\n",
    "final_data_test.drop(['Genres','Primary Genre','Age Rating',],inplace=True,axis=1)\n",
    "final_data.drop(['Genres','Primary Genre','Age Rating'],inplace=True,axis=1)\n",
    "\n",
    "\n",
    "final_data=pd.concat([final_data,data_merge],axis=1)\n",
    "final_data_test=pd.concat([final_data_test,data_merge_test],axis=1)\n",
    "#'Primary Genre_Travel'\n",
    "\n",
    "#from sklearn.preprocessing import OneHotEncoder\n",
    "#encoder = OneHotEncoder()\n",
    "#data_ohe = encoder.fit_transform(data)\n",
    "#data_test_ohe = encoder.transform(data_test)"
   ]
  },
  {
   "cell_type": "code",
   "execution_count": null,
   "metadata": {},
   "outputs": [],
   "source": [
    "Y=final_data.pop('gamestore_price')"
   ]
  },
  {
   "cell_type": "code",
   "execution_count": null,
   "metadata": {},
   "outputs": [],
   "source": [
    "game_id=final_data.pop('game_id')"
   ]
  },
  {
   "cell_type": "code",
   "execution_count": null,
   "metadata": {},
   "outputs": [],
   "source": [
    "game_id_test=final_data_test.pop('game_id')"
   ]
  },
  {
   "cell_type": "code",
   "execution_count": null,
   "metadata": {},
   "outputs": [],
   "source": [
    "X=final_data"
   ]
  },
  {
   "cell_type": "code",
   "execution_count": null,
   "metadata": {},
   "outputs": [],
   "source": [
    "X_test=final_data_test"
   ]
  },
  {
   "cell_type": "code",
   "execution_count": null,
   "metadata": {},
   "outputs": [],
   "source": [
    "X_test=X_test.fillna(0)\n",
    "X=X.fillna(0)\n",
    "Y=Y.fillna(0)"
   ]
  },
  {
   "cell_type": "code",
   "execution_count": null,
   "metadata": {},
   "outputs": [],
   "source": [
    "#Polynomial Features\n",
    "from sklearn.linear_model import LinearRegression\n",
    "from sklearn.model_selection import train_test_split\n",
    "from sklearn.preprocessing import PolynomialFeatures\n",
    "from sklearn.preprocessing import StandardScaler\n",
    "\n",
    "from sklearn.preprocessing import PolynomialFeatures\n",
    "from sklearn.preprocessing import StandardScaler\n",
    "from sklearn.pipeline import Pipeline\n",
    "from xgboost.sklearn import XGBRegressor\n",
    "from sklearn.decomposition import PCA\n",
    "from sklearn.model_selection import GridSearchCV\n",
    "from sklearn.pipeline import Pipeline\n",
    "from sklearn.preprocessing import PowerTransformer \n",
    "from sklearn.decomposition import PCA\n",
    "from sklearn.neural_network import MLPRegressor\n",
    "\n",
    "\n",
    "from sklearn.neural_network import MLPRegressor\n",
    "####Neural Net\n",
    "X.drop(['Primary Genre_Travel'],axis=1,inplace=True)\n",
    "X_train,Xtest,y_train,y_test=train_test_split(X,Y,test_size=0.02,random_state=42)\n",
    "nn = MLPRegressor(\n",
    "    hidden_layer_sizes=(5,),  activation='relu', solver='adam', alpha=0.001, batch_size='auto',\n",
    "    learning_rate='constant', learning_rate_init=0.01, power_t=0.5, max_iter=10000, shuffle=True,\n",
    "    random_state=9, tol=0.0001, verbose=False, warm_start=False, momentum=0.9, nesterovs_momentum=True,\n",
    "    early_stopping=False, validation_fraction=0.1, beta_1=0.9, beta_2=0.999, epsilon=1e-08)\n",
    "sc=StandardScaler()\n",
    "poly = PolynomialFeatures(degree=2)\n",
    "scaledXtrain = sc.fit_transform(X)\n",
    "scaledXtest = sc.transform(Xtest)\n",
    "polyXtrain = poly.fit_transform(scaledXtrain)\n",
    "polyXtest = poly.transform(scaledXtest)\n",
    "pca=PCA()\n",
    "pcaXtrain = pca.fit_transform(polyXtrain)\n",
    "pcaXtest = pca.transform(polyXtest)\n",
    "nn.fit(pcaXtrain, Y.ravel())\n",
    "y_pred = nn.predict(pcaXtest)\n",
    "print(np.sqrt(mean_absolute_error(y_test,nn.predict(pcaXtest))))\n",
    "lr_cv = cross_val_score(nn,pcaXtest,y_test, cv=20,scoring='mean_absolute_error').ravel()\n",
    "pred1=cross_val_predict(nn, pcaXtest, y_test, cv=20, method='predict')\n",
    "print(\"Training R2\")\n",
    "print(nn.score(pcaXtrain,Y))\n",
    "\n",
    "\n",
    "print(\"Test R2\")\n",
    "print(nn.score(pcaXtrain,pred1))"
   ]
  },
  {
   "cell_type": "code",
   "execution_count": null,
   "metadata": {},
   "outputs": [],
   "source": [
    "scaledXtest = sc.transform(X_test)\n",
    "\n",
    "polyXtest = poly.transform(scaledXtest)\n",
    "\n",
    "pcaXtest = pca.transform(polyXtest)\n",
    "y_pred = nn.predict(X_test)"
   ]
  },
  {
   "cell_type": "code",
   "execution_count": null,
   "metadata": {},
   "outputs": [],
   "source": []
  },
  {
   "cell_type": "code",
   "execution_count": null,
   "metadata": {},
   "outputs": [],
   "source": []
  },
  {
   "cell_type": "code",
   "execution_count": null,
   "metadata": {},
   "outputs": [],
   "source": []
  },
  {
   "cell_type": "code",
   "execution_count": null,
   "metadata": {},
   "outputs": [],
   "source": []
  },
  {
   "cell_type": "code",
   "execution_count": null,
   "metadata": {},
   "outputs": [],
   "source": []
  },
  {
   "cell_type": "code",
   "execution_count": null,
   "metadata": {},
   "outputs": [],
   "source": []
  },
  {
   "cell_type": "code",
   "execution_count": null,
   "metadata": {},
   "outputs": [],
   "source": []
  },
  {
   "cell_type": "code",
   "execution_count": null,
   "metadata": {},
   "outputs": [],
   "source": []
  },
  {
   "cell_type": "code",
   "execution_count": null,
   "metadata": {},
   "outputs": [],
   "source": []
  },
  {
   "cell_type": "code",
   "execution_count": null,
   "metadata": {},
   "outputs": [],
   "source": []
  },
  {
   "cell_type": "code",
   "execution_count": null,
   "metadata": {},
   "outputs": [],
   "source": []
  },
  {
   "cell_type": "code",
   "execution_count": null,
   "metadata": {},
   "outputs": [],
   "source": []
  },
  {
   "cell_type": "code",
   "execution_count": null,
   "metadata": {},
   "outputs": [],
   "source": []
  },
  {
   "cell_type": "code",
   "execution_count": null,
   "metadata": {},
   "outputs": [],
   "source": []
  },
  {
   "cell_type": "code",
   "execution_count": null,
   "metadata": {},
   "outputs": [],
   "source": []
  },
  {
   "cell_type": "code",
   "execution_count": null,
   "metadata": {},
   "outputs": [],
   "source": []
  },
  {
   "cell_type": "code",
   "execution_count": null,
   "metadata": {},
   "outputs": [],
   "source": []
  },
  {
   "cell_type": "code",
   "execution_count": null,
   "metadata": {},
   "outputs": [],
   "source": []
  },
  {
   "cell_type": "code",
   "execution_count": null,
   "metadata": {},
   "outputs": [],
   "source": []
  },
  {
   "cell_type": "code",
   "execution_count": null,
   "metadata": {},
   "outputs": [],
   "source": []
  },
  {
   "cell_type": "code",
   "execution_count": null,
   "metadata": {},
   "outputs": [],
   "source": []
  },
  {
   "cell_type": "code",
   "execution_count": null,
   "metadata": {},
   "outputs": [],
   "source": []
  },
  {
   "cell_type": "code",
   "execution_count": null,
   "metadata": {},
   "outputs": [],
   "source": []
  },
  {
   "cell_type": "code",
   "execution_count": null,
   "metadata": {},
   "outputs": [],
   "source": []
  },
  {
   "cell_type": "code",
   "execution_count": null,
   "metadata": {},
   "outputs": [],
   "source": [
    "#df_train.to_csv('df_train.csv', sep=',',encoding='utf-8', index=False)\n",
    "#df_test.to_csv('df_test.csv', sep=',',encoding='utf-8', index=False)"
   ]
  },
  {
   "cell_type": "code",
   "execution_count": null,
   "metadata": {},
   "outputs": [],
   "source": [
    "df_train.head()"
   ]
  },
  {
   "cell_type": "code",
   "execution_count": null,
   "metadata": {},
   "outputs": [],
   "source": [
    "df_train.columns"
   ]
  },
  {
   "cell_type": "code",
   "execution_count": null,
   "metadata": {},
   "outputs": [],
   "source": [
    "df_train.info()"
   ]
  },
  {
   "cell_type": "code",
   "execution_count": null,
   "metadata": {},
   "outputs": [],
   "source": [
    "df_train.describe(include='all').transpose()"
   ]
  },
  {
   "cell_type": "code",
   "execution_count": null,
   "metadata": {},
   "outputs": [],
   "source": [
    "df_train.describe().transpose()"
   ]
  },
  {
   "cell_type": "code",
   "execution_count": null,
   "metadata": {},
   "outputs": [],
   "source": [
    "df = df_train.copy()"
   ]
  },
  {
   "cell_type": "code",
   "execution_count": null,
   "metadata": {},
   "outputs": [],
   "source": [
    "n = df.nunique(axis=0) \n",
    "  \n",
    "print(\"No.of.unique values in each column :\\n\", \n",
    "      n)"
   ]
  },
  {
   "cell_type": "code",
   "execution_count": null,
   "metadata": {},
   "outputs": [],
   "source": [
    "df['User Rating Count'].value_counts()"
   ]
  },
  {
   "cell_type": "code",
   "execution_count": null,
   "metadata": {},
   "outputs": [],
   "source": [
    "index_names = df[ df['User Rating Count'] > 50 ].index \n",
    "\n",
    "df.drop(index_names, inplace = True) "
   ]
  },
  {
   "cell_type": "code",
   "execution_count": null,
   "metadata": {},
   "outputs": [],
   "source": [
    "df['User Rating Count'].value_counts()"
   ]
  },
  {
   "cell_type": "code",
   "execution_count": null,
   "metadata": {},
   "outputs": [],
   "source": []
  },
  {
   "cell_type": "code",
   "execution_count": null,
   "metadata": {},
   "outputs": [],
   "source": []
  },
  {
   "cell_type": "code",
   "execution_count": null,
   "metadata": {},
   "outputs": [],
   "source": [
    "df['gamestore_price'].value_counts()"
   ]
  },
  {
   "cell_type": "code",
   "execution_count": null,
   "metadata": {},
   "outputs": [],
   "source": [
    "\n",
    "df = df.groupby('gamestore_price').filter(lambda x: len(x) >= 50)"
   ]
  },
  {
   "cell_type": "code",
   "execution_count": null,
   "metadata": {},
   "outputs": [],
   "source": [
    "index_names = df[ df['gamestore_price'] > 15 ].index \n",
    "\n",
    "df.drop(index_names, inplace = True) "
   ]
  },
  {
   "cell_type": "code",
   "execution_count": null,
   "metadata": {},
   "outputs": [],
   "source": [
    "# import pandas library \n",
    "import pandas as pd \n",
    "  \n",
    "# dictionary with list object in values \n",
    "details = { \n",
    "    'Name' : ['Ankit', 'Aishwarya', 'Shaurya', \n",
    "              'Shivangi', 'Priya', 'Swapnil'], \n",
    "    'Age' : [23, 21, 22, 21, 24, 25], \n",
    "    'University' : ['BHU', 'JNU', 'DU', 'BHU',  \n",
    "                    'Geu', 'Geu'], \n",
    "} \n",
    "  \n",
    "# creating a Dataframe object  \n",
    "df = pd.DataFrame(details, columns = ['Name', 'Age', \n",
    "                                      'University'], \n",
    "                  index = ['a', 'b', 'c', 'd', 'e', 'f']) \n",
    "  \n",
    "# get names of indexes for which \n",
    "# column Age has value 21 \n",
    "index_names = df[ df['Age'] == 21 ].index \n",
    "  \n",
    "# drop these row indexes \n",
    "# from dataFrame \n",
    "df.drop(index_names, inplace = True) \n",
    "  \n",
    "df \n"
   ]
  },
  {
   "cell_type": "code",
   "execution_count": null,
   "metadata": {},
   "outputs": [],
   "source": []
  },
  {
   "cell_type": "code",
   "execution_count": null,
   "metadata": {},
   "outputs": [],
   "source": [
    "plt.subplots(figsize=(20,15))\n",
    "sns.heatmap(df.corr(), annot=True,cmap=\"YlGnBu\")"
   ]
  },
  {
   "cell_type": "code",
   "execution_count": null,
   "metadata": {},
   "outputs": [],
   "source": []
  },
  {
   "cell_type": "code",
   "execution_count": null,
   "metadata": {},
   "outputs": [],
   "source": []
  },
  {
   "cell_type": "code",
   "execution_count": null,
   "metadata": {},
   "outputs": [],
   "source": [
    "df['Size'] = np.sqrt(df['Size'])"
   ]
  },
  {
   "cell_type": "code",
   "execution_count": null,
   "metadata": {},
   "outputs": [],
   "source": []
  },
  {
   "cell_type": "code",
   "execution_count": null,
   "metadata": {},
   "outputs": [],
   "source": [
    "null_columns = df_train.columns[df_train.isnull().any()]\n",
    "df_train[null_columns].isnull().sum()"
   ]
  },
  {
   "cell_type": "code",
   "execution_count": null,
   "metadata": {},
   "outputs": [],
   "source": []
  },
  {
   "cell_type": "code",
   "execution_count": null,
   "metadata": {},
   "outputs": [],
   "source": []
  },
  {
   "cell_type": "code",
   "execution_count": null,
   "metadata": {},
   "outputs": [],
   "source": []
  },
  {
   "cell_type": "code",
   "execution_count": null,
   "metadata": {},
   "outputs": [],
   "source": [
    "null_columns = df_train.columns[df_train.isnull().any()]\n",
    "df_train[null_columns].isnull().sum()"
   ]
  },
  {
   "cell_type": "code",
   "execution_count": null,
   "metadata": {},
   "outputs": [],
   "source": [
    "df.dropna(subset=['gamestore_price'],inplace=True)"
   ]
  },
  {
   "cell_type": "code",
   "execution_count": null,
   "metadata": {},
   "outputs": [],
   "source": [
    "df.shape"
   ]
  },
  {
   "cell_type": "code",
   "execution_count": null,
   "metadata": {},
   "outputs": [],
   "source": []
  },
  {
   "cell_type": "code",
   "execution_count": null,
   "metadata": {},
   "outputs": [],
   "source": []
  },
  {
   "cell_type": "code",
   "execution_count": null,
   "metadata": {},
   "outputs": [],
   "source": []
  },
  {
   "cell_type": "code",
   "execution_count": null,
   "metadata": {},
   "outputs": [],
   "source": [
    "df.dropna(thresh=0,inplace=True)"
   ]
  },
  {
   "cell_type": "code",
   "execution_count": null,
   "metadata": {},
   "outputs": [],
   "source": []
  },
  {
   "cell_type": "code",
   "execution_count": null,
   "metadata": {},
   "outputs": [],
   "source": [
    "# storing unique value in a variable \n",
    "unique_value = df['gamestore_price'].nunique() \n",
    "  \n",
    "# printing value \n",
    "print(unique_value) "
   ]
  },
  {
   "cell_type": "code",
   "execution_count": null,
   "metadata": {},
   "outputs": [],
   "source": [
    "df['gamestore_price'].value_counts()"
   ]
  },
  {
   "cell_type": "code",
   "execution_count": null,
   "metadata": {},
   "outputs": [],
   "source": [
    "df['gamestore_price'].isnull().sum()"
   ]
  },
  {
   "cell_type": "code",
   "execution_count": null,
   "metadata": {},
   "outputs": [],
   "source": [
    "df.dropna(subset=['gamestore_price'],inplace=True)"
   ]
  },
  {
   "cell_type": "code",
   "execution_count": null,
   "metadata": {},
   "outputs": [],
   "source": [
    "df['gamestore_price'].isnull().sum()"
   ]
  },
  {
   "cell_type": "code",
   "execution_count": null,
   "metadata": {},
   "outputs": [],
   "source": [
    "df.shape"
   ]
  },
  {
   "cell_type": "code",
   "execution_count": null,
   "metadata": {},
   "outputs": [],
   "source": [
    "df_train.shape"
   ]
  },
  {
   "cell_type": "code",
   "execution_count": null,
   "metadata": {},
   "outputs": [],
   "source": [
    "sns.distplot(df['gamestore_price'])"
   ]
  },
  {
   "cell_type": "code",
   "execution_count": null,
   "metadata": {},
   "outputs": [],
   "source": []
  },
  {
   "cell_type": "code",
   "execution_count": null,
   "metadata": {},
   "outputs": [],
   "source": []
  },
  {
   "cell_type": "code",
   "execution_count": null,
   "metadata": {},
   "outputs": [],
   "source": []
  },
  {
   "cell_type": "code",
   "execution_count": null,
   "metadata": {},
   "outputs": [],
   "source": []
  },
  {
   "cell_type": "code",
   "execution_count": null,
   "metadata": {},
   "outputs": [],
   "source": []
  },
  {
   "cell_type": "code",
   "execution_count": null,
   "metadata": {},
   "outputs": [],
   "source": []
  },
  {
   "cell_type": "code",
   "execution_count": null,
   "metadata": {},
   "outputs": [],
   "source": []
  },
  {
   "cell_type": "code",
   "execution_count": null,
   "metadata": {},
   "outputs": [],
   "source": [
    "# storing unique value in a variable \n",
    "unique_value = df['Size'].nunique() \n",
    "  \n",
    "# printing value \n",
    "print(unique_value)"
   ]
  },
  {
   "cell_type": "code",
   "execution_count": null,
   "metadata": {},
   "outputs": [],
   "source": [
    "df['Size'].value_counts()"
   ]
  },
  {
   "cell_type": "code",
   "execution_count": null,
   "metadata": {},
   "outputs": [],
   "source": [
    "# storing unique value in a variable \n",
    "unique_value = df['User Rating Count'].nunique() \n",
    "  \n",
    "# printing value \n",
    "print(unique_value)"
   ]
  },
  {
   "cell_type": "code",
   "execution_count": null,
   "metadata": {},
   "outputs": [],
   "source": [
    "df['User Rating Count'].value_counts()"
   ]
  },
  {
   "cell_type": "code",
   "execution_count": null,
   "metadata": {},
   "outputs": [],
   "source": []
  },
  {
   "cell_type": "code",
   "execution_count": null,
   "metadata": {},
   "outputs": [],
   "source": []
  },
  {
   "cell_type": "code",
   "execution_count": null,
   "metadata": {},
   "outputs": [],
   "source": []
  },
  {
   "cell_type": "code",
   "execution_count": null,
   "metadata": {},
   "outputs": [],
   "source": []
  },
  {
   "cell_type": "code",
   "execution_count": null,
   "metadata": {},
   "outputs": [],
   "source": [
    "sns.boxplot(x=df['gamestore_price'])"
   ]
  },
  {
   "cell_type": "code",
   "execution_count": null,
   "metadata": {},
   "outputs": [],
   "source": [
    "sns.distplot(df['gamestore_price'])"
   ]
  },
  {
   "cell_type": "code",
   "execution_count": null,
   "metadata": {},
   "outputs": [],
   "source": [
    "df['gamestore_price'] = np.sqrt(df['gamestore_price'])"
   ]
  },
  {
   "cell_type": "code",
   "execution_count": null,
   "metadata": {},
   "outputs": [],
   "source": [
    "sns.distplot(df['gamestore_price'])"
   ]
  },
  {
   "cell_type": "code",
   "execution_count": null,
   "metadata": {},
   "outputs": [],
   "source": []
  },
  {
   "cell_type": "code",
   "execution_count": null,
   "metadata": {},
   "outputs": [],
   "source": []
  },
  {
   "cell_type": "code",
   "execution_count": null,
   "metadata": {},
   "outputs": [],
   "source": []
  },
  {
   "cell_type": "code",
   "execution_count": null,
   "metadata": {},
   "outputs": [],
   "source": []
  },
  {
   "cell_type": "code",
   "execution_count": null,
   "metadata": {},
   "outputs": [],
   "source": [
    "sns.distplot(df['Size'])"
   ]
  },
  {
   "cell_type": "code",
   "execution_count": null,
   "metadata": {},
   "outputs": [],
   "source": [
    "sns.distplot(df['Average User Rating'])"
   ]
  },
  {
   "cell_type": "code",
   "execution_count": null,
   "metadata": {},
   "outputs": [],
   "source": [
    "sns.distplot(df['User Rating Count'])"
   ]
  },
  {
   "cell_type": "code",
   "execution_count": null,
   "metadata": {},
   "outputs": [],
   "source": [
    "to_log = ['gamestore_price']\n",
    "df_log = df[to_log].applymap(lambda x: np.log(x+1))"
   ]
  },
  {
   "cell_type": "code",
   "execution_count": null,
   "metadata": {},
   "outputs": [],
   "source": [
    "df.columns"
   ]
  },
  {
   "cell_type": "code",
   "execution_count": null,
   "metadata": {},
   "outputs": [],
   "source": [
    "sns.distplot(df['gamestore_price'])"
   ]
  },
  {
   "cell_type": "code",
   "execution_count": null,
   "metadata": {},
   "outputs": [],
   "source": []
  }
 ],
 "metadata": {
  "kernelspec": {
   "display_name": "Python 3",
   "language": "python",
   "name": "python3"
  },
  "language_info": {
   "codemirror_mode": {
    "name": "ipython",
    "version": 3
   },
   "file_extension": ".py",
   "mimetype": "text/x-python",
   "name": "python",
   "nbconvert_exporter": "python",
   "pygments_lexer": "ipython3",
   "version": "3.7.9"
  }
 },
 "nbformat": 4,
 "nbformat_minor": 4
}
